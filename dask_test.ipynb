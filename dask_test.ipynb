{
 "cells": [
  {
   "cell_type": "code",
   "execution_count": 1,
   "metadata": {},
   "outputs": [
    {
     "data": {
      "text/html": [
       "<table style=\"border: 2px solid white;\">\n",
       "<tr>\n",
       "<td style=\"vertical-align: top; border: 0px solid white\">\n",
       "<h3 style=\"text-align: left;\">Client</h3>\n",
       "<ul style=\"text-align: left; list-style: none; margin: 0; padding: 0;\">\n",
       "  <li><b>Scheduler: </b>tcp://127.0.0.1:46454</li>\n",
       "  <li><b>Dashboard: </b><a href='http://127.0.0.1:8787/status' target='_blank'>http://127.0.0.1:8787/status</a>\n",
       "</ul>\n",
       "</td>\n",
       "<td style=\"vertical-align: top; border: 0px solid white\">\n",
       "<h3 style=\"text-align: left;\">Cluster</h3>\n",
       "<ul style=\"text-align: left; list-style:none; margin: 0; padding: 0;\">\n",
       "  <li><b>Workers: </b>5</li>\n",
       "  <li><b>Cores: </b>20</li>\n",
       "  <li><b>Memory: </b>49.03 GB</li>\n",
       "</ul>\n",
       "</td>\n",
       "</tr>\n",
       "</table>"
      ],
      "text/plain": [
       "<Client: 'tcp://127.0.0.1:46454' processes=5 threads=20, memory=49.03 GB>"
      ]
     },
     "execution_count": 1,
     "metadata": {},
     "output_type": "execute_result"
    }
   ],
   "source": [
    "from dask.distributed import Client, LocalCluster\n",
    "cluster = LocalCluster()\n",
    "client = Client(cluster)\n",
    "client"
   ]
  },
  {
   "cell_type": "code",
   "execution_count": 2,
   "metadata": {},
   "outputs": [
    {
     "ename": "ModuleNotFoundError",
     "evalue": "No module named 'lightgbm'",
     "output_type": "error",
     "traceback": [
      "\u001b[0;31m---------------------------------------------------------------------------\u001b[0m",
      "\u001b[0;31mModuleNotFoundError\u001b[0m                       Traceback (most recent call last)",
      "\u001b[0;32m<ipython-input-2-9dbef5b8bcab>\u001b[0m in \u001b[0;36m<module>\u001b[0;34m\u001b[0m\n\u001b[1;32m      2\u001b[0m \u001b[0;34m\u001b[0m\u001b[0m\n\u001b[1;32m      3\u001b[0m \u001b[0;32mimport\u001b[0m \u001b[0mdask\u001b[0m\u001b[0;34m\u001b[0m\u001b[0;34m\u001b[0m\u001b[0m\n\u001b[0;32m----> 4\u001b[0;31m \u001b[0;32mimport\u001b[0m \u001b[0mlightgbm\u001b[0m \u001b[0;32mas\u001b[0m \u001b[0mlgb\u001b[0m\u001b[0;34m\u001b[0m\u001b[0;34m\u001b[0m\u001b[0m\n\u001b[0m\u001b[1;32m      5\u001b[0m \u001b[0;32mimport\u001b[0m \u001b[0mxgboost\u001b[0m \u001b[0;32mas\u001b[0m \u001b[0mxgb\u001b[0m\u001b[0;34m\u001b[0m\u001b[0;34m\u001b[0m\u001b[0m\n\u001b[1;32m      6\u001b[0m \u001b[0;32mimport\u001b[0m \u001b[0mdask_xgboost\u001b[0m \u001b[0;32mas\u001b[0m \u001b[0mdxgb\u001b[0m\u001b[0;34m\u001b[0m\u001b[0;34m\u001b[0m\u001b[0m\n",
      "\u001b[0;31mModuleNotFoundError\u001b[0m: No module named 'lightgbm'"
     ]
    }
   ],
   "source": [
    "import uproot \n",
    "\n",
    "import dask\n",
    "import lightgbm as lgb\n",
    "import xgboost as xgb\n",
    "import dask_xgboost as dxgb\n",
    "\n",
    "# from root_pandas import to_root"
   ]
  },
  {
   "cell_type": "code",
   "execution_count": 11,
   "metadata": {},
   "outputs": [],
   "source": [
    "# test_model = xgb.Booster(model_file='./xgb_v1.fold0.json')\n",
    "# test_model = lgb.Booster(model_file='./test_campaign_v3_LGB_12Mar.fold0.txt')\n",
    "\n",
    "variables = ['pt_1',\n",
    "             'pt_2',\n",
    "             'jpt_1',\n",
    "             'jpt_2',\n",
    "             'dijetpt',\n",
    "             'jdeta',\n",
    "             'njets',\n",
    "             'm_fast',\n",
    "             'mjj',\n",
    "             'm_vis',\n",
    "             'puppimt_1',\n",
    "             'pt_tt',\n",
    "             'puppimet']"
   ]
  },
  {
   "cell_type": "code",
   "execution_count": 12,
   "metadata": {},
   "outputs": [],
   "source": [
    "def get_df(path_to_file, tree_name, variables):\n",
    "    branches = variables + ['evt']\n",
    "    data_tree = uproot.open(path_to_file)[tree_name]\n",
    "    data = data_tree.pandas.df(branches)\n",
    "    return data"
   ]
  },
  {
   "cell_type": "code",
   "execution_count": 15,
   "metadata": {},
   "outputs": [
    {
     "name": "stdout",
     "output_type": "stream",
     "text": [
      "CPU times: user 69.7 ms, sys: 68.2 ms, total: 138 ms\n",
      "Wall time: 151 ms\n"
     ]
    }
   ],
   "source": [
    "%%time\n",
    "file_name_list = ['mt-NOMINAL_ntuple_VV.root', 'mt-NOMINAL_ntuple_W.root', 'mt-NOMINAL_ntuple_data.root']\n",
    "inpath = '/nfs/dust/cms/user/rasp/storage/cardinia/2017/OutputDNN/March28/predictions_2017'\n",
    "predictions = []\n",
    "\n",
    "model = lgb.Booster(model_file='/nfs/dust/cms/user/filatovo/HTT/CMSSW_10_2_16/src/mlFramework/2017/models/test_campaign_v3_LGB_12Mar.fold0.txt')\n",
    "for i, file_name in enumerate(file_name_list):  \n",
    "    data = dask.delayed(get_df)(f'{inpath}/{file_name}', 'TauCheck', variables)\n",
    "    prediction = dask.delayed(model.predict)(data[variables])\n",
    "\n",
    "#     data = get_df(f'{inpath}/{file_name}', 'TauCheck', variables)\n",
    "#     prediction = model.predict(data[variables])\n",
    "#     model = lgb.Booster(model_file='./test_campaign_v3_LGB_12Mar.fold0.txt')\n",
    "\n",
    "\n",
    "#     data['prediction'] = prediction\n",
    "#     outdata = dask.delayed(pd.DataFrame)({'prediction': prediction[:, 0], 'evt': data.evt})\n",
    "#     to_root(outdata, 'pred_' + path_to_file.split('/')[-1])\n",
    "#     prediction = dask.delayed(get_prediction)(f'{inpath}/{file_name}', 'TauCheck', variables)\n",
    "\n",
    "    predictions.append(prediction)"
   ]
  },
  {
   "cell_type": "code",
   "execution_count": 16,
   "metadata": {},
   "outputs": [
    {
     "name": "stdout",
     "output_type": "stream",
     "text": [
      "CPU times: user 5min 26s, sys: 13.9 s, total: 5min 40s\n",
      "Wall time: 6min 49s\n"
     ]
    },
    {
     "data": {
      "text/plain": [
       "(array([[0.07991058, 0.32416185, 0.59592757],\n",
       "        [0.05765651, 0.20119068, 0.74115281],\n",
       "        [0.22967312, 0.70820837, 0.06211851],\n",
       "        ...,\n",
       "        [0.38958236, 0.01679166, 0.59362598],\n",
       "        [0.75812141, 0.0458879 , 0.19599069],\n",
       "        [0.20456678, 0.00376238, 0.79167084]]),\n",
       " array([[0.01928152, 0.07473523, 0.90598326],\n",
       "        [0.19996779, 0.74168561, 0.05834661],\n",
       "        [0.01528845, 0.01549293, 0.96921862],\n",
       "        ...,\n",
       "        [0.35572235, 0.12436674, 0.5199109 ],\n",
       "        [0.34407948, 0.00775667, 0.64816386],\n",
       "        [0.16370928, 0.5209432 , 0.31534752]]),\n",
       " array([[0.70493786, 0.13387827, 0.16118386],\n",
       "        [0.34197252, 0.5366635 , 0.12136397],\n",
       "        [0.11779588, 0.5544666 , 0.32773752],\n",
       "        ...,\n",
       "        [0.00353364, 0.01659693, 0.97986943],\n",
       "        [0.19789527, 0.71557279, 0.08653195],\n",
       "        [0.50069943, 0.23256188, 0.26673869]]))"
      ]
     },
     "execution_count": 16,
     "metadata": {},
     "output_type": "execute_result"
    }
   ],
   "source": [
    "%%time\n",
    "dask.compute(*predictions)"
   ]
  },
  {
   "cell_type": "code",
   "execution_count": 11,
   "metadata": {},
   "outputs": [
    {
     "data": {
      "image/png": "[encoded data removed]",
      "text/plain": [
       "<IPython.core.display.Image object>"
      ]
     },
     "execution_count": 11,
     "metadata": {},
     "output_type": "execute_result"
    }
   ],
   "source": [
    "predictions[1].visualize()"
   ]
  },
  {
   "cell_type": "code",
   "execution_count": null,
   "metadata": {},
   "outputs": [],
   "source": []
  }
 ],
 "metadata": {
  "kernelspec": {
   "display_name": "dask_datacards",
   "language": "python",
   "name": "dask_datacards"
  },
  "language_info": {
   "codemirror_mode": {
    "name": "ipython",
    "version": 3
   },
   "file_extension": ".py",
   "mimetype": "text/x-python",
   "name": "python",
   "nbconvert_exporter": "python",
   "pygments_lexer": "ipython3",
   "version": "3.6.8"
  }
 },
 "nbformat": 4,
 "nbformat_minor": 4
}
