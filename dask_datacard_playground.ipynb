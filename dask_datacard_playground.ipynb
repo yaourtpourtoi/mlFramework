{
 "cells": [
  {
   "cell_type": "code",
   "execution_count": 18,
   "metadata": {},
   "outputs": [
    {
     "name": "stderr",
     "output_type": "stream",
     "text": [
      "/home/yaourt/Study/ML/Dask_datacards/dask/lib/python3.8/site-packages/distributed/dashboard/core.py:79: UserWarning: \n",
      "Port 8787 is already in use. \n",
      "Perhaps you already have a cluster running?\n",
      "Hosting the diagnostics dashboard on a random port instead.\n",
      "  warnings.warn(\"\\n\" + msg)\n"
     ]
    },
    {
     "data": {
      "text/html": [
       "<table style=\"border: 2px solid white;\">\n",
       "<tr>\n",
       "<td style=\"vertical-align: top; border: 0px solid white\">\n",
       "<h3 style=\"text-align: left;\">Client</h3>\n",
       "<ul style=\"text-align: left; list-style: none; margin: 0; padding: 0;\">\n",
       "  <li><b>Scheduler: </b>tcp://127.0.0.1:45599</li>\n",
       "  <li><b>Dashboard: </b><a href='http://127.0.0.1:37017/status' target='_blank'>http://127.0.0.1:37017/status</a>\n",
       "</ul>\n",
       "</td>\n",
       "<td style=\"vertical-align: top; border: 0px solid white\">\n",
       "<h3 style=\"text-align: left;\">Cluster</h3>\n",
       "<ul style=\"text-align: left; list-style:none; margin: 0; padding: 0;\">\n",
       "  <li><b>Workers: </b>4</li>\n",
       "  <li><b>Cores: </b>4</li>\n",
       "  <li><b>Memory: </b>4.01 GB</li>\n",
       "</ul>\n",
       "</td>\n",
       "</tr>\n",
       "</table>"
      ],
      "text/plain": [
       "<Client: 'tcp://127.0.0.1:45599' processes=4 threads=4, memory=4.01 GB>"
      ]
     },
     "execution_count": 18,
     "metadata": {},
     "output_type": "execute_result"
    }
   ],
   "source": [
    "from dask.distributed import Client\n",
    "client = Client()\n",
    "client"
   ]
  },
  {
   "cell_type": "code",
   "execution_count": 2,
   "metadata": {},
   "outputs": [],
   "source": [
    "# agreement on versions!\n",
    "\n",
    "# from ROOT import TH1D, TFile, gROOT\n",
    "import uproot\n",
    "\n",
    "from dask import delayed\n",
    "import dask.dataframe as dd\n",
    "import dask.array as da\n",
    "\n",
    "import os\n",
    "import numpy as np\n",
    "import pandas as pd\n",
    "from matplotlib import pyplot as plt\n",
    "\n",
    "%matplotlib inline"
   ]
  },
  {
   "cell_type": "code",
   "execution_count": 2,
   "metadata": {},
   "outputs": [],
   "source": [
    "import types\n",
    "import uproot_methods.classes.TH1\n",
    "\n",
    "class MyTH1(uproot_methods.classes.TH1.Methods, list):\n",
    "    def __init__(self, low, high, values, title=\"\"):\n",
    "        self._fXaxis = types.SimpleNamespace()\n",
    "        self._fXaxis._fNbins = len(values)\n",
    "        self._fXaxis._fXmin = low\n",
    "        self._fXaxis._fXmax = high\n",
    "        for x in values:\n",
    "            self.append(float(x))\n",
    "        self._fTitle = title\n",
    "        self._classname = \"TH1F\"\n",
    "\n",
    "histogram = MyTH1(-5, 5, [0, 1, 1, 1, 1, 1, 1, 1, 1, 1, 1, 0])"
   ]
  },
  {
   "cell_type": "code",
   "execution_count": 3,
   "metadata": {},
   "outputs": [],
   "source": [
    "def create_folders(path_to_datacard, category_names, channel, DM_name, year):\n",
    "    if not os.path.exists(path_to_datacard):\n",
    "        os.mkdir(path_to_datacard)\n",
    "    for category_name in category_names:\n",
    "        dir_name = f'{channel}_{DM_name}_{category_name}_{year}'\n",
    "        if dir_name not in os.listdir(path_to_datacard):\n",
    "            os.mkdir(f'{path_to_datacard}/{dir_name}')"
   ]
  },
  {
   "cell_type": "markdown",
   "metadata": {},
   "source": [
    "### **Samples**"
   ]
  },
  {
   "cell_type": "code",
   "execution_count": 4,
   "metadata": {},
   "outputs": [],
   "source": [
    "path = '/nfs/dust/cms/user/filatovo/HTT/CMSSW_10_2_16/src/mlFramework/Dask_datacard'\n",
    "path_to_datacard = '/nfs/dust/cms/user/filatovo/HTT/CMSSW_10_2_16/src/mlFramework/Dask_datacard/my_first_datacard'\n",
    "# path_to_datacard = '/home/yaourt/Study/ML/Dask_datacards/my_first_datacard'\n",
    "\n",
    "### used in naming of folders in the datacard, as follows:\n",
    "### {channel}_{DM_name}_{category_name}_{year}\n",
    "year = '2018'\n",
    "channel = 'mt'\n",
    "\n",
    "sample_to_filename = {\n",
    "#                       'data_obs': 'mt-NOMINAL_ntuple_data.root',\n",
    "#                       'DY' : 'mt-NOMINAL_ntuple_DY.root',\n",
    "#                       'EMB': 'mt-NOMINAL_ntuple_EMB.root',\n",
    "#                       'ST' : 'mt-NOMINAL_ntuple_ST.root',\n",
    "#                       'TT' : 'mt-NOMINAL_ntuple_TT.root',\n",
    "                      'VV' : 'mt-NOMINAL_ntuple_VV.root',\n",
    "                      'W'  : 'mt-NOMINAL_ntuple_W.root',\n",
    "#                       'ggH': 'mt-NOMINAL_ntuple_ggH125.root',\n",
    "#                       'qqH': 'mt-NOMINAL_ntuple_qqH125.root',\n",
    "                     }"
   ]
  },
  {
   "cell_type": "code",
   "execution_count": 5,
   "metadata": {},
   "outputs": [],
   "source": [
    "tree_name = 'TauCheck'\n",
    "branches = [ # if a cut/weight is applied, corresponding variable should be included here\n",
    "            'predicted_class', 'predicted_prob', 'acotautau_refitbs_00', 'acotautau_refitbs_01',\n",
    "            'weight', 'gen_sm_htt125', 'gen_ps_htt125', 'gen_mm_htt125', 'ff_mva',\n",
    "            'gen_match_1', 'gen_match_2',\n",
    "            'dmMVA_2', 'pt_1', 'eta_1', 'pt_2', 'm_vis', 'puppimt_1', 'os', 'byMediumDeepTau2017v2p1VSjet_2', 'byVVVLooseDeepTau2017v2p1VSjet_2',\n",
    "            'IP_signif_RefitV_with_BS_1', 'IP_signif_RefitV_with_BS_2',\n",
    "           ]"
   ]
  },
  {
   "cell_type": "markdown",
   "metadata": {},
   "source": [
    "### **Categories**"
   ]
  },
  {
   "cell_type": "code",
   "execution_count": 6,
   "metadata": {},
   "outputs": [],
   "source": [
    "target_to_category = {\n",
    "                        0.: 'sig',\n",
    "                        1.: 'ztt',\n",
    "                        2.: 'fakes'\n",
    "                     }"
   ]
  },
  {
   "cell_type": "code",
   "execution_count": 7,
   "metadata": {},
   "outputs": [],
   "source": [
    "DM_var = 'dmMVA_2'\n",
    "DM_to_name = { # the others are ignored\n",
    "              -99.: 'inclusive', # -99 and 'inclusive' are used internally in the code\n",
    "                0.: 'mupi',\n",
    "                1.: 'murho',\n",
    "#                 2.: 'mua1pi0',\n",
    "                10.:'mua1',\n",
    "#                 11.:'mu11'\n",
    "              }\n",
    "\n",
    "category_to_DM = {\n",
    "                    'sig': ['mupi', 'murho', 'mua1'],\n",
    "                    'ztt': ['inclusive'], # should be a list\n",
    "                    'fakes': ['inclusive']\n",
    "              }"
   ]
  },
  {
   "cell_type": "code",
   "execution_count": 8,
   "metadata": {},
   "outputs": [],
   "source": [
    "category_to_observables = {\n",
    "                            'sig': ['predicted_prob', 'CP_angle'],\n",
    "                            'ztt': ['predicted_prob'],\n",
    "                            'fakes': ['predicted_prob'],\n",
    "                          }\n",
    "\n",
    "DM_to_CP_angle = {\n",
    "                    'mupi': 'acotautau_refitbs_00',\n",
    "                    'murho': 'acotautau_refitbs_01',\n",
    "                    'mua1': 'acotautau_refitbs_01',\n",
    "#                     'mua1pi0': 'acotautau_refitbs_01',\n",
    "#                     'mu11': 'acotautau_refitbs_01',\n",
    "                }"
   ]
  },
  {
   "cell_type": "code",
   "execution_count": 9,
   "metadata": {},
   "outputs": [],
   "source": [
    "# one doen't have to rerun the whole thing if the binning has been changed, just the last cells with loops over dataframe\n",
    "\n",
    "observable_to_bins = { # specify edges\n",
    "                       'predicted_prob': {\n",
    "                                         'sig': [0.0, 0.5, 0.7, 0.8, 1.0],\n",
    "                                         'ztt'  : [0.0, 0.5, 0.7, 0.8, 1.0],\n",
    "                                         'fakes': [0, 0.5, 1.],\n",
    "                                        },\n",
    "                       'acotautau_refitbs_00': dict.fromkeys(target_to_category.values(), np.linspace(0, 2*np.pi, 8)), \n",
    "                       'acotautau_refitbs_01': dict.fromkeys(target_to_category.values(), np.linspace(0, 2*np.pi, 8)), \n",
    "                     }"
   ]
  },
  {
   "cell_type": "markdown",
   "metadata": {},
   "source": [
    "### **Processes**"
   ]
  },
  {
   "cell_type": "code",
   "execution_count": 10,
   "metadata": {},
   "outputs": [],
   "source": [
    "gen_match_selection = '(gen_match_1 == 4 & gen_match_2 == 5)'\n",
    "is_not_genjet = '(gen_match_2 != 6)'\n",
    "process_to_samples = { # 'process_name': ([list of input_tuple_names], 'process_specific_selection')\n",
    "#                         'data_obs': (['data_obs'], None), \n",
    "#                         'ZTT': (['DY'], gen_match_selection),\n",
    "#                         'EMB': (['EMB'], gen_match_selection), \n",
    "#                         'ZLL': (['DY'], f'not {gen_match_selection}'),\n",
    "# #                         'ST' : (['ST'], None), \n",
    "#                         'TT' : (['TT'], None), \n",
    "                        'VV' : (['VV'], None), \n",
    "                        'W'  : (['W' ], None), \n",
    "#                         'ggH': (['ggH'], None), \n",
    "#                         'qqH': (['qqH'], None), \n",
    "# #                         'EWK': (['W', 'ST'], None),\n",
    "}"
   ]
  },
  {
   "cell_type": "code",
   "execution_count": 11,
   "metadata": {},
   "outputs": [],
   "source": [
    "process_to_subprocess = {\n",
    "                           'ggH': ['sm_htt125', 'ps_htt125', 'mm_htt125'],\n",
    "                           'qqH': ['sm_htt125', 'ps_htt125', 'mm_htt125'],\n",
    "                        }"
   ]
  },
  {
   "cell_type": "markdown",
   "metadata": {},
   "source": [
    "### **Weights**"
   ]
  },
  {
   "cell_type": "code",
   "execution_count": 12,
   "metadata": {},
   "outputs": [],
   "source": [
    "process_to_weight = dict.fromkeys(process_to_samples.keys(), ['weight']) # apply weight to all the processes\n",
    "subprocess_to_weight = {\n",
    "                          'sm_htt125': ['gen_sm_htt125'],\n",
    "                          'ps_htt125': ['gen_ps_htt125'],\n",
    "                          'mm_htt125': ['gen_mm_htt125'],\n",
    "                       }\n",
    "\n",
    "FF_weight = 'ff_mva'\n",
    "## it should be either ZTT or embedded!\n",
    "processes_for_FF = {'data_obs', 'EMB', 'ZLL', 'VV', 'TT', 'W'}"
   ]
  },
  {
   "cell_type": "markdown",
   "metadata": {},
   "source": [
    "### **Cuts**"
   ]
  },
  {
   "cell_type": "code",
   "execution_count": 13,
   "metadata": {},
   "outputs": [],
   "source": [
    "common_cuts  = '(pt_1 > 21) & (pt_2 > 20) & (os > 0.5) & (puppimt_1 < 50) & (m_vis > 40) & (abs(eta_1) < 2.1)'\n",
    "DM_to_cut = {\n",
    "                'mupi' : 'IP_signif_RefitV_with_BS_1 > 1.5 & IP_signif_RefitV_with_BS_2 > 1.5',\n",
    "                'murho': 'IP_signif_RefitV_with_BS_1 > 1.5',\n",
    "                'mua1' : 'IP_signif_RefitV_with_BS_1 > 1.5',\n",
    "                'inclusive': 'IP_signif_RefitV_with_BS_1 > 1.5',\n",
    "#                 'mua1pi0' : 'IP_signif_RefitV_with_BS_1 > 1.5',\n",
    "#                 'mu11' : 'IP_signif_RefitV_with_BS_1 > 1.5',\n",
    "}\n",
    "\n",
    "FF_cuts_SR = 'byMediumDeepTau2017v2p1VSjet_2 > 0.5'\n",
    "FF_cuts_AR = 'byMediumDeepTau2017v2p1VSjet_2 < 0.5 & byVVVLooseDeepTau2017v2p1VSjet_2 > 0.5'\n",
    "\n",
    "category_to_cuts = {}      \n",
    "process_to_cuts = {\n",
    "#                     'EMB': f'(weight < 1000) & {is_not_genjet}',\n",
    "#                     'ZTT': is_not_genjet,\n",
    "#                     'ZLL': is_not_genjet,\n",
    "# #                     'ST' : f'not {gen_match_selection} & {is_not_genjet}',\n",
    "#                     'TT' : f'not {gen_match_selection} & {is_not_genjet}',\n",
    "                    'W'  : f'not {gen_match_selection} & {is_not_genjet}',\n",
    "                    'VV' : f'not {gen_match_selection} & {is_not_genjet}',\n",
    "                }\n",
    "subprocess_to_cuts = {}"
   ]
  },
  {
   "cell_type": "markdown",
   "metadata": {},
   "source": [
    "### **Getting dataframes**"
   ]
  },
  {
   "cell_type": "code",
   "execution_count": 14,
   "metadata": {},
   "outputs": [
    {
     "name": "stdout",
     "output_type": "stream",
     "text": [
      "CPU times: user 434 ms, sys: 35.6 ms, total: 470 ms\n",
      "Wall time: 611 ms\n"
     ]
    }
   ],
   "source": [
    "%%time\n",
    "@delayed\n",
    "def get_df(path_to_file, sample_name, tree_name, branches):\n",
    "    data_tree = uproot.open(path_to_file)[tree_name]\n",
    "    df = data_tree.pandas.df(branches)\n",
    "    df['input_tuple'] = sample_name\n",
    "    return df\n",
    "\n",
    "dfs = [get_df(f'{path}/{sample_filename}', sample_name, tree_name, branches=branches) for sample_name, sample_filename in sample_to_filename.items()]\n",
    "bigboy_dasky = dd.from_delayed(dfs).reset_index()"
   ]
  },
  {
   "cell_type": "code",
   "execution_count": 15,
   "metadata": {},
   "outputs": [
    {
     "name": "stdout",
     "output_type": "stream",
     "text": [
      "CPU times: user 1.13 s, sys: 157 ms, total: 1.28 s\n",
      "Wall time: 1.12 s\n"
     ]
    }
   ],
   "source": [
    "%%time\n",
    "bigboy_dasky.compute().reset_index().to_feather('bigboy_dasky_feather')"
   ]
  },
  {
   "cell_type": "code",
   "execution_count": 71,
   "metadata": {},
   "outputs": [
    {
     "name": "stdout",
     "output_type": "stream",
     "text": [
      "\n",
      "\n",
      "---- Loading dataframes\n",
      "     > mt-NOMINAL_ntuple_VV.root\n",
      "     > mt-NOMINAL_ntuple_W.root\n",
      "\n",
      "---- Constructing bigboy\n",
      "CPU times: user 1.62 s, sys: 338 ms, total: 1.95 s\n",
      "Wall time: 2.29 s\n"
     ]
    }
   ],
   "source": [
    "%%time\n",
    "sample_to_dataframe = {}\n",
    "\n",
    "print(\"\\n\\n---- Loading dataframes\")\n",
    "for sample, sample_filename in sample_to_filename.items():\n",
    "    print(f'     > {sample_filename}')\n",
    "    data_tree = uproot.open(f'{path}/{sample_filename}')[tree_name]\n",
    "    dataframe = data_tree.pandas.df(branches) \n",
    "    dataframe['input_tuple'] = sample\n",
    "    sample_to_dataframe[sample] = dataframe\n",
    "        \n",
    "print(\"\\n---- Constructing bigboy\")    \n",
    "bigboy = pd.concat(sample_to_dataframe, axis=0, ignore_index=True)"
   ]
  },
  {
   "cell_type": "code",
   "execution_count": 72,
   "metadata": {},
   "outputs": [
    {
     "name": "stdout",
     "output_type": "stream",
     "text": [
      "CPU times: user 163 ms, sys: 72 ms, total: 235 ms\n",
      "Wall time: 277 ms\n"
     ]
    }
   ],
   "source": [
    "%%time\n",
    "bigboy.to_feather('bigboy_feather')"
   ]
  },
  {
   "cell_type": "markdown",
   "metadata": {},
   "source": [
    "### **benchmarking skimming**"
   ]
  },
  {
   "cell_type": "code",
   "execution_count": 17,
   "metadata": {},
   "outputs": [
    {
     "name": "stdout",
     "output_type": "stream",
     "text": [
      "CPU times: user 1min 47s, sys: 16.9 s, total: 2min 4s\n",
      "Wall time: 3min 28s\n"
     ]
    }
   ],
   "source": [
    "%%time\n",
    "bigboy.to_parquet('bigboy_fp.parquet.gzip', engine='fastparquet', compression='gzip')"
   ]
  },
  {
   "cell_type": "code",
   "execution_count": 18,
   "metadata": {},
   "outputs": [
    {
     "name": "stdout",
     "output_type": "stream",
     "text": [
      "CPU times: user 25 s, sys: 7.59 s, total: 32.6 s\n",
      "Wall time: 42 s\n"
     ]
    }
   ],
   "source": [
    "%%time\n",
    "bigboy = pd.read_parquet('bigboy_fp.parquet.gzip', engine='fastparquet')"
   ]
  },
  {
   "cell_type": "code",
   "execution_count": 19,
   "metadata": {},
   "outputs": [
    {
     "name": "stdout",
     "output_type": "stream",
     "text": [
      "CPU times: user 7.25 s, sys: 4.78 s, total: 12 s\n",
      "Wall time: 34.1 s\n"
     ]
    }
   ],
   "source": [
    "%%time\n",
    "bigboy.to_pickle('bigboy.pkl')"
   ]
  },
  {
   "cell_type": "code",
   "execution_count": 20,
   "metadata": {},
   "outputs": [
    {
     "name": "stdout",
     "output_type": "stream",
     "text": [
      "CPU times: user 3.13 s, sys: 5.13 s, total: 8.26 s\n",
      "Wall time: 26 s\n"
     ]
    }
   ],
   "source": [
    "%%time\n",
    "bigboy = pd.read_pickle('bigboy.pkl')"
   ]
  },
  {
   "cell_type": "code",
   "execution_count": 17,
   "metadata": {},
   "outputs": [
    {
     "name": "stdout",
     "output_type": "stream",
     "text": [
      "CPU times: user 3.95 s, sys: 1.85 s, total: 5.81 s\n",
      "Wall time: 32.2 s\n"
     ]
    }
   ],
   "source": [
    "%%time\n",
    "bigboy.to_feather('bigboy_feather')"
   ]
  },
  {
   "cell_type": "code",
   "execution_count": 14,
   "metadata": {},
   "outputs": [
    {
     "name": "stdout",
     "output_type": "stream",
     "text": [
      "CPU times: user 29.9 ms, sys: 56.4 ms, total: 86.3 ms\n",
      "Wall time: 146 ms\n"
     ]
    }
   ],
   "source": [
    "%%time\n",
    "bigboy = pd.read_feather('bigboy_feather')"
   ]
  },
  {
   "cell_type": "code",
   "execution_count": 15,
   "metadata": {},
   "outputs": [
    {
     "data": {
      "text/plain": [
       "(393250, 23)"
      ]
     },
     "execution_count": 15,
     "metadata": {},
     "output_type": "execute_result"
    }
   ],
   "source": [
    "bigboy.shape"
   ]
  },
  {
   "cell_type": "code",
   "execution_count": 15,
   "metadata": {},
   "outputs": [],
   "source": [
    "# %%time\n",
    "# bigboy.rename(columns={'level_0':'input_tuple'}, inplace=True)"
   ]
  },
  {
   "cell_type": "code",
   "execution_count": 16,
   "metadata": {},
   "outputs": [],
   "source": [
    "# bigboy.head()"
   ]
  },
  {
   "cell_type": "code",
   "execution_count": 17,
   "metadata": {},
   "outputs": [],
   "source": [
    "# bigboy.rename_axis(['input_tuple', 'event_id'], inplace=True)"
   ]
  },
  {
   "cell_type": "code",
   "execution_count": 18,
   "metadata": {},
   "outputs": [],
   "source": [
    "# bigboy.query('predicted_class == 1')"
   ]
  },
  {
   "cell_type": "code",
   "execution_count": 19,
   "metadata": {},
   "outputs": [],
   "source": [
    "# bigboy.loc['DY'].head()"
   ]
  },
  {
   "cell_type": "code",
   "execution_count": 20,
   "metadata": {},
   "outputs": [],
   "source": [
    "# bigboy.loc['ST'].head()"
   ]
  },
  {
   "cell_type": "markdown",
   "metadata": {},
   "source": [
    "### **Setting processes**"
   ]
  },
  {
   "cell_type": "code",
   "execution_count": 14,
   "metadata": {},
   "outputs": [
    {
     "name": "stdout",
     "output_type": "stream",
     "text": [
      "CPU times: user 1.11 s, sys: 2.86 s, total: 3.98 s\n",
      "Wall time: 24 s\n"
     ]
    }
   ],
   "source": [
    "%%time\n",
    "bigboy = pd.read_feather('/nfs/dust/cms/user/filatovo/HTT/CMSSW_10_2_16/src/mlFramework/Dask_datacard/bigboy_feather_full')"
   ]
  },
  {
   "cell_type": "code",
   "execution_count": 15,
   "metadata": {},
   "outputs": [
    {
     "name": "stdout",
     "output_type": "stream",
     "text": [
      "CPU times: user 1.84 s, sys: 963 ms, total: 2.8 s\n",
      "Wall time: 3 s\n"
     ]
    }
   ],
   "source": [
    "%%time\n",
    "bigboy['process'] = None\n",
    "for process_name, (sample_names, selection) in process_to_samples.items():    \n",
    "    mask = np.isin(bigboy['input_tuple'], sample_names)\n",
    "    if selection:\n",
    "        mask &= bigboy.eval(selection)\n",
    "    bigboy.loc[mask, 'process'] = process_name"
   ]
  },
  {
   "cell_type": "code",
   "execution_count": 20,
   "metadata": {},
   "outputs": [],
   "source": [
    "# can we do w/o it? takes time"
   ]
  },
  {
   "cell_type": "code",
   "execution_count": 21,
   "metadata": {},
   "outputs": [],
   "source": [
    "# %%time\n",
    "# bigboy.set_index('input_tuple', append=True, inplace=True)\n",
    "# bigboy.set_index('process', append=True, inplace=True)\n",
    "# bigboy.set_index('event_id', append=True, inplace=True)\n",
    "# bigboy = bigboy.droplevel(level=0)\n",
    "# # bigboy = bigboy.reorder_levels(['input_tuple', 'process', 'event_id'])"
   ]
  },
  {
   "cell_type": "markdown",
   "metadata": {},
   "source": [
    "### **Producing datacards**"
   ]
  },
  {
   "cell_type": "code",
   "execution_count": 16,
   "metadata": {},
   "outputs": [],
   "source": [
    "@delayed\n",
    "def make_datacard(data, observable_names, cuts, weight_names, category_name, process_name, subprocess_name, save=False): \n",
    "    \n",
    "    \n",
    "    if DM_number not in DM_to_name: continue\n",
    "    \n",
    "    datacard_params = make_datacard_params(category_target, DM_number, process_name)\n",
    "    if datacard_params:\n",
    "        cuts_SR, cuts_AR, weights_SR, weights_AR, observables, category_name = datacard_params \n",
    "    else:\n",
    "        continue\n",
    "        \n",
    "    bins = [observable_to_bins[observable][category_name] for observable in observable_names]\n",
    "    if cuts:\n",
    "        data = data.query(cuts)\n",
    "    weights = data[weight_names].prod(axis=1) if weight_names is not None else None    \n",
    "    if len(observable_names) == 1:\n",
    "        bins = bins[0]\n",
    "        x = data[observable_names].values.ravel()\n",
    "        H_array, xedges = np.histogram(x, bins=bins, weights=weights)\n",
    "#         H_array = np.insert(H_array, 0, 0)\n",
    "#         H_array = np.append(H_array, 0)\n",
    "#         H = MyTH1(bins[0], bins[1], H_array) \n",
    "    elif len(observable_names) == 2:\n",
    "        x = data[observable_names[0]]\n",
    "        y = data[observable_names[1]]\n",
    "        H_array, xedges, yedges = np.histogram2d(x, y, bins=bins, weights=weights)\n",
    "        H_array = H_array.ravel()\n",
    "        xedges = np.linspace(0, H_array.size, H_array.size+1)\n",
    "#         H_array = np.insert(H.ravel(), 0, 0)\n",
    "#         H_array = np.append(H_array, 0)\n",
    "#         H = MyTH1(0, H_array.size, H_array)\n",
    "    else:\n",
    "        print(f'Can\\'t make a datacard for >2D data for {category_name}:{process}:{subprocess_name} process')\n",
    "        return\n",
    "    if save:\n",
    "        hist_name = f'{process_name}_{subprocess_name}' if subprocess_name else process_name\n",
    "        file_name = f'{path_to_datacard}/{channel}_{DM_name}_{category_name}_{year}/{hist_name}.root'\n",
    "#         output_file = uproot.recreate(f'{path_to_datacard}/{channel}_{DM_name}_{category_name}_{year}/{hist_name}.root')\n",
    "#         output_file[hist_name] = H   \n",
    "#         hfile = gROOT.FindObject(file_name)\n",
    "#         if hfile:\n",
    "#             hfile.Close()\n",
    "        hfile = TFile(file_name, 'RECREATE')\n",
    "        hist = TH1D(hist_name, hist_name, len(xedges)-1, np.asarray(xedges, 'd'))\n",
    "        for i, x in enumerate(H_array, start=1):\n",
    "            hist.SetBinContent(i, x)\n",
    "        hist.Write()\n",
    "        hfile.Write()\n",
    "        hfile.Close()\n",
    "    return H_array"
   ]
  },
  {
   "cell_type": "code",
   "execution_count": 17,
   "metadata": {},
   "outputs": [],
   "source": [
    "def make_datacard_params(category_target, DM_number, process_name):\n",
    "    # categories\n",
    "    category_name = target_to_category[category_target]   \n",
    "    cuts = common_cuts\n",
    "    if category_name in category_to_cuts:\n",
    "        cuts += ' & ' + category_to_cuts[category_name]   \n",
    "        \n",
    "    # DMs         \n",
    "    if category_to_DM[category_name] == ['inclusive']:\n",
    "        DM_number = -99\n",
    "    DM_name = DM_to_name[DM_number]\n",
    "    if DM_name not in category_to_DM[category_name]: return\n",
    "#     print('\\n\\n'+ '*'*30)\n",
    "#     print(' '* 9 + f'{category_name}: {DM_name}')\n",
    "#     print('*'*30)\n",
    "    \n",
    "    create_folders(path_to_datacard, target_to_category.values(), channel, DM_name, year)\n",
    "    observables = category_to_observables[category_name]  \n",
    "    if 'CP_angle' in observables:\n",
    "        observables = np.char.replace(observables, 'CP_angle', DM_to_CP_angle[DM_name]).tolist()\n",
    "    if DM_name in DM_to_cut:\n",
    "        cuts += ' & ' + DM_to_cut[DM_name]\n",
    "            \n",
    "    # processes\n",
    "#     print(f'\\n---> Producing datacard for {category_name}: {process_name}')\n",
    "    if process_name in process_to_cuts:\n",
    "        cuts += ' & ' + process_to_cuts[process_name]\n",
    "\n",
    "    cuts_SR = cuts + ' & ' + FF_cuts_SR\n",
    "    cuts_AR = cuts + ' & ' + FF_cuts_AR\n",
    "    weights_SR = process_to_weight[process_name]\n",
    "    weights_AR = weights_SR + [FF_weight]\n",
    "    return cuts_SR, cuts_AR, weights_SR, weights_AR, observables, category_name"
   ]
  },
  {
   "cell_type": "code",
   "execution_count": 30,
   "metadata": {},
   "outputs": [
    {
     "name": "stdout",
     "output_type": "stream",
     "text": [
      "CPU times: user 4.86 s, sys: 5.54 s, total: 10.4 s\n",
      "Wall time: 32.5 s\n"
     ]
    }
   ],
   "source": [
    "%%time\n",
    "FF_datacards = {}\n",
    "\n",
    "a_list = []\n",
    "# categories\n",
    "groups = bigboy.groupby(['predicted_class', DM_var, 'process'])\n",
    "for (category_target, DM_number, process_name), data in groups:\n",
    "    if process_name not in process_to_subprocess:\n",
    "        a = make_datacard(data, observables, cuts_SR, weights_SR, category_name, process_name, subprocess_name=None, save=True)\n",
    "        if process_name in processes_for_FF:\n",
    "            FF_datacard = make_datacard(data, observables, cuts_AR, weights_AR, category_name, process_name, subprocess_name=None, save=False)\n",
    "            FF_datacards[process_name] = FF_datacard\n",
    "    else:\n",
    "        for subprocess_name in process_to_subprocess[process_name]:\n",
    "#             print(f'      > subprocess: {subprocess_name}')\n",
    "            subprocess_cuts_SR = cuts_SR\n",
    "            if subprocess_name in subprocess_to_cuts:\n",
    "                subprocess_cuts_SR += ' & ' + subprocess_to_cuts[subprocess_name]\n",
    "                \n",
    "            subprocess_weights_SR = weights_SR + subprocess_to_weight[subprocess_name]\n",
    "            a = make_datacard(data, observables, subprocess_cuts_SR, subprocess_weights_SR, category_name, process_name, subprocess_name, save=True)\n",
    "\n",
    "#         # fakes\n",
    "#         print(f'\\n---> Producing datacard for {category_name}: fakes')\n",
    "#         fakes_datacard = FF_datacards.pop('data_obs')\n",
    "#         for datacard in FF_datacards.values():\n",
    "#             fakes_datacard -= datacard\n",
    "\n",
    "#         hist_name = 'fakes'\n",
    "#         file_name = f'{path_to_datacard}/{channel}_{DM_name}_{category_name}_{year}/fakes.root'\n",
    "#         hfile = TFile(file_name, 'RECREATE')\n",
    "\n",
    "#         if(any(fakes_datacard) < 0):\n",
    "#             print(f'Careful! Got negative values in fakes template for {category_name}:{process_name}')\n",
    "#         if len(observables) == 1:\n",
    "#             bins = [observable_to_bins[observable][category_name] for observable in observables]   \n",
    "#             bins = bins[0]\n",
    "#             hist = TH1D(hist_name, hist_name, len(bins)-1, np.asarray(bins, 'd'))\n",
    "#         elif len(observables) == 2:\n",
    "#             hist = TH1D(hist_name, hist_name, fakes_datacard.size, 0, fakes_datacard.size)   \n",
    "#     #         output_file = uproot.recreate(f'{path_to_datacard}/{channel}_{DM_name}_{category_name}_{year}/{hist_name}.root')\n",
    "#     #         output_file[hist_name] = H   \n",
    "#     #         hfile = gROOT.FindObject(file_name)\n",
    "#     #         if hfile:\n",
    "#     #             hfile.Close()\n",
    "\n",
    "#         for i, x in enumerate(fakes_datacard, start=1):\n",
    "#             hist.SetBinContent(i, x)\n",
    "#         hist.Write()\n",
    "#         hfile.Write()\n",
    "#         hfile.Close()\n",
    "    a_list.append(a)"
   ]
  },
  {
   "cell_type": "code",
   "execution_count": 31,
   "metadata": {},
   "outputs": [
    {
     "ename": "NameError",
     "evalue": "name 'DM_name' is not defined",
     "output_type": "error",
     "traceback": [
      "\u001b[0;31m---------------------------------------------------------------------------\u001b[0m",
      "\u001b[0;31mNameError\u001b[0m                                 Traceback (most recent call last)",
      "\u001b[0;32m<timed exec>\u001b[0m in \u001b[0;36m<module>\u001b[0;34m\u001b[0m\n",
      "\u001b[0;32m<timed exec>\u001b[0m in \u001b[0;36m<listcomp>\u001b[0;34m(.0)\u001b[0m\n",
      "\u001b[0;32m/usr/local/lib/python3.6/site-packages/dask/base.py\u001b[0m in \u001b[0;36mcompute\u001b[0;34m(self, **kwargs)\u001b[0m\n\u001b[1;32m    163\u001b[0m         \u001b[0mdask\u001b[0m\u001b[0;34m.\u001b[0m\u001b[0mbase\u001b[0m\u001b[0;34m.\u001b[0m\u001b[0mcompute\u001b[0m\u001b[0;34m\u001b[0m\u001b[0;34m\u001b[0m\u001b[0m\n\u001b[1;32m    164\u001b[0m         \"\"\"\n\u001b[0;32m--> 165\u001b[0;31m         \u001b[0;34m(\u001b[0m\u001b[0mresult\u001b[0m\u001b[0;34m,\u001b[0m\u001b[0;34m)\u001b[0m \u001b[0;34m=\u001b[0m \u001b[0mcompute\u001b[0m\u001b[0;34m(\u001b[0m\u001b[0mself\u001b[0m\u001b[0;34m,\u001b[0m \u001b[0mtraverse\u001b[0m\u001b[0;34m=\u001b[0m\u001b[0;32mFalse\u001b[0m\u001b[0;34m,\u001b[0m \u001b[0;34m**\u001b[0m\u001b[0mkwargs\u001b[0m\u001b[0;34m)\u001b[0m\u001b[0;34m\u001b[0m\u001b[0;34m\u001b[0m\u001b[0m\n\u001b[0m\u001b[1;32m    166\u001b[0m         \u001b[0;32mreturn\u001b[0m \u001b[0mresult\u001b[0m\u001b[0;34m\u001b[0m\u001b[0;34m\u001b[0m\u001b[0m\n\u001b[1;32m    167\u001b[0m \u001b[0;34m\u001b[0m\u001b[0m\n",
      "\u001b[0;32m/usr/local/lib/python3.6/site-packages/dask/base.py\u001b[0m in \u001b[0;36mcompute\u001b[0;34m(*args, **kwargs)\u001b[0m\n\u001b[1;32m    434\u001b[0m     \u001b[0mkeys\u001b[0m \u001b[0;34m=\u001b[0m \u001b[0;34m[\u001b[0m\u001b[0mx\u001b[0m\u001b[0;34m.\u001b[0m\u001b[0m__dask_keys__\u001b[0m\u001b[0;34m(\u001b[0m\u001b[0;34m)\u001b[0m \u001b[0;32mfor\u001b[0m \u001b[0mx\u001b[0m \u001b[0;32min\u001b[0m \u001b[0mcollections\u001b[0m\u001b[0;34m]\u001b[0m\u001b[0;34m\u001b[0m\u001b[0;34m\u001b[0m\u001b[0m\n\u001b[1;32m    435\u001b[0m     \u001b[0mpostcomputes\u001b[0m \u001b[0;34m=\u001b[0m \u001b[0;34m[\u001b[0m\u001b[0mx\u001b[0m\u001b[0;34m.\u001b[0m\u001b[0m__dask_postcompute__\u001b[0m\u001b[0;34m(\u001b[0m\u001b[0;34m)\u001b[0m \u001b[0;32mfor\u001b[0m \u001b[0mx\u001b[0m \u001b[0;32min\u001b[0m \u001b[0mcollections\u001b[0m\u001b[0;34m]\u001b[0m\u001b[0;34m\u001b[0m\u001b[0;34m\u001b[0m\u001b[0m\n\u001b[0;32m--> 436\u001b[0;31m     \u001b[0mresults\u001b[0m \u001b[0;34m=\u001b[0m \u001b[0mschedule\u001b[0m\u001b[0;34m(\u001b[0m\u001b[0mdsk\u001b[0m\u001b[0;34m,\u001b[0m \u001b[0mkeys\u001b[0m\u001b[0;34m,\u001b[0m \u001b[0;34m**\u001b[0m\u001b[0mkwargs\u001b[0m\u001b[0;34m)\u001b[0m\u001b[0;34m\u001b[0m\u001b[0;34m\u001b[0m\u001b[0m\n\u001b[0m\u001b[1;32m    437\u001b[0m     \u001b[0;32mreturn\u001b[0m \u001b[0mrepack\u001b[0m\u001b[0;34m(\u001b[0m\u001b[0;34m[\u001b[0m\u001b[0mf\u001b[0m\u001b[0;34m(\u001b[0m\u001b[0mr\u001b[0m\u001b[0;34m,\u001b[0m \u001b[0;34m*\u001b[0m\u001b[0ma\u001b[0m\u001b[0;34m)\u001b[0m \u001b[0;32mfor\u001b[0m \u001b[0mr\u001b[0m\u001b[0;34m,\u001b[0m \u001b[0;34m(\u001b[0m\u001b[0mf\u001b[0m\u001b[0;34m,\u001b[0m \u001b[0ma\u001b[0m\u001b[0;34m)\u001b[0m \u001b[0;32min\u001b[0m \u001b[0mzip\u001b[0m\u001b[0;34m(\u001b[0m\u001b[0mresults\u001b[0m\u001b[0;34m,\u001b[0m \u001b[0mpostcomputes\u001b[0m\u001b[0;34m)\u001b[0m\u001b[0;34m]\u001b[0m\u001b[0;34m)\u001b[0m\u001b[0;34m\u001b[0m\u001b[0;34m\u001b[0m\u001b[0m\n\u001b[1;32m    438\u001b[0m \u001b[0;34m\u001b[0m\u001b[0m\n",
      "\u001b[0;32m/usr/local/lib/python3.6/site-packages/dask/threaded.py\u001b[0m in \u001b[0;36mget\u001b[0;34m(dsk, result, cache, num_workers, pool, **kwargs)\u001b[0m\n\u001b[1;32m     79\u001b[0m         \u001b[0mget_id\u001b[0m\u001b[0;34m=\u001b[0m\u001b[0m_thread_get_id\u001b[0m\u001b[0;34m,\u001b[0m\u001b[0;34m\u001b[0m\u001b[0;34m\u001b[0m\u001b[0m\n\u001b[1;32m     80\u001b[0m         \u001b[0mpack_exception\u001b[0m\u001b[0;34m=\u001b[0m\u001b[0mpack_exception\u001b[0m\u001b[0;34m,\u001b[0m\u001b[0;34m\u001b[0m\u001b[0;34m\u001b[0m\u001b[0m\n\u001b[0;32m---> 81\u001b[0;31m         \u001b[0;34m**\u001b[0m\u001b[0mkwargs\u001b[0m\u001b[0;34m\u001b[0m\u001b[0;34m\u001b[0m\u001b[0m\n\u001b[0m\u001b[1;32m     82\u001b[0m     )\n\u001b[1;32m     83\u001b[0m \u001b[0;34m\u001b[0m\u001b[0m\n",
      "\u001b[0;32m/usr/local/lib/python3.6/site-packages/dask/local.py\u001b[0m in \u001b[0;36mget_async\u001b[0;34m(apply_async, num_workers, dsk, result, cache, get_id, rerun_exceptions_locally, pack_exception, raise_exception, callbacks, dumps, loads, **kwargs)\u001b[0m\n\u001b[1;32m    484\u001b[0m                         \u001b[0m_execute_task\u001b[0m\u001b[0;34m(\u001b[0m\u001b[0mtask\u001b[0m\u001b[0;34m,\u001b[0m \u001b[0mdata\u001b[0m\u001b[0;34m)\u001b[0m  \u001b[0;31m# Re-execute locally\u001b[0m\u001b[0;34m\u001b[0m\u001b[0;34m\u001b[0m\u001b[0m\n\u001b[1;32m    485\u001b[0m                     \u001b[0;32melse\u001b[0m\u001b[0;34m:\u001b[0m\u001b[0;34m\u001b[0m\u001b[0;34m\u001b[0m\u001b[0m\n\u001b[0;32m--> 486\u001b[0;31m                         \u001b[0mraise_exception\u001b[0m\u001b[0;34m(\u001b[0m\u001b[0mexc\u001b[0m\u001b[0;34m,\u001b[0m \u001b[0mtb\u001b[0m\u001b[0;34m)\u001b[0m\u001b[0;34m\u001b[0m\u001b[0;34m\u001b[0m\u001b[0m\n\u001b[0m\u001b[1;32m    487\u001b[0m                 \u001b[0mres\u001b[0m\u001b[0;34m,\u001b[0m \u001b[0mworker_id\u001b[0m \u001b[0;34m=\u001b[0m \u001b[0mloads\u001b[0m\u001b[0;34m(\u001b[0m\u001b[0mres_info\u001b[0m\u001b[0;34m)\u001b[0m\u001b[0;34m\u001b[0m\u001b[0;34m\u001b[0m\u001b[0m\n\u001b[1;32m    488\u001b[0m                 \u001b[0mstate\u001b[0m\u001b[0;34m[\u001b[0m\u001b[0;34m\"cache\"\u001b[0m\u001b[0;34m]\u001b[0m\u001b[0;34m[\u001b[0m\u001b[0mkey\u001b[0m\u001b[0;34m]\u001b[0m \u001b[0;34m=\u001b[0m \u001b[0mres\u001b[0m\u001b[0;34m\u001b[0m\u001b[0;34m\u001b[0m\u001b[0m\n",
      "\u001b[0;32m/usr/local/lib/python3.6/site-packages/dask/local.py\u001b[0m in \u001b[0;36mreraise\u001b[0;34m(exc, tb)\u001b[0m\n\u001b[1;32m    314\u001b[0m     \u001b[0;32mif\u001b[0m \u001b[0mexc\u001b[0m\u001b[0;34m.\u001b[0m\u001b[0m__traceback__\u001b[0m \u001b[0;32mis\u001b[0m \u001b[0;32mnot\u001b[0m \u001b[0mtb\u001b[0m\u001b[0;34m:\u001b[0m\u001b[0;34m\u001b[0m\u001b[0;34m\u001b[0m\u001b[0m\n\u001b[1;32m    315\u001b[0m         \u001b[0;32mraise\u001b[0m \u001b[0mexc\u001b[0m\u001b[0;34m.\u001b[0m\u001b[0mwith_traceback\u001b[0m\u001b[0;34m(\u001b[0m\u001b[0mtb\u001b[0m\u001b[0;34m)\u001b[0m\u001b[0;34m\u001b[0m\u001b[0;34m\u001b[0m\u001b[0m\n\u001b[0;32m--> 316\u001b[0;31m     \u001b[0;32mraise\u001b[0m \u001b[0mexc\u001b[0m\u001b[0;34m\u001b[0m\u001b[0;34m\u001b[0m\u001b[0m\n\u001b[0m\u001b[1;32m    317\u001b[0m \u001b[0;34m\u001b[0m\u001b[0m\n\u001b[1;32m    318\u001b[0m \u001b[0;34m\u001b[0m\u001b[0m\n",
      "\u001b[0;32m/usr/local/lib/python3.6/site-packages/dask/local.py\u001b[0m in \u001b[0;36mexecute_task\u001b[0;34m(key, task_info, dumps, loads, get_id, pack_exception)\u001b[0m\n\u001b[1;32m    220\u001b[0m     \u001b[0;32mtry\u001b[0m\u001b[0;34m:\u001b[0m\u001b[0;34m\u001b[0m\u001b[0;34m\u001b[0m\u001b[0m\n\u001b[1;32m    221\u001b[0m         \u001b[0mtask\u001b[0m\u001b[0;34m,\u001b[0m \u001b[0mdata\u001b[0m \u001b[0;34m=\u001b[0m \u001b[0mloads\u001b[0m\u001b[0;34m(\u001b[0m\u001b[0mtask_info\u001b[0m\u001b[0;34m)\u001b[0m\u001b[0;34m\u001b[0m\u001b[0;34m\u001b[0m\u001b[0m\n\u001b[0;32m--> 222\u001b[0;31m         \u001b[0mresult\u001b[0m \u001b[0;34m=\u001b[0m \u001b[0m_execute_task\u001b[0m\u001b[0;34m(\u001b[0m\u001b[0mtask\u001b[0m\u001b[0;34m,\u001b[0m \u001b[0mdata\u001b[0m\u001b[0;34m)\u001b[0m\u001b[0;34m\u001b[0m\u001b[0;34m\u001b[0m\u001b[0m\n\u001b[0m\u001b[1;32m    223\u001b[0m         \u001b[0mid\u001b[0m \u001b[0;34m=\u001b[0m \u001b[0mget_id\u001b[0m\u001b[0;34m(\u001b[0m\u001b[0;34m)\u001b[0m\u001b[0;34m\u001b[0m\u001b[0;34m\u001b[0m\u001b[0m\n\u001b[1;32m    224\u001b[0m         \u001b[0mresult\u001b[0m \u001b[0;34m=\u001b[0m \u001b[0mdumps\u001b[0m\u001b[0;34m(\u001b[0m\u001b[0;34m(\u001b[0m\u001b[0mresult\u001b[0m\u001b[0;34m,\u001b[0m \u001b[0mid\u001b[0m\u001b[0;34m)\u001b[0m\u001b[0;34m)\u001b[0m\u001b[0;34m\u001b[0m\u001b[0;34m\u001b[0m\u001b[0m\n",
      "\u001b[0;32m/usr/local/lib/python3.6/site-packages/dask/core.py\u001b[0m in \u001b[0;36m_execute_task\u001b[0;34m(arg, cache, dsk)\u001b[0m\n\u001b[1;32m    117\u001b[0m         \u001b[0mfunc\u001b[0m\u001b[0;34m,\u001b[0m \u001b[0margs\u001b[0m \u001b[0;34m=\u001b[0m \u001b[0marg\u001b[0m\u001b[0;34m[\u001b[0m\u001b[0;36m0\u001b[0m\u001b[0;34m]\u001b[0m\u001b[0;34m,\u001b[0m \u001b[0marg\u001b[0m\u001b[0;34m[\u001b[0m\u001b[0;36m1\u001b[0m\u001b[0;34m:\u001b[0m\u001b[0;34m]\u001b[0m\u001b[0;34m\u001b[0m\u001b[0;34m\u001b[0m\u001b[0m\n\u001b[1;32m    118\u001b[0m         \u001b[0margs2\u001b[0m \u001b[0;34m=\u001b[0m \u001b[0;34m[\u001b[0m\u001b[0m_execute_task\u001b[0m\u001b[0;34m(\u001b[0m\u001b[0ma\u001b[0m\u001b[0;34m,\u001b[0m \u001b[0mcache\u001b[0m\u001b[0;34m)\u001b[0m \u001b[0;32mfor\u001b[0m \u001b[0ma\u001b[0m \u001b[0;32min\u001b[0m \u001b[0margs\u001b[0m\u001b[0;34m]\u001b[0m\u001b[0;34m\u001b[0m\u001b[0;34m\u001b[0m\u001b[0m\n\u001b[0;32m--> 119\u001b[0;31m         \u001b[0;32mreturn\u001b[0m \u001b[0mfunc\u001b[0m\u001b[0;34m(\u001b[0m\u001b[0;34m*\u001b[0m\u001b[0margs2\u001b[0m\u001b[0;34m)\u001b[0m\u001b[0;34m\u001b[0m\u001b[0;34m\u001b[0m\u001b[0m\n\u001b[0m\u001b[1;32m    120\u001b[0m     \u001b[0;32melif\u001b[0m \u001b[0;32mnot\u001b[0m \u001b[0mishashable\u001b[0m\u001b[0;34m(\u001b[0m\u001b[0marg\u001b[0m\u001b[0;34m)\u001b[0m\u001b[0;34m:\u001b[0m\u001b[0;34m\u001b[0m\u001b[0;34m\u001b[0m\u001b[0m\n\u001b[1;32m    121\u001b[0m         \u001b[0;32mreturn\u001b[0m \u001b[0marg\u001b[0m\u001b[0;34m\u001b[0m\u001b[0;34m\u001b[0m\u001b[0m\n",
      "\u001b[0;32m/usr/local/lib/python3.6/site-packages/dask/utils.py\u001b[0m in \u001b[0;36mapply\u001b[0;34m(func, args, kwargs)\u001b[0m\n\u001b[1;32m     27\u001b[0m \u001b[0;32mdef\u001b[0m \u001b[0mapply\u001b[0m\u001b[0;34m(\u001b[0m\u001b[0mfunc\u001b[0m\u001b[0;34m,\u001b[0m \u001b[0margs\u001b[0m\u001b[0;34m,\u001b[0m \u001b[0mkwargs\u001b[0m\u001b[0;34m=\u001b[0m\u001b[0;32mNone\u001b[0m\u001b[0;34m)\u001b[0m\u001b[0;34m:\u001b[0m\u001b[0;34m\u001b[0m\u001b[0;34m\u001b[0m\u001b[0m\n\u001b[1;32m     28\u001b[0m     \u001b[0;32mif\u001b[0m \u001b[0mkwargs\u001b[0m\u001b[0;34m:\u001b[0m\u001b[0;34m\u001b[0m\u001b[0;34m\u001b[0m\u001b[0m\n\u001b[0;32m---> 29\u001b[0;31m         \u001b[0;32mreturn\u001b[0m \u001b[0mfunc\u001b[0m\u001b[0;34m(\u001b[0m\u001b[0;34m*\u001b[0m\u001b[0margs\u001b[0m\u001b[0;34m,\u001b[0m \u001b[0;34m**\u001b[0m\u001b[0mkwargs\u001b[0m\u001b[0;34m)\u001b[0m\u001b[0;34m\u001b[0m\u001b[0;34m\u001b[0m\u001b[0m\n\u001b[0m\u001b[1;32m     30\u001b[0m     \u001b[0;32melse\u001b[0m\u001b[0;34m:\u001b[0m\u001b[0;34m\u001b[0m\u001b[0;34m\u001b[0m\u001b[0m\n\u001b[1;32m     31\u001b[0m         \u001b[0;32mreturn\u001b[0m \u001b[0mfunc\u001b[0m\u001b[0;34m(\u001b[0m\u001b[0;34m*\u001b[0m\u001b[0margs\u001b[0m\u001b[0;34m)\u001b[0m\u001b[0;34m\u001b[0m\u001b[0;34m\u001b[0m\u001b[0m\n",
      "\u001b[0;32m<ipython-input-15-7b7792320793>\u001b[0m in \u001b[0;36mmake_datacard\u001b[0;34m(data, observable_names, cuts, weight_names, category_name, process_name, subprocess_name, save)\u001b[0m\n\u001b[1;32m     26\u001b[0m     \u001b[0;32mif\u001b[0m \u001b[0msave\u001b[0m\u001b[0;34m:\u001b[0m\u001b[0;34m\u001b[0m\u001b[0;34m\u001b[0m\u001b[0m\n\u001b[1;32m     27\u001b[0m         \u001b[0mhist_name\u001b[0m \u001b[0;34m=\u001b[0m \u001b[0;34mf'{process_name}_{subprocess_name}'\u001b[0m \u001b[0;32mif\u001b[0m \u001b[0msubprocess_name\u001b[0m \u001b[0;32melse\u001b[0m \u001b[0mprocess_name\u001b[0m\u001b[0;34m\u001b[0m\u001b[0;34m\u001b[0m\u001b[0m\n\u001b[0;32m---> 28\u001b[0;31m         \u001b[0mfile_name\u001b[0m \u001b[0;34m=\u001b[0m \u001b[0;34mf'{path_to_datacard}/{channel}_{DM_name}_{category_name}_{year}/{hist_name}.root'\u001b[0m\u001b[0;34m\u001b[0m\u001b[0;34m\u001b[0m\u001b[0m\n\u001b[0m\u001b[1;32m     29\u001b[0m \u001b[0;31m#         output_file = uproot.recreate(f'{path_to_datacard}/{channel}_{DM_name}_{category_name}_{year}/{hist_name}.root')\u001b[0m\u001b[0;34m\u001b[0m\u001b[0;34m\u001b[0m\u001b[0;34m\u001b[0m\u001b[0m\n\u001b[1;32m     30\u001b[0m \u001b[0;31m#         output_file[hist_name] = H\u001b[0m\u001b[0;34m\u001b[0m\u001b[0;34m\u001b[0m\u001b[0;34m\u001b[0m\u001b[0m\n",
      "\u001b[0;31mNameError\u001b[0m: name 'DM_name' is not defined"
     ]
    }
   ],
   "source": [
    "%%time\n",
    "a_list = [a.compute() for a in a_list]"
   ]
  },
  {
   "cell_type": "code",
   "execution_count": 52,
   "metadata": {},
   "outputs": [
    {
     "data": {
      "text/plain": [
       "0"
      ]
     },
     "execution_count": 52,
     "metadata": {},
     "output_type": "execute_result"
    }
   ],
   "source": [
    "datacard_name = 'test_datacard'\n",
    "script_name = 'construct_datacard.sh'\n",
    "\n",
    "script = open(f'{path_to_datacard}/{script_name}', 'w')\n",
    "script.write('#!/bin/sh\\n')\n",
    "for _, DM_name in DM_to_name.items():\n",
    "    for _, category_name in target_to_category.items():\n",
    "        folder_name = f'{channel}_{DM_name}_{category_name}_{year}'\n",
    "        script.write(f'hadd {path_to_datacard}/{folder_name}.root {path_to_datacard}/{folder_name}/*.root\\n')\n",
    "        script.write(f'rootmkdir {datacard_name}_{DM_name}.root:{folder_name}\\n')\n",
    "        script.write(f'rootcp -r {folder_name}.root {datacard_name}_{DM_name}.root:{folder_name}\\n')\n",
    "    script.write('\\n')\n",
    "    \n",
    "script.write(f'\\nhadd {datacard_name}.root {datacard_name}*.root')\n",
    "script.close()\n",
    "os.system(f'chmod +x {path_to_datacard}/{script_name}')"
   ]
  },
  {
   "cell_type": "markdown",
   "metadata": {},
   "source": [
    "* hadd mt_mupi_sig_2017.root mt_mupi_sig_2017/*.root\n",
    "* hadd mt_mupi_ztt_2017.root mt_mupi_ztt_2017/*.root\n",
    "* hadd mt_mupi_fakes_2017.root mt_mupi_fakes_2017/*.root\n",
    "\n",
    "\n",
    "\n",
    "* rootmkdir test_datacard_mupi.root:mt_mupi_sig_2017\n",
    "* rootmkdir test_datacard_mupi.root:mt_mupi_ztt_2017\n",
    "* rootmkdir test_datacard_mupi.root:mt_mupi_fakes_2017\n",
    "\n",
    "\n",
    "\n",
    "* rootcp -r mt_mupi_sig_2017.root test_datacard_mupi.root:mt_mupi_sig_2017\n",
    "* rootcp -r mt_mupi_ztt_2017.root test_datacard_mupi.root:mt_mupi_ztt_2017\n",
    "* rootcp -r mt_mupi_fakes_2017.root test_datacard_mupi.root:mt_mupi_fakes_2017"
   ]
  },
  {
   "cell_type": "markdown",
   "metadata": {},
   "source": [
    "* hadd mt_murho_sig_2017.root mt_murho_sig_2017/*.root\n",
    "* hadd mt_murho_ztt_2017.root mt_murho_ztt_2017/*.root\n",
    "* hadd mt_murho_fakes_2017.root mt_murho_fakes_2017/*.root\n",
    "\n",
    "\n",
    "\n",
    "* rootmkdir test_datacard_rho.root:mt_murho_sig_2017\n",
    "* rootmkdir test_datacard_rho.root:mt_murho_ztt_2017\n",
    "* rootmkdir test_datacard_rho.root:mt_murho_fakes_2017\n",
    "\n",
    "\n",
    "\n",
    "* rootcp -r mt_murho_sig_2017.root test_datacard_rho.root:mt_murho_sig_2017\n",
    "* rootcp -r mt_murho_ztt_2017.root test_datacard_rho.root:mt_murho_ztt_2017\n",
    "* rootcp -r mt_murho_fakes_2017.root test_datacard_rho.root:mt_murho_fakes_2017"
   ]
  },
  {
   "cell_type": "markdown",
   "metadata": {},
   "source": [
    "* hadd mt_mua1_sig_2017.root mt_mua1_sig_2017/*.root\n",
    "* hadd mt_mua1_ztt_2017.root mt_mua1_ztt_2017/*.root\n",
    "* hadd mt_mua1_fakes_2017.root mt_mua1_fakes_2017/*.root\n",
    "\n",
    "\n",
    "\n",
    "* rootmkdir test_datacard_a1.root:mt_mua1_sig_2017\n",
    "* rootmkdir test_datacard_a1.root:mt_mua1_ztt_2017\n",
    "* rootmkdir test_datacard_a1.root:mt_mua1_fakes_2017\n",
    "\n",
    "\n",
    "\n",
    "* rootcp -r mt_mua1_sig_2017.root test_datacard_a1.root:mt_mua1_sig_2017\n",
    "* rootcp -r mt_mua1_ztt_2017.root test_datacard_a1.root:mt_mua1_ztt_2017\n",
    "* rootcp -r mt_mua1_fakes_2017.root test_datacard_a1.root:mt_mua1_fakes_2017"
   ]
  },
  {
   "cell_type": "markdown",
   "metadata": {},
   "source": [
    "### **Exploring bigboi**"
   ]
  },
  {
   "cell_type": "code",
   "execution_count": 42,
   "metadata": {},
   "outputs": [],
   "source": [
    "idx = pd.IndexSlice"
   ]
  },
  {
   "cell_type": "code",
   "execution_count": 68,
   "metadata": {},
   "outputs": [],
   "source": [
    "dd = bigboy.xs('W', level=1)\n",
    "# dd = dd.query('IP_signif_RefitV_with_BS_1 > 1 & IP_signif_RefitV_with_BS_1 < 10')"
   ]
  },
  {
   "cell_type": "code",
   "execution_count": 69,
   "metadata": {},
   "outputs": [
    {
     "data": {
      "text/plain": [
       "(array([200902., 112759.,   4795.,    368.,      0.,      0.,      0.,\n",
       "             0.,      0.,  32911.]),\n",
       " array([0.0148328 , 0.11334953, 0.21186624, 0.31038296, 0.4088997 ,\n",
       "        0.5074164 , 0.6059331 , 0.70444983, 0.80296654, 0.9014833 ,\n",
       "        1.        ], dtype=float32),\n",
       " <a list of 10 Patch objects>)"
      ]
     },
     "execution_count": 69,
     "metadata": {},
     "output_type": "execute_result"
    },
    {
     "data": {
      "image/png": "[encoded data removed]",
      "text/plain": [
       "<Figure size 432x288 with 1 Axes>"
      ]
     },
     "metadata": {
      "needs_background": "light"
     },
     "output_type": "display_data"
    }
   ],
   "source": [
    "plt.hist(dd['ff_nom'])"
   ]
  },
  {
   "cell_type": "code",
   "execution_count": null,
   "metadata": {},
   "outputs": [],
   "source": []
  },
  {
   "cell_type": "code",
   "execution_count": 55,
   "metadata": {},
   "outputs": [],
   "source": [
    "a = bigboy.loc['data_obs']"
   ]
  },
  {
   "cell_type": "code",
   "execution_count": 56,
   "metadata": {},
   "outputs": [],
   "source": [
    "a_cutted = a.query('(pt_1 > 21) & (pt_2 > 20) & (os > 0.5) & (puppimt_1 < 50) & (m_vis > 40) & (abs(eta_1) < 2.1) & (predicted_class == 1) & (IP_signif_RefitV_with_BS_1 > 1.5) & (byMediumDeepTau2017v2p1VSjet_2 > 0.5)')"
   ]
  },
  {
   "cell_type": "code",
   "execution_count": 57,
   "metadata": {},
   "outputs": [
    {
     "data": {
      "text/plain": [
       "(252064, 22)"
      ]
     },
     "execution_count": 57,
     "metadata": {},
     "output_type": "execute_result"
    }
   ],
   "source": [
    "a_cutted.shape"
   ]
  },
  {
   "cell_type": "markdown",
   "metadata": {},
   "source": [
    "### **Histograms**"
   ]
  },
  {
   "cell_type": "code",
   "execution_count": 24,
   "metadata": {},
   "outputs": [
    {
     "name": "stdout",
     "output_type": "stream",
     "text": [
      "CPU times: user 65.2 ms, sys: 22.1 ms, total: 87.3 ms\n",
      "Wall time: 65.9 ms\n"
     ]
    },
    {
     "data": {
      "text/html": [
       "<div>\n",
       "<style scoped>\n",
       "    .dataframe tbody tr th:only-of-type {\n",
       "        vertical-align: middle;\n",
       "    }\n",
       "\n",
       "    .dataframe tbody tr th {\n",
       "        vertical-align: top;\n",
       "    }\n",
       "\n",
       "    .dataframe thead th {\n",
       "        text-align: right;\n",
       "    }\n",
       "</style>\n",
       "<table border=\"1\" class=\"dataframe\">\n",
       "  <thead>\n",
       "    <tr style=\"text-align: right;\">\n",
       "      <th></th>\n",
       "      <th></th>\n",
       "      <th></th>\n",
       "      <th>acotautau_helix_00</th>\n",
       "      <th>predicted_prob</th>\n",
       "    </tr>\n",
       "    <tr>\n",
       "      <th>input_tuple</th>\n",
       "      <th>process</th>\n",
       "      <th>event_id</th>\n",
       "      <th></th>\n",
       "      <th></th>\n",
       "    </tr>\n",
       "  </thead>\n",
       "  <tbody>\n",
       "    <tr>\n",
       "      <th rowspan=\"11\" valign=\"top\">DY</th>\n",
       "      <th rowspan=\"11\" valign=\"top\">ZTT</th>\n",
       "      <th>3</th>\n",
       "      <td>0.292456</td>\n",
       "      <td>0.515085</td>\n",
       "    </tr>\n",
       "    <tr>\n",
       "      <th>5</th>\n",
       "      <td>4.915074</td>\n",
       "      <td>0.469844</td>\n",
       "    </tr>\n",
       "    <tr>\n",
       "      <th>7</th>\n",
       "      <td>2.021982</td>\n",
       "      <td>0.581782</td>\n",
       "    </tr>\n",
       "    <tr>\n",
       "      <th>8</th>\n",
       "      <td>3.969867</td>\n",
       "      <td>0.722098</td>\n",
       "    </tr>\n",
       "    <tr>\n",
       "      <th>10</th>\n",
       "      <td>3.897804</td>\n",
       "      <td>0.601390</td>\n",
       "    </tr>\n",
       "    <tr>\n",
       "      <th>...</th>\n",
       "      <td>...</td>\n",
       "      <td>...</td>\n",
       "    </tr>\n",
       "    <tr>\n",
       "      <th>606607</th>\n",
       "      <td>4.357669</td>\n",
       "      <td>0.729100</td>\n",
       "    </tr>\n",
       "    <tr>\n",
       "      <th>606608</th>\n",
       "      <td>4.492638</td>\n",
       "      <td>0.461158</td>\n",
       "    </tr>\n",
       "    <tr>\n",
       "      <th>606609</th>\n",
       "      <td>4.834198</td>\n",
       "      <td>0.557689</td>\n",
       "    </tr>\n",
       "    <tr>\n",
       "      <th>606610</th>\n",
       "      <td>0.604922</td>\n",
       "      <td>0.730460</td>\n",
       "    </tr>\n",
       "    <tr>\n",
       "      <th>606611</th>\n",
       "      <td>5.283485</td>\n",
       "      <td>0.679310</td>\n",
       "    </tr>\n",
       "  </tbody>\n",
       "</table>\n",
       "<p>396514 rows × 2 columns</p>\n",
       "</div>"
      ],
      "text/plain": [
       "                              acotautau_helix_00  predicted_prob\n",
       "input_tuple process event_id                                    \n",
       "DY          ZTT     3                   0.292456        0.515085\n",
       "                    5                   4.915074        0.469844\n",
       "                    7                   2.021982        0.581782\n",
       "                    8                   3.969867        0.722098\n",
       "                    10                  3.897804        0.601390\n",
       "...                                          ...             ...\n",
       "                    606607              4.357669        0.729100\n",
       "                    606608              4.492638        0.461158\n",
       "                    606609              4.834198        0.557689\n",
       "                    606610              0.604922        0.730460\n",
       "                    606611              5.283485        0.679310\n",
       "\n",
       "[396514 rows x 2 columns]"
      ]
     },
     "execution_count": 24,
     "metadata": {},
     "output_type": "execute_result"
    }
   ],
   "source": [
    "%%time\n",
    "bigboy.loc[idx[:, ['ZTT']], idx['acotautau_helix_00', 'predicted_prob']]"
   ]
  },
  {
   "cell_type": "code",
   "execution_count": 25,
   "metadata": {},
   "outputs": [],
   "source": [
    "hist_data = bigboy.xs('ZTT', level=1)[['predicted_prob', 'acotautau_helix_00']]"
   ]
  },
  {
   "cell_type": "code",
   "execution_count": 26,
   "metadata": {},
   "outputs": [
    {
     "data": {
      "text/plain": [
       "6.283182"
      ]
     },
     "execution_count": 26,
     "metadata": {},
     "output_type": "execute_result"
    }
   ],
   "source": [
    "hist_data.acotautau_helix_00.max()"
   ]
  },
  {
   "cell_type": "code",
   "execution_count": 28,
   "metadata": {},
   "outputs": [
    {
     "data": {
      "text/plain": [
       "<matplotlib.axes._subplots.AxesSubplot at 0x2ad34cc2a6d8>"
      ]
     },
     "execution_count": 28,
     "metadata": {},
     "output_type": "execute_result"
    },
    {
     "data": {
      "image/png": "[encoded data removed]",
      "text/plain": [
       "<Figure size 432x288 with 1 Axes>"
      ]
     },
     "metadata": {
      "needs_background": "light"
     },
     "output_type": "display_data"
    }
   ],
   "source": [
    "sns.distplot(hist_data.acotautau_helix_00.dropna())"
   ]
  },
  {
   "cell_type": "code",
   "execution_count": 32,
   "metadata": {},
   "outputs": [],
   "source": [
    "x,y = hist_data.predicted_prob, hist_data.acotautau_helix_00"
   ]
  },
  {
   "cell_type": "code",
   "execution_count": 35,
   "metadata": {},
   "outputs": [],
   "source": [
    "H, xedges, yedges = np.histogram2d(x,y, bins=list(observable_to_range_nbins.values()))"
   ]
  },
  {
   "cell_type": "code",
   "execution_count": 36,
   "metadata": {},
   "outputs": [
    {
     "data": {
      "text/plain": [
       "array([[19762., 15765., 14707., 14623., 15106., 24256.],\n",
       "       [47642., 36836., 33846., 33665., 35334., 58820.]])"
      ]
     },
     "execution_count": 36,
     "metadata": {},
     "output_type": "execute_result"
    }
   ],
   "source": [
    "H"
   ]
  },
  {
   "cell_type": "code",
   "execution_count": 37,
   "metadata": {},
   "outputs": [
    {
     "data": {
      "text/plain": [
       "array([19762., 15765., 14707., 14623., 15106., 24256., 47642., 36836.,\n",
       "       33846., 33665., 35334., 58820.])"
      ]
     },
     "execution_count": 37,
     "metadata": {},
     "output_type": "execute_result"
    }
   ],
   "source": [
    "H.ravel()"
   ]
  },
  {
   "cell_type": "code",
   "execution_count": 39,
   "metadata": {},
   "outputs": [
    {
     "data": {
      "text/plain": [
       "numpy.ndarray"
      ]
     },
     "execution_count": 39,
     "metadata": {},
     "output_type": "execute_result"
    }
   ],
   "source": [
    "type(H.ravel())"
   ]
  },
  {
   "cell_type": "code",
   "execution_count": 38,
   "metadata": {},
   "outputs": [
    {
     "data": {
      "text/plain": [
       "(array([4, 1, 1, 0, 3, 1, 0, 1, 0, 1]),\n",
       " array([14623. , 19042.7, 23462.4, 27882.1, 32301.8, 36721.5, 41141.2,\n",
       "        45560.9, 49980.6, 54400.3, 58820. ]))"
      ]
     },
     "execution_count": 38,
     "metadata": {},
     "output_type": "execute_result"
    }
   ],
   "source": [
    "np.histogram(H.ravel())"
   ]
  },
  {
   "cell_type": "code",
   "execution_count": 131,
   "metadata": {},
   "outputs": [
    {
     "data": {
      "text/plain": [
       "<matplotlib.colorbar.Colorbar at 0x2b3feb1e8cf8>"
      ]
     },
     "execution_count": 131,
     "metadata": {},
     "output_type": "execute_result"
    },
    {
     "data": {
      "image/png": "[encoded data removed]",
      "text/plain": [
       "<Figure size 1080x360 with 2 Axes>"
      ]
     },
     "metadata": {
      "needs_background": "light"
     },
     "output_type": "display_data"
    }
   ],
   "source": [
    "fig = plt.figure(figsize=(15, 5))\n",
    "ax = fig.add_subplot(132, title='pcolormesh: actual edges',\n",
    "        aspect='equal')\n",
    "X, Y = np.meshgrid(xedges, yedges)\n",
    "im = ax.pcolormesh(X, Y, H.T)\n",
    "fig.colorbar(im, ax=ax)"
   ]
  },
  {
   "cell_type": "code",
   "execution_count": null,
   "metadata": {},
   "outputs": [],
   "source": []
  }
 ],
 "metadata": {
  "kernelspec": {
   "display_name": "dask_datacards",
   "language": "python",
   "name": "dask_datacards"
  },
  "language_info": {
   "codemirror_mode": {
    "name": "ipython",
    "version": 3
   },
   "file_extension": ".py",
   "mimetype": "text/x-python",
   "name": "python",
   "nbconvert_exporter": "python",
   "pygments_lexer": "ipython3",
   "version": "3.6.8"
  }
 },
 "nbformat": 4,
 "nbformat_minor": 4
}
