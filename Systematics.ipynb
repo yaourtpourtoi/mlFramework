{
 "cells": [
  {
   "cell_type": "markdown",
   "metadata": {},
   "source": [
    "## List of systematics\n",
    "\n",
    "inputEventsH\n",
    "nWeightedEvents\n",
    "TauCheck\n",
    "GenTauCheck\n",
    "\n",
    "#### TES\n",
    "* TauCheck_CMS_shape_t_1prong_13TeV\n",
    "\n",
    "* TauCheck_CMS_shape_t_1prong1pi0_13TeV\n",
    "\n",
    "* TauCheck_CMS_shape_t_3prong_13TeV\n",
    "\n",
    "#### DY\n",
    "* TauCheck_CMS_shape_dyShape_13TeV\n",
    "\n",
    "#### top\n",
    "* TauCheck_topPtWeight\n",
    "\n",
    "#### MET\n",
    "* TauCheck_CMS_met_boson_resolution_13TeV\n",
    "\n",
    "* TauCheck_CMS_met_boson_response_13TeV\n",
    "\n",
    "#### JES\n",
    "* TauCheck_CMS_scale_j_FlavorQCD13TeV\n",
    "\n",
    "* TauCheck_CMS_scale_j_RelativeBal13TeV\n",
    "\n",
    "* TauCheck_CMS_scale_j_HF13TeV\n",
    "\n",
    "* TauCheck_CMS_scale_j_BBEC113TeV\n",
    "\n",
    "* TauCheck_CMS_scale_j_EC213TeV\n",
    "\n",
    "* TauCheck_CMS_scale_j_Absolute13TeV\n",
    "\n",
    "* TauCheck_CMS_scale_j_Absolute_201813TeV\n",
    "\n",
    "* TauCheck_CMS_scale_j_HF_201813TeV\n",
    "\n",
    "* TauCheck_CMS_scale_j_EC2_201813TeV\n",
    "\n",
    "* TauCheck_CMS_scale_j_RelativeSample_201813TeV\n",
    "\n",
    "* TauCheck_CMS_scale_j_BBEC1_201813TeV"
   ]
  },
  {
   "cell_type": "markdown",
   "metadata": {},
   "source": [
    "\n",
    "\n"
   ]
  },
  {
   "cell_type": "markdown",
   "metadata": {},
   "source": [
    "## **current**"
   ]
  },
  {
   "cell_type": "markdown",
   "metadata": {},
   "source": [
    "#### TES\n",
    "* TauCheck_CMS_shape_t_1prong_13TeV\n",
    "* TauCheck_CMS_shape_t_1prong1pi0_13TeV\n",
    "* TauCheck_CMS_shape_t_3prong_13TeV\n",
    "\n",
    "#### JES\n",
    "* TauCheck_CMS_scale_j_FlavorQCD13TeV\n",
    "* TauCheck_CMS_scale_j_RelativeBal13TeV\n",
    "* TauCheck_CMS_scale_j_HF13TeV\n",
    "* TauCheck_CMS_scale_j_BBEC113TeV\n",
    "* TauCheck_CMS_scale_j_EC213TeV\n",
    "* TauCheck_CMS_scale_j_Absolute13TeV\n",
    "* TauCheck_CMS_scale_j_Absolute_201813TeV\n",
    "* TauCheck_CMS_scale_j_HF_201813TeV\n",
    "* TauCheck_CMS_scale_j_EC2_201813TeV\n",
    "* TauCheck_CMS_scale_j_RelativeSample_201813TeV\n",
    "* TauCheck_CMS_scale_j_BBEC1_201813TeV"
   ]
  },
  {
   "cell_type": "code",
   "execution_count": 3,
   "metadata": {},
   "outputs": [],
   "source": [
    "from SystExplorer import SystExplorer\n",
    "import uproot\n",
    "\n",
    "import os\n",
    "import numpy as np\n",
    "import pandas as pd\n",
    "import seaborn as sns\n",
    "from matplotlib import pyplot as plt\n",
    "\n",
    "%matplotlib inline\n",
    "# sns.set(rc={'figure.figsize':(13.7,8.27)})"
   ]
  },
  {
   "cell_type": "code",
   "execution_count": 4,
   "metadata": {},
   "outputs": [],
   "source": [
    "systematic_to_vars = {\n",
    "\n",
    "#     'TauCheck_CMS_htt_boson_reso_met_13TeV'   : ['pt_1', 'pt_2', 'm_sv', 'm_vis', 'puppimet', 'puppimt_1',\n",
    "#                                                  'pt_tt',  'jpt_1', 'jpt_2', 'mjj', 'njets', 'dijetpt', 'jdeta',\n",
    "#                                                  'IP_signif_PV_with_BS_1', 'IP_signif_PV_with_BS_2', 'acotautau_refitbs_00'],\n",
    "#   \n",
    "#     'TauCheck_CMS_htt_boson_scale_met_13TeV'   : ['pt_1', 'pt_2', 'm_sv', 'm_vis', 'puppimet', 'puppimt_1',\n",
    "#                                                  'pt_tt',  'jpt_1', 'jpt_2', 'mjj', 'njets', 'dijetpt', 'jdeta',\n",
    "#                                                  'IP_signif_PV_with_BS_1', 'IP_signif_PV_with_BS_2', 'acotautau_refitbs_00'],\n",
    "    \n",
    "    \n",
    "    'TauCheck_CMS_scale_j_Absolute_2018_13TeV'   : ['pt_1', 'pt_2', 'm_sv', 'm_vis', 'puppimet', 'puppimt_1',\n",
    "                                                 'pt_tt',  'jpt_1', 'jpt_2', 'mjj', 'njets', 'dijetpt', 'jdeta',\n",
    "                                                 'IP_signif_PV_with_BS_1', 'IP_signif_PV_with_BS_2', 'acotautau_refitbs_00'],\n",
    "\n",
    "    'TauCheck_CMS_scale_met_unclustered_13TeV'   : ['pt_1', 'pt_2', 'm_sv', 'm_vis', 'puppimet', 'puppimt_1',\n",
    "                                                 'pt_tt',  'jpt_1', 'jpt_2', 'mjj', 'njets', 'dijetpt', 'jdeta',\n",
    "                                                 'IP_signif_PV_with_BS_1', 'IP_signif_PV_with_BS_2', 'acotautau_refitbs_00'],\n",
    "             \n",
    "    'TauCheck_CMS_res_j_13TeV'                   : ['pt_1', 'pt_2', 'm_sv', 'm_vis', 'puppimet', 'puppimt_1',\n",
    "                                                 'pt_tt',  'jpt_1', 'jpt_2', 'mjj', 'njets', 'dijetpt', 'jdeta',\n",
    "                                                 'IP_signif_PV_with_BS_1', 'IP_signif_PV_with_BS_2', 'acotautau_refitbs_00'\n",
    "                                                   ],\n",
    "    \n",
    "    'TauCheck_CMS_scale_mu_13TeV'              : ['pt_1', 'pt_2', 'm_sv', 'm_vis', 'puppimet', 'puppimt_1',\n",
    "                                                 'pt_tt',  'jpt_1', 'jpt_2', 'mjj', 'njets', 'dijetpt', 'jdeta',\n",
    "                                                 'IP_signif_PV_with_BS_1', 'IP_signif_PV_with_BS_2', 'acotautau_refitbs_00'],\n",
    "      \n",
    "    'TauCheck_CMS_scale_t_1prong1pizero_13TeV'   : ['pt_1', 'pt_2', 'm_sv', 'm_vis', 'puppimet', 'puppimt_1',\n",
    "                                                 'pt_tt',  'jpt_1', 'jpt_2', 'mjj', 'njets', 'dijetpt', 'jdeta',\n",
    "                                                 'IP_signif_PV_with_BS_1', 'IP_signif_PV_with_BS_2', 'acotautau_refitbs_00'\n",
    "                                                    ],\n",
    "}"
   ]
  },
  {
   "cell_type": "code",
   "execution_count": 5,
   "metadata": {},
   "outputs": [],
   "source": [
    "var_to_range_nbins = {\n",
    "                    'acotautau_refitbs_00': ([0, 2*np.pi], 20),\n",
    "                    'zptweight': ([0, 1], 20),\n",
    "    \n",
    "                    'puppimet': ([0, 200], 20),\n",
    "                    'puppimetphi': ([-3.15, 3.15], 20),\n",
    "                    'puppimt_1': ([0, 60], 20),\n",
    "    \n",
    "                    'pt_tt': ([0, 200], 20),\n",
    "                    'pt_1': ([20, 100], 20),\n",
    "                    'pt_2': ([20, 100], 20),\n",
    "    \n",
    "                    'm_sv': ([0, 200], 20),\n",
    "                    'm_vis': ([0, 200], 20),\n",
    "                    'mjj': ([0, 1000], 20),\n",
    "                    'dijetpt': ([0, 800], 20),\n",
    "                    'jdeta': ([-10, 10], 20),\n",
    "                    'jpt_1': ([0, 200], 20),\n",
    "                    'jpt_2': ([0, 100], 20),\n",
    "                    'bpt_1': ([0, 200], 20),\n",
    "                    'bpt_2': ([0, 200], 20),\n",
    "                    'njets': ([0, 8], 8),\n",
    "                    'nbtag': ([0, 4], 4), \n",
    "    \n",
    "                    'predicted_class': ([0, 3], 3),\n",
    "                    'predicted_prob': ([0, 1], 20),\n",
    "    \n",
    "                    'IP_signif_PV_with_BS_1': ([0, 10], 20),\n",
    "                    'IP_signif_PV_with_BS_2': ([0, 10], 20),\n",
    "}\n"
   ]
  },
  {
   "cell_type": "code",
   "execution_count": 6,
   "metadata": {},
   "outputs": [],
   "source": [
    "# path = '/nfs/dust/cms/user/filatovo/HTT/CMSSW_10_2_16/src/mlFramework/In_Tuples_2018/Tuples_14Feb'\n",
    "# path = '/nfs/dust/cms/user/rasp/HiggsCP/2018/DNN'\n",
    "path = '/nfs/dust/cms/user/cardinia/HtoTauTau/HiggsCP/DNN/Jan20/CMSSW_10_2_16/src/HiggsCP/Inputs/NTuples_mt_2017'\n",
    "\n",
    "out_plots_path = '/nfs/dust/cms/user/filatovo/HTT/CMSSW_10_2_16/src/mlFramework/systematics_plots/Tuples_14Feb/2018/DYJets'\n",
    "file_name = 'mt-NOMINAL_ntuple_DYJets_2017.root'"
   ]
  },
  {
   "cell_type": "markdown",
   "metadata": {},
   "source": [
    "\n",
    "\n"
   ]
  },
  {
   "cell_type": "markdown",
   "metadata": {},
   "source": [
    "## plotting loop"
   ]
  },
  {
   "cell_type": "code",
   "execution_count": 7,
   "metadata": {},
   "outputs": [],
   "source": [
    "explorer = SystExplorer(f'{path}/{file_name}')\n",
    "explorer.set_central_tree('TauCheck')"
   ]
  },
  {
   "cell_type": "code",
   "execution_count": 8,
   "metadata": {},
   "outputs": [
    {
     "name": "stdout",
     "output_type": "stream",
     "text": [
      "TauCheck\n",
      "TauCheck_CMS_scale_t_1prong_13TeVUp\n",
      "TauCheck_CMS_scale_t_1prong_13TeVDown\n",
      "TauCheck_CMS_scale_t_1prong1pizero_13TeVUp\n",
      "TauCheck_CMS_scale_t_1prong1pizero_13TeVDown\n",
      "TauCheck_CMS_scale_t_3prong_13TeVUp\n",
      "TauCheck_CMS_scale_t_3prong_13TeVDown\n",
      "TauCheck_CMS_scale_met_unclustered_13TeVUp\n",
      "TauCheck_CMS_scale_met_unclustered_13TeVDown\n",
      "TauCheck_CMS_scale_j_FlavorQCD_13TeVUp\n",
      "TauCheck_CMS_scale_j_FlavorQCD_13TeVDown\n",
      "TauCheck_CMS_scale_j_RelativeBal_13TeVUp\n",
      "TauCheck_CMS_scale_j_RelativeBal_13TeVDown\n",
      "TauCheck_CMS_scale_j_HF_13TeVUp\n",
      "TauCheck_CMS_scale_j_HF_13TeVDown\n",
      "TauCheck_CMS_scale_j_BBEC1_13TeVUp\n",
      "TauCheck_CMS_scale_j_BBEC1_13TeVDown\n",
      "TauCheck_CMS_scale_j_EC2_13TeVUp\n",
      "TauCheck_CMS_scale_j_EC2_13TeVDown\n",
      "TauCheck_CMS_scale_j_Absolute_13TeVUp\n",
      "TauCheck_CMS_scale_j_Absolute_13TeVDown\n",
      "TauCheck_CMS_scale_j_Absolute_2017_13TeVUp\n",
      "TauCheck_CMS_scale_j_Absolute_2017_13TeVDown\n",
      "TauCheck_CMS_scale_j_HF_2017_13TeVUp\n",
      "TauCheck_CMS_scale_j_HF_2017_13TeVDown\n",
      "TauCheck_CMS_scale_j_EC2_2017_13TeVUp\n",
      "TauCheck_CMS_scale_j_EC2_2017_13TeVDown\n",
      "TauCheck_CMS_scale_j_RelativeSample_2017_13TeVUp\n",
      "TauCheck_CMS_scale_j_RelativeSample_2017_13TeVDown\n",
      "TauCheck_CMS_scale_j_BBEC1_2017_13TeVUp\n",
      "TauCheck_CMS_scale_j_BBEC1_2017_13TeVDown\n",
      "TauCheck_CMS_scale_mu_13TeVUp\n",
      "TauCheck_CMS_scale_mu_13TeVDown\n",
      "TauCheck_CMS_res_j_13TeVUp\n",
      "TauCheck_CMS_res_j_13TeVDown\n"
     ]
    }
   ],
   "source": [
    "explorer.print_file_content()"
   ]
  },
  {
   "cell_type": "code",
   "execution_count": 109,
   "metadata": {},
   "outputs": [],
   "source": [
    "# explorer.tree_central.keys()"
   ]
  },
  {
   "cell_type": "code",
   "execution_count": 110,
   "metadata": {},
   "outputs": [],
   "source": [
    "# data = explorer.data_central\n",
    "# data.head()"
   ]
  },
  {
   "cell_type": "code",
   "execution_count": 111,
   "metadata": {},
   "outputs": [
    {
     "name": "stderr",
     "output_type": "stream",
     "text": [
      "/nfs/dust/cms/user/filatovo/HTT/CMSSW_10_2_16/src/mlFramework/SystExplorer.py:87: RuntimeWarning: invalid value encountered in true_divide\n",
      "  ratio_up = counts_up / counts\n",
      "/nfs/dust/cms/user/filatovo/HTT/CMSSW_10_2_16/src/mlFramework/SystExplorer.py:88: RuntimeWarning: invalid value encountered in true_divide\n",
      "  ratio_down = counts_down / counts\n",
      "/nfs/dust/cms/user/filatovo/HTT/CMSSW_10_2_16/src/mlFramework/SystExplorer.py:87: RuntimeWarning: invalid value encountered in true_divide\n",
      "  ratio_up = counts_up / counts\n",
      "/nfs/dust/cms/user/filatovo/HTT/CMSSW_10_2_16/src/mlFramework/SystExplorer.py:88: RuntimeWarning: invalid value encountered in true_divide\n",
      "  ratio_down = counts_down / counts\n",
      "/nfs/dust/cms/user/filatovo/HTT/CMSSW_10_2_16/src/mlFramework/SystExplorer.py:87: RuntimeWarning: invalid value encountered in true_divide\n",
      "  ratio_up = counts_up / counts\n",
      "/nfs/dust/cms/user/filatovo/HTT/CMSSW_10_2_16/src/mlFramework/SystExplorer.py:88: RuntimeWarning: invalid value encountered in true_divide\n",
      "  ratio_down = counts_down / counts\n",
      "/nfs/dust/cms/user/filatovo/HTT/CMSSW_10_2_16/src/mlFramework/SystExplorer.py:87: RuntimeWarning: invalid value encountered in true_divide\n",
      "  ratio_up = counts_up / counts\n",
      "/nfs/dust/cms/user/filatovo/HTT/CMSSW_10_2_16/src/mlFramework/SystExplorer.py:88: RuntimeWarning: invalid value encountered in true_divide\n",
      "  ratio_down = counts_down / counts\n",
      "/nfs/dust/cms/user/filatovo/HTT/CMSSW_10_2_16/src/mlFramework/SystExplorer.py:87: RuntimeWarning: invalid value encountered in true_divide\n",
      "  ratio_up = counts_up / counts\n",
      "/nfs/dust/cms/user/filatovo/HTT/CMSSW_10_2_16/src/mlFramework/SystExplorer.py:88: RuntimeWarning: invalid value encountered in true_divide\n",
      "  ratio_down = counts_down / counts\n",
      "/nfs/dust/cms/user/filatovo/HTT/CMSSW_10_2_16/src/mlFramework/SystExplorer.py:87: RuntimeWarning: invalid value encountered in true_divide\n",
      "  ratio_up = counts_up / counts\n",
      "/nfs/dust/cms/user/filatovo/HTT/CMSSW_10_2_16/src/mlFramework/SystExplorer.py:88: RuntimeWarning: invalid value encountered in true_divide\n",
      "  ratio_down = counts_down / counts\n",
      "/usr/local/lib64/python3.6/site-packages/numpy/lib/histograms.py:839: RuntimeWarning: invalid value encountered in greater_equal\n",
      "  keep = (tmp_a >= first_edge)\n",
      "/usr/local/lib64/python3.6/site-packages/numpy/lib/histograms.py:840: RuntimeWarning: invalid value encountered in less_equal\n",
      "  keep &= (tmp_a <= last_edge)\n",
      "/usr/local/lib64/python3.6/site-packages/numpy/lib/histograms.py:839: RuntimeWarning: invalid value encountered in greater_equal\n",
      "  keep = (tmp_a >= first_edge)\n",
      "/usr/local/lib64/python3.6/site-packages/numpy/lib/histograms.py:840: RuntimeWarning: invalid value encountered in less_equal\n",
      "  keep &= (tmp_a <= last_edge)\n",
      "/usr/local/lib64/python3.6/site-packages/numpy/lib/histograms.py:839: RuntimeWarning: invalid value encountered in greater_equal\n",
      "  keep = (tmp_a >= first_edge)\n",
      "/usr/local/lib64/python3.6/site-packages/numpy/lib/histograms.py:840: RuntimeWarning: invalid value encountered in less_equal\n",
      "  keep &= (tmp_a <= last_edge)\n",
      "/usr/local/lib64/python3.6/site-packages/numpy/lib/histograms.py:839: RuntimeWarning: invalid value encountered in greater_equal\n",
      "  keep = (tmp_a >= first_edge)\n",
      "/usr/local/lib64/python3.6/site-packages/numpy/lib/histograms.py:840: RuntimeWarning: invalid value encountered in less_equal\n",
      "  keep &= (tmp_a <= last_edge)\n",
      "/nfs/dust/cms/user/filatovo/HTT/CMSSW_10_2_16/src/mlFramework/SystExplorer.py:87: RuntimeWarning: invalid value encountered in true_divide\n",
      "  ratio_up = counts_up / counts\n",
      "/nfs/dust/cms/user/filatovo/HTT/CMSSW_10_2_16/src/mlFramework/SystExplorer.py:88: RuntimeWarning: invalid value encountered in true_divide\n",
      "  ratio_down = counts_down / counts\n",
      "/nfs/dust/cms/user/filatovo/HTT/CMSSW_10_2_16/src/mlFramework/SystExplorer.py:87: RuntimeWarning: invalid value encountered in true_divide\n",
      "  ratio_up = counts_up / counts\n",
      "/nfs/dust/cms/user/filatovo/HTT/CMSSW_10_2_16/src/mlFramework/SystExplorer.py:88: RuntimeWarning: invalid value encountered in true_divide\n",
      "  ratio_down = counts_down / counts\n",
      "/nfs/dust/cms/user/filatovo/HTT/CMSSW_10_2_16/src/mlFramework/SystExplorer.py:87: RuntimeWarning: invalid value encountered in true_divide\n",
      "  ratio_up = counts_up / counts\n",
      "/nfs/dust/cms/user/filatovo/HTT/CMSSW_10_2_16/src/mlFramework/SystExplorer.py:88: RuntimeWarning: invalid value encountered in true_divide\n",
      "  ratio_down = counts_down / counts\n",
      "/nfs/dust/cms/user/filatovo/HTT/CMSSW_10_2_16/src/mlFramework/SystExplorer.py:87: RuntimeWarning: invalid value encountered in true_divide\n",
      "  ratio_up = counts_up / counts\n",
      "/nfs/dust/cms/user/filatovo/HTT/CMSSW_10_2_16/src/mlFramework/SystExplorer.py:88: RuntimeWarning: invalid value encountered in true_divide\n",
      "  ratio_down = counts_down / counts\n",
      "/nfs/dust/cms/user/filatovo/HTT/CMSSW_10_2_16/src/mlFramework/SystExplorer.py:87: RuntimeWarning: invalid value encountered in true_divide\n",
      "  ratio_up = counts_up / counts\n",
      "/nfs/dust/cms/user/filatovo/HTT/CMSSW_10_2_16/src/mlFramework/SystExplorer.py:88: RuntimeWarning: invalid value encountered in true_divide\n",
      "  ratio_down = counts_down / counts\n",
      "/nfs/dust/cms/user/filatovo/HTT/CMSSW_10_2_16/src/mlFramework/SystExplorer.py:87: RuntimeWarning: invalid value encountered in true_divide\n",
      "  ratio_up = counts_up / counts\n",
      "/nfs/dust/cms/user/filatovo/HTT/CMSSW_10_2_16/src/mlFramework/SystExplorer.py:88: RuntimeWarning: invalid value encountered in true_divide\n",
      "  ratio_down = counts_down / counts\n",
      "/usr/local/lib64/python3.6/site-packages/numpy/lib/histograms.py:839: RuntimeWarning: invalid value encountered in greater_equal\n",
      "  keep = (tmp_a >= first_edge)\n",
      "/usr/local/lib64/python3.6/site-packages/numpy/lib/histograms.py:840: RuntimeWarning: invalid value encountered in less_equal\n",
      "  keep &= (tmp_a <= last_edge)\n",
      "/usr/local/lib64/python3.6/site-packages/numpy/lib/histograms.py:839: RuntimeWarning: invalid value encountered in greater_equal\n",
      "  keep = (tmp_a >= first_edge)\n",
      "/usr/local/lib64/python3.6/site-packages/numpy/lib/histograms.py:840: RuntimeWarning: invalid value encountered in less_equal\n",
      "  keep &= (tmp_a <= last_edge)\n",
      "/usr/local/lib64/python3.6/site-packages/numpy/lib/histograms.py:839: RuntimeWarning: invalid value encountered in greater_equal\n",
      "  keep = (tmp_a >= first_edge)\n",
      "/usr/local/lib64/python3.6/site-packages/numpy/lib/histograms.py:840: RuntimeWarning: invalid value encountered in less_equal\n",
      "  keep &= (tmp_a <= last_edge)\n",
      "/usr/local/lib64/python3.6/site-packages/numpy/lib/histograms.py:839: RuntimeWarning: invalid value encountered in greater_equal\n",
      "  keep = (tmp_a >= first_edge)\n",
      "/usr/local/lib64/python3.6/site-packages/numpy/lib/histograms.py:840: RuntimeWarning: invalid value encountered in less_equal\n",
      "  keep &= (tmp_a <= last_edge)\n",
      "/nfs/dust/cms/user/filatovo/HTT/CMSSW_10_2_16/src/mlFramework/SystExplorer.py:87: RuntimeWarning: invalid value encountered in true_divide\n",
      "  ratio_up = counts_up / counts\n",
      "/nfs/dust/cms/user/filatovo/HTT/CMSSW_10_2_16/src/mlFramework/SystExplorer.py:88: RuntimeWarning: invalid value encountered in true_divide\n",
      "  ratio_down = counts_down / counts\n",
      "/nfs/dust/cms/user/filatovo/HTT/CMSSW_10_2_16/src/mlFramework/SystExplorer.py:87: RuntimeWarning: invalid value encountered in true_divide\n",
      "  ratio_up = counts_up / counts\n",
      "/nfs/dust/cms/user/filatovo/HTT/CMSSW_10_2_16/src/mlFramework/SystExplorer.py:88: RuntimeWarning: invalid value encountered in true_divide\n",
      "  ratio_down = counts_down / counts\n",
      "/nfs/dust/cms/user/filatovo/HTT/CMSSW_10_2_16/src/mlFramework/SystExplorer.py:87: RuntimeWarning: invalid value encountered in true_divide\n",
      "  ratio_up = counts_up / counts\n",
      "/nfs/dust/cms/user/filatovo/HTT/CMSSW_10_2_16/src/mlFramework/SystExplorer.py:88: RuntimeWarning: invalid value encountered in true_divide\n",
      "  ratio_down = counts_down / counts\n",
      "/nfs/dust/cms/user/filatovo/HTT/CMSSW_10_2_16/src/mlFramework/SystExplorer.py:87: RuntimeWarning: invalid value encountered in true_divide\n",
      "  ratio_up = counts_up / counts\n",
      "/nfs/dust/cms/user/filatovo/HTT/CMSSW_10_2_16/src/mlFramework/SystExplorer.py:88: RuntimeWarning: invalid value encountered in true_divide\n",
      "  ratio_down = counts_down / counts\n",
      "/nfs/dust/cms/user/filatovo/HTT/CMSSW_10_2_16/src/mlFramework/SystExplorer.py:87: RuntimeWarning: invalid value encountered in true_divide\n",
      "  ratio_up = counts_up / counts\n",
      "/nfs/dust/cms/user/filatovo/HTT/CMSSW_10_2_16/src/mlFramework/SystExplorer.py:88: RuntimeWarning: invalid value encountered in true_divide\n",
      "  ratio_down = counts_down / counts\n",
      "/nfs/dust/cms/user/filatovo/HTT/CMSSW_10_2_16/src/mlFramework/SystExplorer.py:87: RuntimeWarning: invalid value encountered in true_divide\n",
      "  ratio_up = counts_up / counts\n",
      "/nfs/dust/cms/user/filatovo/HTT/CMSSW_10_2_16/src/mlFramework/SystExplorer.py:88: RuntimeWarning: invalid value encountered in true_divide\n",
      "  ratio_down = counts_down / counts\n",
      "/usr/local/lib64/python3.6/site-packages/numpy/lib/histograms.py:839: RuntimeWarning: invalid value encountered in greater_equal\n",
      "  keep = (tmp_a >= first_edge)\n",
      "/usr/local/lib64/python3.6/site-packages/numpy/lib/histograms.py:840: RuntimeWarning: invalid value encountered in less_equal\n",
      "  keep &= (tmp_a <= last_edge)\n",
      "/usr/local/lib64/python3.6/site-packages/numpy/lib/histograms.py:839: RuntimeWarning: invalid value encountered in greater_equal\n",
      "  keep = (tmp_a >= first_edge)\n",
      "/usr/local/lib64/python3.6/site-packages/numpy/lib/histograms.py:840: RuntimeWarning: invalid value encountered in less_equal\n",
      "  keep &= (tmp_a <= last_edge)\n",
      "/usr/local/lib64/python3.6/site-packages/numpy/lib/histograms.py:839: RuntimeWarning: invalid value encountered in greater_equal\n",
      "  keep = (tmp_a >= first_edge)\n",
      "/usr/local/lib64/python3.6/site-packages/numpy/lib/histograms.py:840: RuntimeWarning: invalid value encountered in less_equal\n",
      "  keep &= (tmp_a <= last_edge)\n",
      "/usr/local/lib64/python3.6/site-packages/numpy/lib/histograms.py:839: RuntimeWarning: invalid value encountered in greater_equal\n",
      "  keep = (tmp_a >= first_edge)\n",
      "/usr/local/lib64/python3.6/site-packages/numpy/lib/histograms.py:840: RuntimeWarning: invalid value encountered in less_equal\n",
      "  keep &= (tmp_a <= last_edge)\n",
      "/nfs/dust/cms/user/filatovo/HTT/CMSSW_10_2_16/src/mlFramework/SystExplorer.py:87: RuntimeWarning: invalid value encountered in true_divide\n",
      "  ratio_up = counts_up / counts\n",
      "/nfs/dust/cms/user/filatovo/HTT/CMSSW_10_2_16/src/mlFramework/SystExplorer.py:88: RuntimeWarning: invalid value encountered in true_divide\n",
      "  ratio_down = counts_down / counts\n",
      "/nfs/dust/cms/user/filatovo/HTT/CMSSW_10_2_16/src/mlFramework/SystExplorer.py:87: RuntimeWarning: invalid value encountered in true_divide\n",
      "  ratio_up = counts_up / counts\n",
      "/nfs/dust/cms/user/filatovo/HTT/CMSSW_10_2_16/src/mlFramework/SystExplorer.py:88: RuntimeWarning: invalid value encountered in true_divide\n",
      "  ratio_down = counts_down / counts\n",
      "/nfs/dust/cms/user/filatovo/HTT/CMSSW_10_2_16/src/mlFramework/SystExplorer.py:87: RuntimeWarning: invalid value encountered in true_divide\n",
      "  ratio_up = counts_up / counts\n",
      "/nfs/dust/cms/user/filatovo/HTT/CMSSW_10_2_16/src/mlFramework/SystExplorer.py:88: RuntimeWarning: invalid value encountered in true_divide\n",
      "  ratio_down = counts_down / counts\n",
      "/nfs/dust/cms/user/filatovo/HTT/CMSSW_10_2_16/src/mlFramework/SystExplorer.py:87: RuntimeWarning: invalid value encountered in true_divide\n",
      "  ratio_up = counts_up / counts\n",
      "/nfs/dust/cms/user/filatovo/HTT/CMSSW_10_2_16/src/mlFramework/SystExplorer.py:88: RuntimeWarning: invalid value encountered in true_divide\n",
      "  ratio_down = counts_down / counts\n",
      "/nfs/dust/cms/user/filatovo/HTT/CMSSW_10_2_16/src/mlFramework/SystExplorer.py:87: RuntimeWarning: invalid value encountered in true_divide\n",
      "  ratio_up = counts_up / counts\n",
      "/nfs/dust/cms/user/filatovo/HTT/CMSSW_10_2_16/src/mlFramework/SystExplorer.py:88: RuntimeWarning: invalid value encountered in true_divide\n",
      "  ratio_down = counts_down / counts\n",
      "/nfs/dust/cms/user/filatovo/HTT/CMSSW_10_2_16/src/mlFramework/SystExplorer.py:87: RuntimeWarning: invalid value encountered in true_divide\n",
      "  ratio_up = counts_up / counts\n",
      "/nfs/dust/cms/user/filatovo/HTT/CMSSW_10_2_16/src/mlFramework/SystExplorer.py:88: RuntimeWarning: invalid value encountered in true_divide\n",
      "  ratio_down = counts_down / counts\n",
      "/usr/local/lib64/python3.6/site-packages/numpy/lib/histograms.py:839: RuntimeWarning: invalid value encountered in greater_equal\n",
      "  keep = (tmp_a >= first_edge)\n",
      "/usr/local/lib64/python3.6/site-packages/numpy/lib/histograms.py:840: RuntimeWarning: invalid value encountered in less_equal\n",
      "  keep &= (tmp_a <= last_edge)\n",
      "/usr/local/lib64/python3.6/site-packages/numpy/lib/histograms.py:839: RuntimeWarning: invalid value encountered in greater_equal\n",
      "  keep = (tmp_a >= first_edge)\n",
      "/usr/local/lib64/python3.6/site-packages/numpy/lib/histograms.py:840: RuntimeWarning: invalid value encountered in less_equal\n",
      "  keep &= (tmp_a <= last_edge)\n",
      "/usr/local/lib64/python3.6/site-packages/numpy/lib/histograms.py:839: RuntimeWarning: invalid value encountered in greater_equal\n",
      "  keep = (tmp_a >= first_edge)\n",
      "/usr/local/lib64/python3.6/site-packages/numpy/lib/histograms.py:840: RuntimeWarning: invalid value encountered in less_equal\n",
      "  keep &= (tmp_a <= last_edge)\n",
      "/usr/local/lib64/python3.6/site-packages/numpy/lib/histograms.py:839: RuntimeWarning: invalid value encountered in greater_equal\n",
      "  keep = (tmp_a >= first_edge)\n",
      "/usr/local/lib64/python3.6/site-packages/numpy/lib/histograms.py:840: RuntimeWarning: invalid value encountered in less_equal\n",
      "  keep &= (tmp_a <= last_edge)\n",
      "/nfs/dust/cms/user/filatovo/HTT/CMSSW_10_2_16/src/mlFramework/SystExplorer.py:87: RuntimeWarning: invalid value encountered in true_divide\n",
      "  ratio_up = counts_up / counts\n",
      "/nfs/dust/cms/user/filatovo/HTT/CMSSW_10_2_16/src/mlFramework/SystExplorer.py:88: RuntimeWarning: invalid value encountered in true_divide\n",
      "  ratio_down = counts_down / counts\n",
      "/nfs/dust/cms/user/filatovo/HTT/CMSSW_10_2_16/src/mlFramework/SystExplorer.py:87: RuntimeWarning: invalid value encountered in true_divide\n",
      "  ratio_up = counts_up / counts\n",
      "/nfs/dust/cms/user/filatovo/HTT/CMSSW_10_2_16/src/mlFramework/SystExplorer.py:88: RuntimeWarning: invalid value encountered in true_divide\n",
      "  ratio_down = counts_down / counts\n",
      "/nfs/dust/cms/user/filatovo/HTT/CMSSW_10_2_16/src/mlFramework/SystExplorer.py:87: RuntimeWarning: invalid value encountered in true_divide\n",
      "  ratio_up = counts_up / counts\n",
      "/nfs/dust/cms/user/filatovo/HTT/CMSSW_10_2_16/src/mlFramework/SystExplorer.py:88: RuntimeWarning: invalid value encountered in true_divide\n",
      "  ratio_down = counts_down / counts\n",
      "/nfs/dust/cms/user/filatovo/HTT/CMSSW_10_2_16/src/mlFramework/SystExplorer.py:87: RuntimeWarning: invalid value encountered in true_divide\n",
      "  ratio_up = counts_up / counts\n",
      "/nfs/dust/cms/user/filatovo/HTT/CMSSW_10_2_16/src/mlFramework/SystExplorer.py:88: RuntimeWarning: invalid value encountered in true_divide\n",
      "  ratio_down = counts_down / counts\n",
      "/nfs/dust/cms/user/filatovo/HTT/CMSSW_10_2_16/src/mlFramework/SystExplorer.py:87: RuntimeWarning: invalid value encountered in true_divide\n",
      "  ratio_up = counts_up / counts\n",
      "/nfs/dust/cms/user/filatovo/HTT/CMSSW_10_2_16/src/mlFramework/SystExplorer.py:88: RuntimeWarning: invalid value encountered in true_divide\n",
      "  ratio_down = counts_down / counts\n",
      "/nfs/dust/cms/user/filatovo/HTT/CMSSW_10_2_16/src/mlFramework/SystExplorer.py:87: RuntimeWarning: invalid value encountered in true_divide\n",
      "  ratio_up = counts_up / counts\n",
      "/nfs/dust/cms/user/filatovo/HTT/CMSSW_10_2_16/src/mlFramework/SystExplorer.py:88: RuntimeWarning: invalid value encountered in true_divide\n",
      "  ratio_down = counts_down / counts\n",
      "/usr/local/lib64/python3.6/site-packages/numpy/lib/histograms.py:839: RuntimeWarning: invalid value encountered in greater_equal\n",
      "  keep = (tmp_a >= first_edge)\n",
      "/usr/local/lib64/python3.6/site-packages/numpy/lib/histograms.py:840: RuntimeWarning: invalid value encountered in less_equal\n",
      "  keep &= (tmp_a <= last_edge)\n",
      "/usr/local/lib64/python3.6/site-packages/numpy/lib/histograms.py:839: RuntimeWarning: invalid value encountered in greater_equal\n",
      "  keep = (tmp_a >= first_edge)\n",
      "/usr/local/lib64/python3.6/site-packages/numpy/lib/histograms.py:840: RuntimeWarning: invalid value encountered in less_equal\n",
      "  keep &= (tmp_a <= last_edge)\n",
      "/usr/local/lib64/python3.6/site-packages/numpy/lib/histograms.py:839: RuntimeWarning: invalid value encountered in greater_equal\n",
      "  keep = (tmp_a >= first_edge)\n",
      "/usr/local/lib64/python3.6/site-packages/numpy/lib/histograms.py:840: RuntimeWarning: invalid value encountered in less_equal\n",
      "  keep &= (tmp_a <= last_edge)\n",
      "/usr/local/lib64/python3.6/site-packages/numpy/lib/histograms.py:839: RuntimeWarning: invalid value encountered in greater_equal\n",
      "  keep = (tmp_a >= first_edge)\n",
      "/usr/local/lib64/python3.6/site-packages/numpy/lib/histograms.py:840: RuntimeWarning: invalid value encountered in less_equal\n",
      "  keep &= (tmp_a <= last_edge)\n"
     ]
    }
   ],
   "source": [
    "for systematic_tree_name, branches in systematic_to_vars.items():\n",
    "    explorer.set_updown_trees(systematic_tree_name)\n",
    "    explorer.set_dataframes(branches=branches)\n",
    "    for var_name in branches:\n",
    "        var_range, nbins = var_to_range_nbins[var_name]\n",
    "        explorer.plot_var_shifts(var_name, var_range, nbins, out_plots_path=out_plots_path, verbose=False, save_plot=True)\n",
    "        explorer.plot_var_ratio_shifts(var_name, var_range, nbins, out_plots_path=out_plots_path, verbose=False, save_plot=True)"
   ]
  },
  {
   "cell_type": "markdown",
   "metadata": {},
   "source": [
    "\n",
    "\n"
   ]
  },
  {
   "cell_type": "markdown",
   "metadata": {},
   "source": [
    "## detailed studies"
   ]
  },
  {
   "cell_type": "markdown",
   "metadata": {},
   "source": [
    "### puppimet_x(y)"
   ]
  },
  {
   "cell_type": "code",
   "execution_count": 6,
   "metadata": {},
   "outputs": [],
   "source": [
    "systematic_tree_name = 'TauCheck_CMS_met_boson_resolution_13TeV'\n",
    "branches = (['pt_2'] + ['puppimet', 'puppimetphi', 'puppimt_1', 'pt_tt'] + \n",
    "            ['jpt_1', 'jpt_2', 'mjj', 'njets', 'nbtag', 'jdeta', 'pt_tt', 'bpt_1', 'bpt_2'])\n",
    "var_range, nbins = ([-100, 100], 80)"
   ]
  },
  {
   "cell_type": "code",
   "execution_count": 6,
   "metadata": {},
   "outputs": [],
   "source": [
    "explorer = SystExplorer(f'{path}/{file_name}')\n",
    "explorer.set_central_tree('TauCheck')\n",
    "explorer.set_updown_trees(systematic_tree_name)\n",
    "explorer.set_dataframes(branches)"
   ]
  },
  {
   "cell_type": "code",
   "execution_count": 7,
   "metadata": {},
   "outputs": [],
   "source": [
    "data = explorer.data_central\n",
    "data_up = explorer.data_up\n",
    "data_down = explorer.data_down"
   ]
  },
  {
   "cell_type": "code",
   "execution_count": 8,
   "metadata": {},
   "outputs": [
    {
     "data": {
      "text/plain": [
       "59.999805"
      ]
     },
     "execution_count": 8,
     "metadata": {},
     "output_type": "execute_result"
    }
   ],
   "source": [
    "data.puppimt_1.max()"
   ]
  },
  {
   "cell_type": "code",
   "execution_count": 10,
   "metadata": {},
   "outputs": [
    {
     "name": "stdout",
     "output_type": "stream",
     "text": [
      "\n",
      "\n",
      "Looking into systematic: TauCheck_CMS_met_boson_resolution_13TeV\n",
      "plotting up/down shifts for variable: puppimet_y\n",
      "\n",
      "\n"
     ]
    },
    {
     "data": {
      "image/png": "[encoded data removed]",
      "text/plain": [
       "<Figure size 1080x720 with 1 Axes>"
      ]
     },
     "metadata": {
      "needs_background": "light"
     },
     "output_type": "display_data"
    }
   ],
   "source": [
    "explorer.data_central['puppimet_x'] = data.puppimet * np.cos(data.puppimetphi)\n",
    "explorer.data_central['puppimet_y'] = data.puppimet * np.sin(data.puppimetphi)\n",
    "explorer.data_up['puppimet_x'] = data_up.puppimet * np.cos(data_up.puppimetphi)\n",
    "explorer.data_up['puppimet_y'] = data_up.puppimet * np.sin(data_up.puppimetphi)\n",
    "explorer.data_down['puppimet_x'] = data_down.puppimet * np.cos(data_down.puppimetphi)\n",
    "explorer.data_down['puppimet_y'] = data_down.puppimet * np.sin(data_down.puppimetphi)\n",
    "\n",
    "var_name = 'puppimet_y'\n",
    "explorer.plot_var_shifts(var_name, var_range, nbins, out_plots_path=None, verbose=True, save_plot=False)"
   ]
  },
  {
   "cell_type": "code",
   "execution_count": 11,
   "metadata": {},
   "outputs": [
    {
     "name": "stdout",
     "output_type": "stream",
     "text": [
      "Mean, Variance for puppimet_x:\n",
      "\n",
      "central: (0.5876581, 512.29663)\n",
      "up: (0.6066989, 534.9276)\n",
      "down: (0.56861734, 490.69772)\n"
     ]
    }
   ],
   "source": [
    "explorer.print_mean_variance_shifts('puppimet_x')"
   ]
  },
  {
   "cell_type": "markdown",
   "metadata": {},
   "source": [
    "### puppimt_1"
   ]
  },
  {
   "cell_type": "code",
   "execution_count": 17,
   "metadata": {},
   "outputs": [],
   "source": [
    "systematic_tree_name = 'TauCheck_CMS_met_boson_resolution_13TeV'\n",
    "branches = ['puppimt_1', 'pt_tt']\n",
    "var_range, nbins = ([0, 70], 10)\n",
    "var_name = 'puppimt_1'"
   ]
  },
  {
   "cell_type": "code",
   "execution_count": 12,
   "metadata": {},
   "outputs": [],
   "source": [
    "explorer.set_updown_trees(systematic_tree_name)\n",
    "explorer.set_dataframes(branches)"
   ]
  },
  {
   "cell_type": "code",
   "execution_count": 18,
   "metadata": {},
   "outputs": [
    {
     "name": "stdout",
     "output_type": "stream",
     "text": [
      "\n",
      "\n",
      "Looking into systematic: TauCheck_CMS_met_boson_resolution_13TeV\n",
      "plotting up/down shifts for variable: puppimt_1\n",
      "\n",
      "\n"
     ]
    },
    {
     "data": {
      "image/png": "[encoded data removed]",
      "text/plain": [
       "<Figure size 1080x720 with 1 Axes>"
      ]
     },
     "metadata": {
      "needs_background": "light"
     },
     "output_type": "display_data"
    }
   ],
   "source": [
    "explorer.plot_var_shifts(var_name, var_range, nbins, verbose=True, save_plot=False)"
   ]
  },
  {
   "cell_type": "code",
   "execution_count": 19,
   "metadata": {},
   "outputs": [
    {
     "name": "stdout",
     "output_type": "stream",
     "text": [
      "\n",
      "\n",
      "Looking into systematic: TauCheck_CMS_met_boson_resolution_13TeV\n",
      "plotting up(down)/central ratio for variable: puppimt_1\n",
      "\n",
      "\n"
     ]
    },
    {
     "data": {
      "image/png": "[encoded data removed]",
      "text/plain": [
       "<Figure size 1080x720 with 1 Axes>"
      ]
     },
     "metadata": {
      "needs_background": "light"
     },
     "output_type": "display_data"
    }
   ],
   "source": [
    "explorer.plot_var_ratio_shifts(var_name, var_range, nbins, verbose=True, save_plot=False)"
   ]
  },
  {
   "cell_type": "code",
   "execution_count": 19,
   "metadata": {},
   "outputs": [
    {
     "data": {
      "text/plain": [
       "(59.999805, 69.410446, 63.085846)"
      ]
     },
     "execution_count": 19,
     "metadata": {},
     "output_type": "execute_result"
    }
   ],
   "source": [
    "data.puppimt_1.max(), data_up.puppimt_1.max(), data_down.puppimt_1.max()"
   ]
  },
  {
   "cell_type": "code",
   "execution_count": 20,
   "metadata": {},
   "outputs": [
    {
     "data": {
      "text/plain": [
       "(0.0001479921, 0.00016879127, 1.11038e-05)"
      ]
     },
     "execution_count": 20,
     "metadata": {},
     "output_type": "execute_result"
    }
   ],
   "source": [
    "data.puppimt_1.min(), data_up.puppimt_1.min(), data_down.puppimt_1.min()"
   ]
  },
  {
   "cell_type": "code",
   "execution_count": 30,
   "metadata": {},
   "outputs": [
    {
     "data": {
      "text/plain": [
       "526"
      ]
     },
     "execution_count": 30,
     "metadata": {},
     "output_type": "execute_result"
    }
   ],
   "source": [
    "sum(data_up.puppimt_1 > 61)"
   ]
  },
  {
   "cell_type": "markdown",
   "metadata": {},
   "source": [
    "\n",
    "\n"
   ]
  },
  {
   "cell_type": "markdown",
   "metadata": {},
   "source": [
    "### DY"
   ]
  },
  {
   "cell_type": "code",
   "execution_count": 20,
   "metadata": {},
   "outputs": [],
   "source": [
    "systematic_tree_name = 'TauCheck_CMS_shape_dyShape_13TeV'\n",
    "branches = ['zptweight',]\n",
    "var_range, nbins = ([-100, 100], 80)\n",
    "var_name = 'zptweight'"
   ]
  },
  {
   "cell_type": "code",
   "execution_count": 21,
   "metadata": {},
   "outputs": [],
   "source": [
    "explorer.set_updown_trees(systematic_tree_name)\n",
    "explorer.set_dataframes(branches)"
   ]
  },
  {
   "cell_type": "code",
   "execution_count": 22,
   "metadata": {},
   "outputs": [
    {
     "data": {
      "text/plain": [
       "array([1.])"
      ]
     },
     "execution_count": 22,
     "metadata": {},
     "output_type": "execute_result"
    }
   ],
   "source": [
    "np.unique(explorer.data_down.zptweight)"
   ]
  },
  {
   "cell_type": "markdown",
   "metadata": {},
   "source": [
    "\n",
    "\n"
   ]
  },
  {
   "cell_type": "code",
   "execution_count": null,
   "metadata": {},
   "outputs": [],
   "source": []
  },
  {
   "cell_type": "markdown",
   "metadata": {},
   "source": [
    "### misc."
   ]
  },
  {
   "cell_type": "code",
   "execution_count": 7,
   "metadata": {},
   "outputs": [],
   "source": [
    "explorer = SystExplorer(f'{path}/{file_name}')\n",
    "explorer.set_central_tree('TauCheck')"
   ]
  },
  {
   "cell_type": "code",
   "execution_count": 23,
   "metadata": {},
   "outputs": [],
   "source": [
    "systematic_tree_name = 'TauCheck_CMS_scale_j_FlavorQCD13TeV'\n",
    "branches = ['jdeta']\n",
    "var_range, nbins = ([-10, 9], 19)\n",
    "var_name = 'jdeta'"
   ]
  },
  {
   "cell_type": "code",
   "execution_count": 13,
   "metadata": {},
   "outputs": [],
   "source": [
    "explorer.set_updown_trees(systematic_tree_name)\n",
    "explorer.set_dataframes(branches)"
   ]
  },
  {
   "cell_type": "code",
   "execution_count": 24,
   "metadata": {},
   "outputs": [
    {
     "name": "stdout",
     "output_type": "stream",
     "text": [
      "\n",
      "\n",
      "Looking into systematic: TauCheck_CMS_scale_j_FlavorQCD13TeV\n",
      "plotting up(down)/central ratio for variable: jdeta\n",
      "\n",
      "\n"
     ]
    },
    {
     "data": {
      "image/png": "[encoded data removed]",
      "text/plain": [
       "<Figure size 1080x720 with 1 Axes>"
      ]
     },
     "metadata": {
      "needs_background": "light"
     },
     "output_type": "display_data"
    }
   ],
   "source": [
    "explorer.plot_var_ratio_shifts(var_name, var_range, nbins, normalise=False, verbose=True, save_plot=False)"
   ]
  },
  {
   "cell_type": "code",
   "execution_count": 15,
   "metadata": {},
   "outputs": [],
   "source": [
    "data = explorer.data_central"
   ]
  },
  {
   "cell_type": "code",
   "execution_count": 19,
   "metadata": {},
   "outputs": [
    {
     "data": {
      "text/plain": [
       "221"
      ]
     },
     "execution_count": 19,
     "metadata": {},
     "output_type": "execute_result"
    }
   ],
   "source": [
    "sum(data.jdeta > 8)"
   ]
  },
  {
   "cell_type": "code",
   "execution_count": 20,
   "metadata": {},
   "outputs": [
    {
     "data": {
      "text/plain": [
       "9.242559"
      ]
     },
     "execution_count": 20,
     "metadata": {},
     "output_type": "execute_result"
    }
   ],
   "source": [
    "data.jdeta.max()"
   ]
  },
  {
   "cell_type": "code",
   "execution_count": null,
   "metadata": {},
   "outputs": [],
   "source": []
  }
 ],
 "metadata": {
  "kernelspec": {
   "display_name": "Python 3",
   "language": "python",
   "name": "python3"
  },
  "language_info": {
   "codemirror_mode": {
    "name": "ipython",
    "version": 3
   },
   "file_extension": ".py",
   "mimetype": "text/x-python",
   "name": "python",
   "nbconvert_exporter": "python",
   "pygments_lexer": "ipython3",
   "version": "3.6.8"
  }
 },
 "nbformat": 4,
 "nbformat_minor": 4
}
