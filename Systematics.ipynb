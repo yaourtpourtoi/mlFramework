{
 "cells": [
  {
   "cell_type": "markdown",
   "metadata": {},
   "source": [
    "## List of systematics\n",
    "\n",
    "inputEventsH\n",
    "nWeightedEvents\n",
    "TauCheck\n",
    "GenTauCheck\n",
    "\n",
    "#### TES\n",
    "* TauCheck_CMS_shape_t_1prong_13TeV\n",
    "\n",
    "* TauCheck_CMS_shape_t_1prong1pi0_13TeV\n",
    "\n",
    "* TauCheck_CMS_shape_t_3prong_13TeV\n",
    "\n",
    "#### DY\n",
    "* TauCheck_CMS_shape_dyShape_13TeV\n",
    "\n",
    "#### top\n",
    "* TauCheck_topPtWeight\n",
    "\n",
    "#### MET\n",
    "* TauCheck_CMS_met_boson_resolution_13TeV\n",
    "\n",
    "* TauCheck_CMS_met_boson_response_13TeV\n",
    "\n",
    "#### JES\n",
    "* TauCheck_CMS_scale_j_FlavorQCD13TeV\n",
    "\n",
    "* TauCheck_CMS_scale_j_RelativeBal13TeV\n",
    "\n",
    "* TauCheck_CMS_scale_j_HF13TeV\n",
    "\n",
    "* TauCheck_CMS_scale_j_BBEC113TeV\n",
    "\n",
    "* TauCheck_CMS_scale_j_EC213TeV\n",
    "\n",
    "* TauCheck_CMS_scale_j_Absolute13TeV\n",
    "\n",
    "* TauCheck_CMS_scale_j_Absolute_201813TeV\n",
    "\n",
    "* TauCheck_CMS_scale_j_HF_201813TeV\n",
    "\n",
    "* TauCheck_CMS_scale_j_EC2_201813TeV\n",
    "\n",
    "* TauCheck_CMS_scale_j_RelativeSample_201813TeV\n",
    "\n",
    "* TauCheck_CMS_scale_j_BBEC1_201813TeV"
   ]
  },
  {
   "cell_type": "markdown",
   "metadata": {},
   "source": [
    "\n",
    "\n"
   ]
  },
  {
   "cell_type": "code",
   "execution_count": 1,
   "metadata": {},
   "outputs": [],
   "source": [
    "from SystExplorer import plot_shifts, plot_ratio_shifts\n",
    "\n",
    "import uproot\n",
    "\n",
    "import os\n",
    "import numpy as np\n",
    "import pandas as pd\n",
    "import seaborn as sns\n",
    "from matplotlib import pyplot as plt\n",
    "\n",
    "%matplotlib inline\n",
    "# sns.set(rc={'figure.figsize':(13.7,8.27)})"
   ]
  },
  {
   "cell_type": "code",
   "execution_count": 2,
   "metadata": {},
   "outputs": [],
   "source": [
    "systematic_to_vars = {\n",
    "               'TauCheck_CMS_shape_dyShape_13TeV'        : ['zptweight'],\n",
    "               'TauCheck_CMS_met_boson_resolution_13TeV' : ['puppimet', 'puppimetphi', 'puppimt_1', 'pt_tt'],\n",
    "               'TauCheck_CMS_met_boson_response_13TeV'   : ['puppimet', 'puppimetphi', 'puppimt_1', 'pt_tt'],\n",
    "               'TauCheck_CMS_scale_j_RelativeBal13TeV'   : ['jpt_1', 'jpt_2', 'mjj', 'njets', 'nbtag', 'jdeta', 'pt_tt', 'bpt_1', 'bpt_2'],\n",
    "               'TauCheck_CMS_scale_j_Absolute_201813TeV' : ['jpt_1', 'jpt_2', 'mjj', 'njets', 'nbtag', 'jdeta', 'pt_tt', 'bpt_1', 'bpt_2'],\n",
    "               'TauCheck_CMS_shape_t_1prong1pi0_13TeV'   : ['pt_2', 'puppimet', 'puppimetphi', 'puppimt_1', 'pt_tt'],\n",
    "               'TauCheck_CMS_shape_t_1prong_13TeV'       : ['pt_2', 'puppimet', 'puppimetphi', 'puppimt_1', 'pt_tt']\n",
    "}"
   ]
  },
  {
   "cell_type": "code",
   "execution_count": 3,
   "metadata": {},
   "outputs": [],
   "source": [
    "var_to_range_nbins = {\n",
    "                    'zptweight': ([0, 1], 20),\n",
    "    \n",
    "                    'puppimet': ([0, 100], 10),\n",
    "                    'puppimetphi': ([-3.15, 3.15], 20),\n",
    "                    'puppimt_1': ([0, 60], 20),\n",
    "    \n",
    "                    'pt_tt': ([0, 200], 20),\n",
    "                    'pt_2': ([20, 100], 20),\n",
    "    \n",
    "                    'mjj': ([0, 1000], 20),\n",
    "                    'jdeta': ([-10, 10], 20),\n",
    "                    'jpt_1': ([0, 200], 20),\n",
    "                    'jpt_2': ([0, 100], 20),\n",
    "                    'bpt_1': ([0, 200], 20),\n",
    "                    'bpt_2': ([0, 200], 20),\n",
    "                    'njets': ([0, 10], 11),\n",
    "                    'nbtag': ([0, 4], 5),    \n",
    "}\n"
   ]
  },
  {
   "cell_type": "code",
   "execution_count": 4,
   "metadata": {},
   "outputs": [],
   "source": [
    "path = '/nfs/dust/cms/user/filatovo/HTT/CMSSW_10_2_16/src/mlFramework'\n",
    "\n",
    "# out_plots_path = path + '/systematics_bugged_plots'\n",
    "# # file_name = 'Embedded_Run2018_bugged.root'\n",
    "# file_name = 'DYJetsToLL_M-50_bugged.root'\n",
    "\n",
    "out_plots_path = path + '/systematics_plots'\n",
    "# file_name = 'Embedded_Run2018.root'\n",
    "file_name = 'DYJetsToLL_M-50.root'"
   ]
  },
  {
   "cell_type": "markdown",
   "metadata": {},
   "source": [
    "\n",
    "\n"
   ]
  },
  {
   "cell_type": "markdown",
   "metadata": {},
   "source": [
    "## plotting loop"
   ]
  },
  {
   "cell_type": "code",
   "execution_count": 6,
   "metadata": {},
   "outputs": [
    {
     "name": "stderr",
     "output_type": "stream",
     "text": [
      "/nfs/dust/cms/user/filatovo/HTT/CMSSW_10_2_16/src/mlFramework/SystExplorer.py:34: RuntimeWarning: invalid value encountered in true_divide\n",
      "  ratio_up = norm_counts_up / norm_counts\n",
      "/nfs/dust/cms/user/filatovo/HTT/CMSSW_10_2_16/src/mlFramework/SystExplorer.py:35: RuntimeWarning: invalid value encountered in true_divide\n",
      "  ratio_down = norm_counts_down / norm_counts\n",
      "/nfs/dust/cms/user/filatovo/HTT/CMSSW_10_2_16/src/mlFramework/SystExplorer.py:34: RuntimeWarning: invalid value encountered in true_divide\n",
      "  ratio_up = norm_counts_up / norm_counts\n",
      "/nfs/dust/cms/user/filatovo/HTT/CMSSW_10_2_16/src/mlFramework/SystExplorer.py:35: RuntimeWarning: invalid value encountered in true_divide\n",
      "  ratio_down = norm_counts_down / norm_counts\n",
      "/nfs/dust/cms/user/filatovo/HTT/CMSSW_10_2_16/src/mlFramework/SystExplorer.py:34: RuntimeWarning: invalid value encountered in true_divide\n",
      "  ratio_up = norm_counts_up / norm_counts\n",
      "/nfs/dust/cms/user/filatovo/HTT/CMSSW_10_2_16/src/mlFramework/SystExplorer.py:35: RuntimeWarning: invalid value encountered in true_divide\n",
      "  ratio_down = norm_counts_down / norm_counts\n",
      "/nfs/dust/cms/user/filatovo/HTT/CMSSW_10_2_16/src/mlFramework/SystExplorer.py:34: RuntimeWarning: invalid value encountered in true_divide\n",
      "  ratio_up = norm_counts_up / norm_counts\n",
      "/nfs/dust/cms/user/filatovo/HTT/CMSSW_10_2_16/src/mlFramework/SystExplorer.py:35: RuntimeWarning: invalid value encountered in true_divide\n",
      "  ratio_down = norm_counts_down / norm_counts\n",
      "/nfs/dust/cms/user/filatovo/HTT/CMSSW_10_2_16/src/mlFramework/SystExplorer.py:34: RuntimeWarning: invalid value encountered in true_divide\n",
      "  ratio_up = norm_counts_up / norm_counts\n",
      "/nfs/dust/cms/user/filatovo/HTT/CMSSW_10_2_16/src/mlFramework/SystExplorer.py:35: RuntimeWarning: invalid value encountered in true_divide\n",
      "  ratio_down = norm_counts_down / norm_counts\n",
      "/nfs/dust/cms/user/filatovo/HTT/CMSSW_10_2_16/src/mlFramework/SystExplorer.py:34: RuntimeWarning: invalid value encountered in true_divide\n",
      "  ratio_up = norm_counts_up / norm_counts\n",
      "/nfs/dust/cms/user/filatovo/HTT/CMSSW_10_2_16/src/mlFramework/SystExplorer.py:35: RuntimeWarning: invalid value encountered in true_divide\n",
      "  ratio_down = norm_counts_down / norm_counts\n",
      "/nfs/dust/cms/user/filatovo/HTT/CMSSW_10_2_16/src/mlFramework/SystExplorer.py:34: RuntimeWarning: invalid value encountered in true_divide\n",
      "  ratio_up = norm_counts_up / norm_counts\n",
      "/nfs/dust/cms/user/filatovo/HTT/CMSSW_10_2_16/src/mlFramework/SystExplorer.py:35: RuntimeWarning: invalid value encountered in true_divide\n",
      "  ratio_down = norm_counts_down / norm_counts\n",
      "/nfs/dust/cms/user/filatovo/HTT/CMSSW_10_2_16/src/mlFramework/SystExplorer.py:34: RuntimeWarning: invalid value encountered in true_divide\n",
      "  ratio_up = norm_counts_up / norm_counts\n",
      "/nfs/dust/cms/user/filatovo/HTT/CMSSW_10_2_16/src/mlFramework/SystExplorer.py:35: RuntimeWarning: invalid value encountered in true_divide\n",
      "  ratio_down = norm_counts_down / norm_counts\n",
      "/nfs/dust/cms/user/filatovo/HTT/CMSSW_10_2_16/src/mlFramework/SystExplorer.py:34: RuntimeWarning: invalid value encountered in true_divide\n",
      "  ratio_up = norm_counts_up / norm_counts\n",
      "/nfs/dust/cms/user/filatovo/HTT/CMSSW_10_2_16/src/mlFramework/SystExplorer.py:35: RuntimeWarning: invalid value encountered in true_divide\n",
      "  ratio_down = norm_counts_down / norm_counts\n",
      "/nfs/dust/cms/user/filatovo/HTT/CMSSW_10_2_16/src/mlFramework/SystExplorer.py:34: RuntimeWarning: invalid value encountered in true_divide\n",
      "  ratio_up = norm_counts_up / norm_counts\n",
      "/nfs/dust/cms/user/filatovo/HTT/CMSSW_10_2_16/src/mlFramework/SystExplorer.py:35: RuntimeWarning: invalid value encountered in true_divide\n",
      "  ratio_down = norm_counts_down / norm_counts\n",
      "/nfs/dust/cms/user/filatovo/HTT/CMSSW_10_2_16/src/mlFramework/SystExplorer.py:34: RuntimeWarning: invalid value encountered in true_divide\n",
      "  ratio_up = norm_counts_up / norm_counts\n",
      "/nfs/dust/cms/user/filatovo/HTT/CMSSW_10_2_16/src/mlFramework/SystExplorer.py:35: RuntimeWarning: invalid value encountered in true_divide\n",
      "  ratio_down = norm_counts_down / norm_counts\n",
      "/nfs/dust/cms/user/filatovo/HTT/CMSSW_10_2_16/src/mlFramework/SystExplorer.py:34: RuntimeWarning: invalid value encountered in true_divide\n",
      "  ratio_up = norm_counts_up / norm_counts\n",
      "/nfs/dust/cms/user/filatovo/HTT/CMSSW_10_2_16/src/mlFramework/SystExplorer.py:35: RuntimeWarning: invalid value encountered in true_divide\n",
      "  ratio_down = norm_counts_down / norm_counts\n",
      "/nfs/dust/cms/user/filatovo/HTT/CMSSW_10_2_16/src/mlFramework/SystExplorer.py:34: RuntimeWarning: invalid value encountered in true_divide\n",
      "  ratio_up = norm_counts_up / norm_counts\n",
      "/nfs/dust/cms/user/filatovo/HTT/CMSSW_10_2_16/src/mlFramework/SystExplorer.py:35: RuntimeWarning: invalid value encountered in true_divide\n",
      "  ratio_down = norm_counts_down / norm_counts\n"
     ]
    }
   ],
   "source": [
    "for systematic_tree_name, branches in systematic_to_vars.items():\n",
    "    data_file = uproot.open(f'{path}/{file_name}')['TauCheck']\n",
    "    data_file_up = uproot.open(f'{path}/{file_name}')[f'{systematic_tree_name}Up']\n",
    "    data_file_down = uproot.open(f'{path}/{file_name}')[f'{systematic_tree_name}Down']\n",
    "\n",
    "    data = data_file.pandas.df(branches)\n",
    "    data_up = data_file_up.pandas.df(branches)\n",
    "    data_down = data_file_down.pandas.df(branches)\n",
    "    for var_name in branches:\n",
    "        var_range, nbins = var_to_range_nbins[var_name]\n",
    "        \n",
    "#         cut_range = f'{var_name} >= {var_range[0]} & {var_name} <= {var_range[1]}' \n",
    "#         cut = '1>0'    \n",
    "#         data_cutted = data.query(f'{cut_range} & {cut}')\n",
    "#         data_up_cutted = data_up.query(f'{cut_range} & {cut}')\n",
    "#         data_down_cutted = data_down.query(f'{cut_range} & {cut}')\n",
    "\n",
    "        plot_shifts(data=data, data_up=data_up, data_down=data_down, var_name= var_name, var_range=var_range, nbins=nbins, systematic_tree_name=systematic_tree_name, out_plots_path=out_plots_path)\n",
    "        plot_ratio_shifts(data=data, data_up=data_up, data_down=data_down, var_name= var_name, var_range=var_range, nbins=nbins, systematic_tree_name=systematic_tree_name, out_plots_path=out_plots_path)"
   ]
  },
  {
   "cell_type": "markdown",
   "metadata": {},
   "source": [
    "\n",
    "\n"
   ]
  },
  {
   "cell_type": "markdown",
   "metadata": {},
   "source": [
    "## detailed studies"
   ]
  },
  {
   "cell_type": "markdown",
   "metadata": {},
   "source": [
    "### puppimet_x(y)"
   ]
  },
  {
   "cell_type": "code",
   "execution_count": 11,
   "metadata": {},
   "outputs": [],
   "source": [
    "systematic_tree_name = 'TauCheck_CMS_met_boson_resolution_13TeV'\n",
    "branches = (['pt_2'] + ['puppimet', 'puppimetphi', 'puppimt_1', 'pt_tt'] + \n",
    "            ['jpt_1', 'jpt_2', 'mjj', 'njets', 'nbtag', 'jdeta', 'pt_tt', 'bpt_1', 'bpt_2'])\n",
    "var_range, nbins = ([-100, 100], 80)\n",
    "var_name = 'puppimet_y'"
   ]
  },
  {
   "cell_type": "code",
   "execution_count": 12,
   "metadata": {},
   "outputs": [],
   "source": [
    "data_file = uproot.open(f'{path}/{file_name}')['TauCheck']\n",
    "data_file_up = uproot.open(f'{path}/{file_name}')[f'{systematic_tree_name}Up']\n",
    "data_file_down = uproot.open(f'{path}/{file_name}')[f'{systematic_tree_name}Down']\n",
    "\n",
    "data = data_file.pandas.df(branches)\n",
    "data_up = data_file_up.pandas.df(branches)\n",
    "data_down = data_file_down.pandas.df(branches)"
   ]
  },
  {
   "cell_type": "code",
   "execution_count": 13,
   "metadata": {},
   "outputs": [
    {
     "data": {
      "text/plain": [
       "59.999805"
      ]
     },
     "execution_count": 13,
     "metadata": {},
     "output_type": "execute_result"
    }
   ],
   "source": [
    "data.puppimt_1.max()"
   ]
  },
  {
   "cell_type": "code",
   "execution_count": 14,
   "metadata": {},
   "outputs": [
    {
     "data": {
      "image/png": "[encoded data removed]",
      "text/plain": [
       "<Figure size 1080x720 with 1 Axes>"
      ]
     },
     "metadata": {
      "needs_background": "light"
     },
     "output_type": "display_data"
    }
   ],
   "source": [
    "data['puppimet_x'] = data.puppimet * np.cos(data.puppimetphi)\n",
    "data['puppimet_y'] = data.puppimet * np.sin(data.puppimetphi)\n",
    "data_up['puppimet_x'] = data_up.puppimet * np.cos(data_up.puppimetphi)\n",
    "data_up['puppimet_y'] = data_up.puppimet * np.sin(data_up.puppimetphi)\n",
    "data_down['puppimet_x'] = data_down.puppimet * np.cos(data_down.puppimetphi)\n",
    "data_down['puppimet_y'] = data_down.puppimet * np.sin(data_down.puppimetphi)\n",
    "\n",
    "# cut_range = f'{var_name} >= {var_range[0]} & {var_name} <= {var_range[1]}' \n",
    "# cut = '1>0'\n",
    "\n",
    "# data_cutted = data.query(f'{cut_range} & {cut}')\n",
    "# data_up_cutted = data_up.query(f'{cut_range} & {cut}')\n",
    "# data_down_cutted = data_down.query(f'{cut_range} & {cut}')\n",
    "\n",
    "plot_shifts(data=data, data_up=data_up, data_down=data_down, var_name= var_name, var_range=var_range, nbins=nbins, systematic_tree_name=systematic_tree_name, out_plots_path=out_plots_path, close_plot=False)"
   ]
  },
  {
   "cell_type": "code",
   "execution_count": 15,
   "metadata": {},
   "outputs": [
    {
     "name": "stdout",
     "output_type": "stream",
     "text": [
      "Mean, Variance:\n",
      "\n",
      "central: (0.30229136, 518.69965)\n",
      "up: (0.31312186, 541.32635)\n",
      "down: (0.29146078, 497.09912)\n"
     ]
    }
   ],
   "source": [
    "print('Mean, Variance:\\n')\n",
    "print(f'central: {data[var_name].mean(), data[var_name].var()}')\n",
    "print(f'up: {data_up[var_name].mean(), data_up[var_name].var()}')\n",
    "print(f'down: {data_down[var_name].mean(), data_down[var_name].var()}')"
   ]
  },
  {
   "cell_type": "markdown",
   "metadata": {},
   "source": [
    "### puppimt_1"
   ]
  },
  {
   "cell_type": "code",
   "execution_count": 22,
   "metadata": {},
   "outputs": [],
   "source": [
    "systematic_tree_name = 'TauCheck_CMS_met_boson_resolution_13TeV'\n",
    "branches = ['puppimt_1', 'pt_tt']\n",
    "var_range, nbins = ([0, 70], 70)\n",
    "var_name = 'puppimt_1'"
   ]
  },
  {
   "cell_type": "code",
   "execution_count": 23,
   "metadata": {},
   "outputs": [],
   "source": [
    "data_file = uproot.open(f'{path}/{file_name}')['TauCheck']\n",
    "data_file_up = uproot.open(f'{path}/{file_name}')[f'{systematic_tree_name}Up']\n",
    "data_file_down = uproot.open(f'{path}/{file_name}')[f'{systematic_tree_name}Down']\n",
    "\n",
    "data = data_file.pandas.df(branches)\n",
    "data_up = data_file_up.pandas.df(branches)\n",
    "data_down = data_file_down.pandas.df(branches)"
   ]
  },
  {
   "cell_type": "code",
   "execution_count": 24,
   "metadata": {},
   "outputs": [
    {
     "data": {
      "image/png": "[encoded data removed]",
      "text/plain": [
       "<Figure size 1080x720 with 1 Axes>"
      ]
     },
     "metadata": {
      "needs_background": "light"
     },
     "output_type": "display_data"
    }
   ],
   "source": [
    "plot_shifts(data=data, data_up=data_up, data_down=data_down, var_name= var_name, var_range=var_range, nbins=nbins, systematic_tree_name=systematic_tree_name, out_plots_path=out_plots_path, close_plot=False, save_plot=False)"
   ]
  },
  {
   "cell_type": "code",
   "execution_count": 19,
   "metadata": {},
   "outputs": [
    {
     "data": {
      "text/plain": [
       "(59.999805, 69.410446, 63.085846)"
      ]
     },
     "execution_count": 19,
     "metadata": {},
     "output_type": "execute_result"
    }
   ],
   "source": [
    "data.puppimt_1.max(), data_up.puppimt_1.max(), data_down.puppimt_1.max()"
   ]
  },
  {
   "cell_type": "code",
   "execution_count": 20,
   "metadata": {},
   "outputs": [
    {
     "data": {
      "text/plain": [
       "(0.0001479921, 0.00016879127, 1.11038e-05)"
      ]
     },
     "execution_count": 20,
     "metadata": {},
     "output_type": "execute_result"
    }
   ],
   "source": [
    "data.puppimt_1.min(), data_up.puppimt_1.min(), data_down.puppimt_1.min()"
   ]
  },
  {
   "cell_type": "code",
   "execution_count": 30,
   "metadata": {},
   "outputs": [
    {
     "data": {
      "text/plain": [
       "526"
      ]
     },
     "execution_count": 30,
     "metadata": {},
     "output_type": "execute_result"
    }
   ],
   "source": [
    "sum(data_up.puppimt_1 > 61)"
   ]
  },
  {
   "cell_type": "code",
   "execution_count": 21,
   "metadata": {},
   "outputs": [
    {
     "name": "stderr",
     "output_type": "stream",
     "text": [
      "/nfs/dust/cms/user/filatovo/HTT/CMSSW_10_2_16/src/mlFramework/SystExplorer.py:34: RuntimeWarning: divide by zero encountered in true_divide\n",
      "  ratio_up = norm_counts_up / norm_counts\n",
      "/nfs/dust/cms/user/filatovo/HTT/CMSSW_10_2_16/src/mlFramework/SystExplorer.py:35: RuntimeWarning: divide by zero encountered in true_divide\n",
      "  ratio_down = norm_counts_down / norm_counts\n",
      "/nfs/dust/cms/user/filatovo/HTT/CMSSW_10_2_16/src/mlFramework/SystExplorer.py:35: RuntimeWarning: invalid value encountered in true_divide\n",
      "  ratio_down = norm_counts_down / norm_counts\n"
     ]
    },
    {
     "data": {
      "image/png": "[encoded data removed]",
      "text/plain": [
       "<Figure size 1080x720 with 1 Axes>"
      ]
     },
     "metadata": {
      "needs_background": "light"
     },
     "output_type": "display_data"
    }
   ],
   "source": [
    "plot_ratio_shifts(data=data, data_up=data_up, data_down=data_down, var_name= var_name, var_range=var_range, nbins=nbins, systematic_tree_name=systematic_tree_name, out_plots_path=out_plots_path, save_plot=False, close_plot=False)"
   ]
  },
  {
   "cell_type": "markdown",
   "metadata": {},
   "source": [
    "\n",
    "\n"
   ]
  },
  {
   "cell_type": "markdown",
   "metadata": {},
   "source": [
    "### DY"
   ]
  },
  {
   "cell_type": "code",
   "execution_count": 10,
   "metadata": {},
   "outputs": [],
   "source": [
    "systematic_tree_name = 'TauCheck_CMS_shape_dyShape_13TeV'\n",
    "branches = ['zptweight',]\n",
    "var_range, nbins = ([-100, 100], 80)\n",
    "var_name = 'zptweight'"
   ]
  },
  {
   "cell_type": "code",
   "execution_count": 11,
   "metadata": {},
   "outputs": [],
   "source": [
    "data_file = uproot.open(f'{path}/{file_name}')['TauCheck']\n",
    "data_file_up = uproot.open(f'{path}/{file_name}')[f'{systematic_tree_name}Up']\n",
    "data_file_down = uproot.open(f'{path}/{file_name}')[f'{systematic_tree_name}Down']\n",
    "\n",
    "data = data_file.pandas.df(branches)\n",
    "data_up = data_file_up.pandas.df(branches)\n",
    "data_down = data_file_down.pandas.df(branches)"
   ]
  },
  {
   "cell_type": "code",
   "execution_count": 12,
   "metadata": {},
   "outputs": [
    {
     "data": {
      "text/plain": [
       "array([1.])"
      ]
     },
     "execution_count": 12,
     "metadata": {},
     "output_type": "execute_result"
    }
   ],
   "source": [
    "np.unique(data_down.zptweight)"
   ]
  },
  {
   "cell_type": "markdown",
   "metadata": {},
   "source": [
    "\n",
    "\n"
   ]
  },
  {
   "cell_type": "code",
   "execution_count": null,
   "metadata": {},
   "outputs": [],
   "source": []
  }
 ],
 "metadata": {
  "kernelspec": {
   "display_name": "Python 3",
   "language": "python",
   "name": "python3"
  },
  "language_info": {
   "codemirror_mode": {
    "name": "ipython",
    "version": 3
   },
   "file_extension": ".py",
   "mimetype": "text/x-python",
   "name": "python",
   "nbconvert_exporter": "python",
   "pygments_lexer": "ipython3",
   "version": "3.6.8"
  }
 },
 "nbformat": 4,
 "nbformat_minor": 4
}
