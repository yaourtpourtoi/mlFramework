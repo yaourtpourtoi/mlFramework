{
 "cells": [
  {
   "cell_type": "code",
   "execution_count": 1,
   "metadata": {},
   "outputs": [
    {
     "name": "stdout",
     "output_type": "stream",
     "text": [
      "Welcome to JupyROOT 6.18/04\n"
     ]
    }
   ],
   "source": [
    "import root_pandas as rp\n",
    "import uproot"
   ]
  },
  {
   "cell_type": "markdown",
   "metadata": {},
   "source": [
    "### uproot vs. root_pandas diffs"
   ]
  },
  {
   "cell_type": "code",
   "execution_count": 36,
   "metadata": {},
   "outputs": [],
   "source": [
    "outpath_rp = '/nfs/dust/cms/user/filatovo/HTT/CMSSW_10_2_16/src/mlFramework/outputs/predictions_2017_rp/'\n",
    "outpath_uproot = '/nfs/dust/cms/user/filatovo/HTT/CMSSW_10_2_16/src/mlFramework/outputs/predictions_2017_uproot/'"
   ]
  },
  {
   "cell_type": "code",
   "execution_count": 37,
   "metadata": {},
   "outputs": [],
   "source": [
    "# ST_predict_up = rp.read_root(outpath + '/mt-NOMINAL_ntuple_ST.root', key='TauCheck_CMS_scale_j_JES13TeVUp')\n",
    "# ST_predict_down = rp.read_root(outpath + '/mt-NOMINAL_ntuple_ST.root', key='TauCheck_CMS_scale_j_JES13TeVDown')\n",
    "# ST_predict_center = rp.read_root(outpath + '/mt-NOMINAL_ntuple_ST.root', key='TauCheck')"
   ]
  },
  {
   "cell_type": "code",
   "execution_count": 38,
   "metadata": {},
   "outputs": [],
   "source": [
    "ST_uproot_file = uproot.open(outpath_uproot + '/mt-NOMINAL_ntuple_ST.root')['TauCheck']\n",
    "ST_uproot = ST_uproot_file.pandas.df()\n",
    "\n",
    "ST = rp.read_root(outpath_rp + '/mt-NOMINAL_ntuple_ST.root', key='TauCheck')"
   ]
  },
  {
   "cell_type": "code",
   "execution_count": 39,
   "metadata": {},
   "outputs": [
    {
     "data": {
      "text/plain": [
       "((57842, 409), (57842, 410))"
      ]
     },
     "execution_count": 39,
     "metadata": {},
     "output_type": "execute_result"
    }
   ],
   "source": [
    "ST.shape, ST_uproot.shape"
   ]
  },
  {
   "cell_type": "code",
   "execution_count": 40,
   "metadata": {},
   "outputs": [
    {
     "data": {
      "text/plain": [
       "{'__index__'}"
      ]
     },
     "execution_count": 40,
     "metadata": {},
     "output_type": "execute_result"
    }
   ],
   "source": [
    "set(ST_uproot.columns.values) - set(ST.columns.values)"
   ]
  },
  {
   "cell_type": "code",
   "execution_count": 41,
   "metadata": {},
   "outputs": [
    {
     "data": {
      "text/plain": [
       "(0.5914628256048834, 0.5914628256048834)"
      ]
     },
     "execution_count": 41,
     "metadata": {},
     "output_type": "execute_result"
    }
   ],
   "source": [
    "np.mean(ST.predicted_prob.values), np.mean(ST_uproot.predicted_prob.values)"
   ]
  },
  {
   "cell_type": "code",
   "execution_count": 42,
   "metadata": {},
   "outputs": [
    {
     "data": {
      "text/plain": [
       "0    0.0\n",
       "1    0.0\n",
       "2    0.0\n",
       "3    0.0\n",
       "4    0.0\n",
       "Name: predicted_prob, dtype: float64"
      ]
     },
     "execution_count": 42,
     "metadata": {},
     "output_type": "execute_result"
    }
   ],
   "source": [
    "ST.predicted_prob[:5] - ST_uproot.predicted_prob[:5]"
   ]
  },
  {
   "cell_type": "code",
   "execution_count": 43,
   "metadata": {},
   "outputs": [
    {
     "data": {
      "text/plain": [
       "0    0.0\n",
       "1    0.0\n",
       "2    0.0\n",
       "3    0.0\n",
       "4    0.0\n",
       "Name: pt_2, dtype: float32"
      ]
     },
     "execution_count": 43,
     "metadata": {},
     "output_type": "execute_result"
    }
   ],
   "source": [
    "ST.pt_2[:5] - ST_uproot.pt_2[:5]"
   ]
  },
  {
   "cell_type": "code",
   "execution_count": 44,
   "metadata": {},
   "outputs": [
    {
     "data": {
      "text/plain": [
       "entry\n",
       "0        -10.000000\n",
       "1        -10.000000\n",
       "2         42.047237\n",
       "3        -10.000000\n",
       "4        -10.000000\n",
       "            ...    \n",
       "57837    215.550125\n",
       "57838    -10.000000\n",
       "57839     74.075287\n",
       "57840     44.566254\n",
       "57841     74.735481\n",
       "Name: jpt_2, Length: 57842, dtype: float64"
      ]
     },
     "execution_count": 44,
     "metadata": {},
     "output_type": "execute_result"
    }
   ],
   "source": [
    "ST_uproot.jpt_2"
   ]
  },
  {
   "cell_type": "code",
   "execution_count": 45,
   "metadata": {},
   "outputs": [
    {
     "data": {
      "text/html": [
       "<div>\n",
       "<style scoped>\n",
       "    .dataframe tbody tr th:only-of-type {\n",
       "        vertical-align: middle;\n",
       "    }\n",
       "\n",
       "    .dataframe tbody tr th {\n",
       "        vertical-align: top;\n",
       "    }\n",
       "\n",
       "    .dataframe thead th {\n",
       "        text-align: right;\n",
       "    }\n",
       "</style>\n",
       "<table border=\"1\" class=\"dataframe\">\n",
       "  <thead>\n",
       "    <tr style=\"text-align: right;\">\n",
       "      <th></th>\n",
       "      <th>jdeta</th>\n",
       "      <th>eta_1</th>\n",
       "      <th>m_sv</th>\n",
       "      <th>iso_1</th>\n",
       "      <th>nbtag</th>\n",
       "      <th>bpt_1</th>\n",
       "      <th>mjj</th>\n",
       "      <th>gen_sm_htt125</th>\n",
       "      <th>gen_ps_htt125</th>\n",
       "      <th>gen_mm_htt125</th>\n",
       "      <th>...</th>\n",
       "      <th>puppimet</th>\n",
       "      <th>byIsolationMVA3newDMwLTraw_2</th>\n",
       "      <th>puCorrPtSum_1</th>\n",
       "      <th>jcsv_2</th>\n",
       "      <th>event_weight</th>\n",
       "      <th>target</th>\n",
       "      <th>train_weight</th>\n",
       "      <th>THU</th>\n",
       "      <th>predicted_class</th>\n",
       "      <th>predicted_prob</th>\n",
       "    </tr>\n",
       "  </thead>\n",
       "  <tbody>\n",
       "    <tr>\n",
       "      <td>0</td>\n",
       "      <td>-10.000000</td>\n",
       "      <td>-1.080279</td>\n",
       "      <td>165.405075</td>\n",
       "      <td>0.011258</td>\n",
       "      <td>0</td>\n",
       "      <td>-10.000000</td>\n",
       "      <td>-10.000000</td>\n",
       "      <td>1.0</td>\n",
       "      <td>1.0</td>\n",
       "      <td>1.0</td>\n",
       "      <td>...</td>\n",
       "      <td>20.569374</td>\n",
       "      <td>2.396453e-38</td>\n",
       "      <td>-9999.0</td>\n",
       "      <td>0.056228</td>\n",
       "      <td>1.0</td>\n",
       "      <td>-1</td>\n",
       "      <td>1.0</td>\n",
       "      <td>1</td>\n",
       "      <td>3.0</td>\n",
       "      <td>0.382496</td>\n",
       "    </tr>\n",
       "    <tr>\n",
       "      <td>1</td>\n",
       "      <td>-10.000000</td>\n",
       "      <td>-1.068381</td>\n",
       "      <td>121.302795</td>\n",
       "      <td>0.000000</td>\n",
       "      <td>0</td>\n",
       "      <td>-10.000000</td>\n",
       "      <td>-10.000000</td>\n",
       "      <td>1.0</td>\n",
       "      <td>1.0</td>\n",
       "      <td>1.0</td>\n",
       "      <td>...</td>\n",
       "      <td>28.313576</td>\n",
       "      <td>2.396453e-38</td>\n",
       "      <td>-9999.0</td>\n",
       "      <td>-2.000000</td>\n",
       "      <td>1.0</td>\n",
       "      <td>-1</td>\n",
       "      <td>1.0</td>\n",
       "      <td>1</td>\n",
       "      <td>0.0</td>\n",
       "      <td>0.383253</td>\n",
       "    </tr>\n",
       "    <tr>\n",
       "      <td>2</td>\n",
       "      <td>1.254092</td>\n",
       "      <td>1.886886</td>\n",
       "      <td>127.518707</td>\n",
       "      <td>0.039022</td>\n",
       "      <td>1</td>\n",
       "      <td>60.101307</td>\n",
       "      <td>85.066223</td>\n",
       "      <td>1.0</td>\n",
       "      <td>1.0</td>\n",
       "      <td>1.0</td>\n",
       "      <td>...</td>\n",
       "      <td>34.682636</td>\n",
       "      <td>2.396453e-38</td>\n",
       "      <td>-9999.0</td>\n",
       "      <td>0.029805</td>\n",
       "      <td>1.0</td>\n",
       "      <td>-1</td>\n",
       "      <td>1.0</td>\n",
       "      <td>1</td>\n",
       "      <td>2.0</td>\n",
       "      <td>0.508685</td>\n",
       "    </tr>\n",
       "    <tr>\n",
       "      <td>3</td>\n",
       "      <td>-10.000000</td>\n",
       "      <td>1.195071</td>\n",
       "      <td>130.526566</td>\n",
       "      <td>0.072335</td>\n",
       "      <td>0</td>\n",
       "      <td>-10.000000</td>\n",
       "      <td>-10.000000</td>\n",
       "      <td>1.0</td>\n",
       "      <td>1.0</td>\n",
       "      <td>1.0</td>\n",
       "      <td>...</td>\n",
       "      <td>21.510664</td>\n",
       "      <td>2.396453e-38</td>\n",
       "      <td>-9999.0</td>\n",
       "      <td>0.078827</td>\n",
       "      <td>1.0</td>\n",
       "      <td>-1</td>\n",
       "      <td>1.0</td>\n",
       "      <td>1</td>\n",
       "      <td>3.0</td>\n",
       "      <td>0.407221</td>\n",
       "    </tr>\n",
       "    <tr>\n",
       "      <td>4</td>\n",
       "      <td>-10.000000</td>\n",
       "      <td>1.107226</td>\n",
       "      <td>88.424194</td>\n",
       "      <td>0.010200</td>\n",
       "      <td>0</td>\n",
       "      <td>-10.000000</td>\n",
       "      <td>-10.000000</td>\n",
       "      <td>1.0</td>\n",
       "      <td>1.0</td>\n",
       "      <td>1.0</td>\n",
       "      <td>...</td>\n",
       "      <td>23.609083</td>\n",
       "      <td>2.396453e-38</td>\n",
       "      <td>-9999.0</td>\n",
       "      <td>0.029449</td>\n",
       "      <td>1.0</td>\n",
       "      <td>-1</td>\n",
       "      <td>1.0</td>\n",
       "      <td>1</td>\n",
       "      <td>1.0</td>\n",
       "      <td>0.658826</td>\n",
       "    </tr>\n",
       "  </tbody>\n",
       "</table>\n",
       "<p>5 rows × 409 columns</p>\n",
       "</div>"
      ],
      "text/plain": [
       "       jdeta     eta_1        m_sv     iso_1  nbtag      bpt_1        mjj  \\\n",
       "0 -10.000000 -1.080279  165.405075  0.011258      0 -10.000000 -10.000000   \n",
       "1 -10.000000 -1.068381  121.302795  0.000000      0 -10.000000 -10.000000   \n",
       "2   1.254092  1.886886  127.518707  0.039022      1  60.101307  85.066223   \n",
       "3 -10.000000  1.195071  130.526566  0.072335      0 -10.000000 -10.000000   \n",
       "4 -10.000000  1.107226   88.424194  0.010200      0 -10.000000 -10.000000   \n",
       "\n",
       "   gen_sm_htt125  gen_ps_htt125  gen_mm_htt125  ...   puppimet  \\\n",
       "0            1.0            1.0            1.0  ...  20.569374   \n",
       "1            1.0            1.0            1.0  ...  28.313576   \n",
       "2            1.0            1.0            1.0  ...  34.682636   \n",
       "3            1.0            1.0            1.0  ...  21.510664   \n",
       "4            1.0            1.0            1.0  ...  23.609083   \n",
       "\n",
       "   byIsolationMVA3newDMwLTraw_2  puCorrPtSum_1    jcsv_2  event_weight  \\\n",
       "0                  2.396453e-38        -9999.0  0.056228           1.0   \n",
       "1                  2.396453e-38        -9999.0 -2.000000           1.0   \n",
       "2                  2.396453e-38        -9999.0  0.029805           1.0   \n",
       "3                  2.396453e-38        -9999.0  0.078827           1.0   \n",
       "4                  2.396453e-38        -9999.0  0.029449           1.0   \n",
       "\n",
       "   target  train_weight  THU  predicted_class  predicted_prob  \n",
       "0      -1           1.0    1              3.0        0.382496  \n",
       "1      -1           1.0    1              0.0        0.383253  \n",
       "2      -1           1.0    1              2.0        0.508685  \n",
       "3      -1           1.0    1              3.0        0.407221  \n",
       "4      -1           1.0    1              1.0        0.658826  \n",
       "\n",
       "[5 rows x 409 columns]"
      ]
     },
     "execution_count": 45,
     "metadata": {},
     "output_type": "execute_result"
    }
   ],
   "source": [
    "ST.head()"
   ]
  },
  {
   "cell_type": "code",
   "execution_count": null,
   "metadata": {},
   "outputs": [],
   "source": []
  },
  {
   "cell_type": "markdown",
   "metadata": {},
   "source": [
    "### Reader"
   ]
  },
  {
   "cell_type": "code",
   "execution_count": 10,
   "metadata": {
    "scrolled": true
   },
   "outputs": [
    {
     "name": "stderr",
     "output_type": "stream",
     "text": [
      "Using TensorFlow backend.\n",
      "/afs/desy.de/user/f/filatovo/.local/lib/python3.6/site-packages/tensorflow/python/framework/dtypes.py:517: FutureWarning: Passing (type, 1) or '1type' as a synonym of type is deprecated; in a future version of numpy, it will be understood as (type, (1,)) / '(1,)type'.\n",
      "  _np_qint8 = np.dtype([(\"qint8\", np.int8, 1)])\n",
      "/afs/desy.de/user/f/filatovo/.local/lib/python3.6/site-packages/tensorflow/python/framework/dtypes.py:518: FutureWarning: Passing (type, 1) or '1type' as a synonym of type is deprecated; in a future version of numpy, it will be understood as (type, (1,)) / '(1,)type'.\n",
      "  _np_quint8 = np.dtype([(\"quint8\", np.uint8, 1)])\n",
      "/afs/desy.de/user/f/filatovo/.local/lib/python3.6/site-packages/tensorflow/python/framework/dtypes.py:519: FutureWarning: Passing (type, 1) or '1type' as a synonym of type is deprecated; in a future version of numpy, it will be understood as (type, (1,)) / '(1,)type'.\n",
      "  _np_qint16 = np.dtype([(\"qint16\", np.int16, 1)])\n",
      "/afs/desy.de/user/f/filatovo/.local/lib/python3.6/site-packages/tensorflow/python/framework/dtypes.py:520: FutureWarning: Passing (type, 1) or '1type' as a synonym of type is deprecated; in a future version of numpy, it will be understood as (type, (1,)) / '(1,)type'.\n",
      "  _np_quint16 = np.dtype([(\"quint16\", np.uint16, 1)])\n",
      "/afs/desy.de/user/f/filatovo/.local/lib/python3.6/site-packages/tensorflow/python/framework/dtypes.py:521: FutureWarning: Passing (type, 1) or '1type' as a synonym of type is deprecated; in a future version of numpy, it will be understood as (type, (1,)) / '(1,)type'.\n",
      "  _np_qint32 = np.dtype([(\"qint32\", np.int32, 1)])\n",
      "/afs/desy.de/user/f/filatovo/.local/lib/python3.6/site-packages/tensorflow/python/framework/dtypes.py:526: FutureWarning: Passing (type, 1) or '1type' as a synonym of type is deprecated; in a future version of numpy, it will be understood as (type, (1,)) / '(1,)type'.\n",
      "  np_resource = np.dtype([(\"resource\", np.ubyte, 1)])\n"
     ]
    }
   ],
   "source": [
    "from Reader import Reader\n",
    "import copy\n",
    "import json\n",
    "import sys\n",
    "import os\n",
    "import time\n",
    "from glob import glob\n",
    "import argparse\n",
    "import _pickle as cPickle\n",
    "import subprocess as sp\n",
    "import multiprocessing as mp\n",
    "from collections import deque\n",
    "\n",
    "import numpy as np\n",
    "import pandas as pd\n",
    "import keras\n",
    "from keras.utils.np_utils import to_categorical\n",
    "from keras.callbacks import EarlyStopping, ModelCheckpoint\n",
    "from keras.models import load_model as lm\n",
    "import seaborn as sns\n",
    "from matplotlib import pyplot as plt\n",
    "\n",
    "from run_model import *\n",
    "import root_pandas as rp\n",
    "import uproot"
   ]
  },
  {
   "cell_type": "code",
   "execution_count": 11,
   "metadata": {},
   "outputs": [],
   "source": [
    "channel = 'mt'\n",
    "era = '2017'\n",
    "samples = f'conf/global_config_{channel}_{era}.json'\n",
    "use = 'keras'\n",
    "\n",
    "# train = False\n",
    "# short = True\n",
    "# datacard = False\n",
    "# add_nominal = Falsea\n"
   ]
  },
  {
   "cell_type": "code",
   "execution_count": 12,
   "metadata": {},
   "outputs": [],
   "source": [
    "read = Reader(channel = channel, config_file = samples, folds=2, era = era)"
   ]
  },
  {
   "cell_type": "code",
   "execution_count": 13,
   "metadata": {},
   "outputs": [],
   "source": [
    "target_names = read.config[\"target_names\"]\n",
    "variables = read.config[\"variables\"]\n",
    "\n",
    "models_folder = era + \"/models\"\n",
    "if not os.path.exists(models_folder):\n",
    "    os.makedirs(models_folder)\n",
    "\n",
    "modelname = f'{models_folder}/{channel}.{use}'\n",
    "scaler = None"
   ]
  },
  {
   "cell_type": "code",
   "execution_count": 14,
   "metadata": {
    "scrolled": true
   },
   "outputs": [
    {
     "name": "stdout",
     "output_type": "stream",
     "text": [
      "Loading: TJ from mt-NOMINAL_ntuple_SingleTop.root, tree = TauCheck\n",
      "size of TJ is 2661\n",
      "Loading: TL from mt-NOMINAL_ntuple_SingleTop.root, tree = TauCheck\n",
      "size of TL is 7475\n",
      "Loading: TT from mt-NOMINAL_ntuple_SingleTop.root, tree = TauCheck\n",
      "size of TT is 1069\n",
      "Loading: TTJ from mt-NOMINAL_ntuple_TT.root, tree = TauCheck\n",
      "size of TTJ is 50846\n",
      "Loading: TTL from mt-NOMINAL_ntuple_TT.root, tree = TauCheck\n",
      "size of TTL is 267199\n",
      "Loading: TTT from mt-NOMINAL_ntuple_TT.root, tree = TauCheck\n",
      "size of TTT is 33900\n",
      "Loading: VVJ from mt-NOMINAL_ntuple_VV.root, tree = TauCheck\n",
      "size of VVJ is 938\n",
      "Loading: VVL from mt-NOMINAL_ntuple_VV.root, tree = TauCheck\n",
      "size of VVL is 2773\n",
      "Loading: VVT from mt-NOMINAL_ntuple_VV.root, tree = TauCheck\n",
      "size of VVT is 1365\n",
      "Loading: W from mt-NOMINAL_ntuple_WJets.root, tree = TauCheck\n",
      "size of W is 13093\n",
      "Loading: ZJ from mt-NOMINAL_ntuple_DY.root, tree = TauCheck\n",
      "size of ZJ is 3225\n",
      "Loading: ZL from mt-NOMINAL_ntuple_DY.root, tree = TauCheck\n",
      "size of ZL is 11310\n",
      "Loading: ZTT from mt-NOMINAL_ntuple_DY.root, tree = TauCheck\n",
      "size of ZTT is 144487\n",
      "Loading: estimate from mt-NOMINAL_ntuple_Data.root, tree = TauCheck\n",
      "size of estimate is 48594\n",
      "Loading: ggH125 from mt-NOMINAL_ntuple_ggH.root, tree = TauCheck\n",
      "size of ggH125 is 65136\n",
      "Loading: qqH125 from mt-NOMINAL_ntuple_VBF.root, tree = TauCheck\n",
      "size of qqH125 is 75631\n",
      "Combining for training\n"
     ]
    }
   ],
   "source": [
    "trainSet = read.getSamplesForTraining()"
   ]
  },
  {
   "cell_type": "code",
   "execution_count": 15,
   "metadata": {},
   "outputs": [],
   "source": [
    "scaler = trainScaler(trainSet, variables )\n",
    "with open(\"{0}/StandardScaler.{1}.pkl\".format(models_folder,channel), 'wb') as FSO:\n",
    "    pickle.dump(scaler, FSO , 2)\n",
    "scaler = [scaler, scaler] # Hotfix since KIT uses 2 scalers\n",
    "trainSet = applyScaler(scaler, trainSet, variables)"
   ]
  },
  {
   "cell_type": "markdown",
   "metadata": {},
   "source": [
    "### Model"
   ]
  },
  {
   "cell_type": "code",
   "execution_count": 16,
   "metadata": {
    "scrolled": true
   },
   "outputs": [],
   "source": [
    "if use == 'keras':\n",
    "    from KerasModel import KerasObject as modelObject\n",
    "    parameters = \"conf/parameters_keras.json\"\n",
    "if use == 'xgb':\n",
    "    from XGBModel import XGBObject as modelObject\n",
    "    parameters = \"conf/parameters_xgb.json\""
   ]
  },
  {
   "cell_type": "code",
   "execution_count": 17,
   "metadata": {},
   "outputs": [],
   "source": [
    "model_loaded = modelObject( parameter_file = parameters,\n",
    "                             variables=variables,\n",
    "                             target_names = target_names )"
   ]
  },
  {
   "cell_type": "code",
   "execution_count": 18,
   "metadata": {},
   "outputs": [
    {
     "name": "stderr",
     "output_type": "stream",
     "text": [
      "2020-01-15 20:27:11.129630: I tensorflow/core/platform/cpu_feature_guard.cc:140] Your CPU supports instructions that this TensorFlow binary was not compiled to use: AVX2 FMA\n"
     ]
    }
   ],
   "source": [
    "model_loaded.models = []\n",
    "model_loaded.models.append( lm(modelname + \"_10epochs.fold0\") )\n",
    "model_loaded.models.append( lm(modelname + \"_10epochs.fold1\") )\n"
   ]
  },
  {
   "cell_type": "code",
   "execution_count": 21,
   "metadata": {},
   "outputs": [
    {
     "data": {
      "text/plain": [
       "<Reader.Reader at 0x2b2967502400>"
      ]
     },
     "execution_count": 21,
     "metadata": {},
     "output_type": "execute_result"
    }
   ],
   "source": [
    "read.for_prediction = True\n",
    "read.setFullSamples(True)"
   ]
  },
  {
   "cell_type": "code",
   "execution_count": 25,
   "metadata": {},
   "outputs": [
    {
     "name": "stdout",
     "output_type": "stream",
     "text": [
      "Loading: DY_full from mt-NOMINAL_ntuple_DY.root, tree = TauCheck_CMS_scale_j_JES13TeVUp\n"
     ]
    }
   ],
   "source": [
    "data_cfg = read.itersamples[1]\n",
    "data_sample = read.loadForMe(data_cfg)\n",
    "\n",
    "folds = []\n",
    "for sample in data_sample:\n",
    "    read.modifyDF(sample, data_cfg)\n",
    "    folds.append([sample.query( \"abs(evt % 2) != 0 \" ).reset_index(drop=True), sample.query( \"abs(evt % 2) == 0 \" ).reset_index(drop=True) ])"
   ]
  },
  {
   "cell_type": "code",
   "execution_count": 26,
   "metadata": {},
   "outputs": [
    {
     "data": {
      "text/plain": [
       "4"
      ]
     },
     "execution_count": 26,
     "metadata": {},
     "output_type": "execute_result"
    }
   ],
   "source": [
    "len(folds)"
   ]
  },
  {
   "cell_type": "code",
   "execution_count": 29,
   "metadata": {},
   "outputs": [],
   "source": [
    "fold_prediction = model_loaded.predict( applyScaler(scaler, folds[0], variables) )"
   ]
  },
  {
   "cell_type": "code",
   "execution_count": 30,
   "metadata": {},
   "outputs": [],
   "source": [
    "fold0_prediction = fold_prediction[0].predicted_prob\n",
    "fold1_prediction = fold_prediction[1].predicted_prob"
   ]
  },
  {
   "cell_type": "code",
   "execution_count": 31,
   "metadata": {},
   "outputs": [
    {
     "data": {
      "text/plain": [
       "(0.5444495574496626, 0.5402303859131747)"
      ]
     },
     "execution_count": 31,
     "metadata": {},
     "output_type": "execute_result"
    }
   ],
   "source": [
    "fold0_prediction.mean(), fold1_prediction.mean()"
   ]
  },
  {
   "cell_type": "code",
   "execution_count": 32,
   "metadata": {},
   "outputs": [
    {
     "data": {
      "text/plain": [
       "<matplotlib.axes._subplots.AxesSubplot at 0x2b2ba6a84128>"
      ]
     },
     "execution_count": 32,
     "metadata": {},
     "output_type": "execute_result"
    },
    {
     "data": {
      "image/png": "[encoded data removed]",
      "text/plain": [
       "<Figure size 432x288 with 1 Axes>"
      ]
     },
     "metadata": {
      "needs_background": "light"
     },
     "output_type": "display_data"
    }
   ],
   "source": [
    "sns.distplot(fold0_prediction)\n",
    "sns.distplot(fold1_prediction)"
   ]
  },
  {
   "cell_type": "code",
   "execution_count": null,
   "metadata": {},
   "outputs": [],
   "source": []
  }
 ],
 "metadata": {
  "kernelspec": {
   "display_name": "Python 3",
   "language": "python",
   "name": "python3"
  },
  "language_info": {
   "codemirror_mode": {
    "name": "ipython",
    "version": 3
   },
   "file_extension": ".py",
   "mimetype": "text/x-python",
   "name": "python",
   "nbconvert_exporter": "python",
   "pygments_lexer": "ipython3",
   "version": "3.6.8"
  }
 },
 "nbformat": 4,
 "nbformat_minor": 4
}
