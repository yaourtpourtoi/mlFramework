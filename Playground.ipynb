{
 "cells": [
  {
   "cell_type": "code",
   "execution_count": 20,
   "metadata": {},
   "outputs": [],
   "source": [
    "d = trainSet[0]"
   ]
  },
  {
   "cell_type": "code",
   "execution_count": null,
   "metadata": {},
   "outputs": [],
   "source": [
    "d.query()"
   ]
  },
  {
   "cell_type": "code",
   "execution_count": 1,
   "metadata": {},
   "outputs": [
    {
     "name": "stdout",
     "output_type": "stream",
     "text": [
      "Welcome to JupyROOT 6.18/04\n"
     ]
    },
    {
     "name": "stderr",
     "output_type": "stream",
     "text": [
      "Using TensorFlow backend.\n",
      "/afs/desy.de/user/f/filatovo/.local/lib/python3.6/site-packages/tensorflow/python/framework/dtypes.py:517: FutureWarning: Passing (type, 1) or '1type' as a synonym of type is deprecated; in a future version of numpy, it will be understood as (type, (1,)) / '(1,)type'.\n",
      "  _np_qint8 = np.dtype([(\"qint8\", np.int8, 1)])\n",
      "/afs/desy.de/user/f/filatovo/.local/lib/python3.6/site-packages/tensorflow/python/framework/dtypes.py:518: FutureWarning: Passing (type, 1) or '1type' as a synonym of type is deprecated; in a future version of numpy, it will be understood as (type, (1,)) / '(1,)type'.\n",
      "  _np_quint8 = np.dtype([(\"quint8\", np.uint8, 1)])\n",
      "/afs/desy.de/user/f/filatovo/.local/lib/python3.6/site-packages/tensorflow/python/framework/dtypes.py:519: FutureWarning: Passing (type, 1) or '1type' as a synonym of type is deprecated; in a future version of numpy, it will be understood as (type, (1,)) / '(1,)type'.\n",
      "  _np_qint16 = np.dtype([(\"qint16\", np.int16, 1)])\n",
      "/afs/desy.de/user/f/filatovo/.local/lib/python3.6/site-packages/tensorflow/python/framework/dtypes.py:520: FutureWarning: Passing (type, 1) or '1type' as a synonym of type is deprecated; in a future version of numpy, it will be understood as (type, (1,)) / '(1,)type'.\n",
      "  _np_quint16 = np.dtype([(\"quint16\", np.uint16, 1)])\n",
      "/afs/desy.de/user/f/filatovo/.local/lib/python3.6/site-packages/tensorflow/python/framework/dtypes.py:521: FutureWarning: Passing (type, 1) or '1type' as a synonym of type is deprecated; in a future version of numpy, it will be understood as (type, (1,)) / '(1,)type'.\n",
      "  _np_qint32 = np.dtype([(\"qint32\", np.int32, 1)])\n",
      "/afs/desy.de/user/f/filatovo/.local/lib/python3.6/site-packages/tensorflow/python/framework/dtypes.py:526: FutureWarning: Passing (type, 1) or '1type' as a synonym of type is deprecated; in a future version of numpy, it will be understood as (type, (1,)) / '(1,)type'.\n",
      "  np_resource = np.dtype([(\"resource\", np.ubyte, 1)])\n"
     ]
    }
   ],
   "source": [
    "from Reader import Reader\n",
    "import copy\n",
    "import json\n",
    "import sys\n",
    "import os\n",
    "import time\n",
    "from glob import glob\n",
    "import argparse\n",
    "import _pickle as cPickle\n",
    "import subprocess as sp\n",
    "import multiprocessing as mp\n",
    "from collections import deque\n",
    "\n",
    "import numpy as np\n",
    "import pandas as pd\n",
    "import keras\n",
    "from keras.utils.np_utils import to_categorical\n",
    "from keras.callbacks import EarlyStopping, ModelCheckpoint\n",
    "from keras.models import load_model as lm\n",
    "import seaborn as sns\n",
    "from matplotlib import pyplot as plt\n",
    "\n",
    "from run_model import *\n",
    "import root_pandas as rp\n",
    "import uproot\n",
    "\n",
    "%matplotlib inline"
   ]
  },
  {
   "cell_type": "markdown",
   "metadata": {},
   "source": [
    "### Parameters definition"
   ]
  },
  {
   "cell_type": "code",
   "execution_count": 2,
   "metadata": {},
   "outputs": [],
   "source": [
    "channel = 'mt'\n",
    "era = '2018'\n",
    "samples = f'conf/global_config_{channel}_{era}.json'\n",
    "use = 'keras'\n",
    "\n",
    "# train = False\n",
    "# short = True\n",
    "# datacard = False\n",
    "# add_nominal = False"
   ]
  },
  {
   "cell_type": "code",
   "execution_count": 3,
   "metadata": {},
   "outputs": [],
   "source": [
    "read = Reader(channel = channel, config_file = samples, folds=2, era = era)"
   ]
  },
  {
   "cell_type": "code",
   "execution_count": 4,
   "metadata": {},
   "outputs": [],
   "source": [
    "target_names = read.config[\"target_names\"]\n",
    "variables = read.config[\"variables\"]\n",
    "\n",
    "models_folder = era + \"/models\"\n",
    "if not os.path.exists(models_folder):\n",
    "    os.makedirs(models_folder)\n",
    "\n",
    "modelname = f'{models_folder}/{channel}.{use}'\n",
    "scaler = None"
   ]
  },
  {
   "cell_type": "code",
   "execution_count": null,
   "metadata": {},
   "outputs": [],
   "source": []
  },
  {
   "cell_type": "markdown",
   "metadata": {},
   "source": [
    "### Tests for Reader()"
   ]
  },
  {
   "cell_type": "code",
   "execution_count": 5,
   "metadata": {},
   "outputs": [
    {
     "data": {
      "text/plain": [
       "{'target': 0,\n",
       " 'select': 'os > 0.5 & byMediumDeepTau2017v2p1VSjet_2 > 0.5 & iso_1 < 0.15',\n",
       " 'name': '/nfs/dust/cms/user/filatovo/HTT/CMSSW_10_2_16/src/mlFramework/In_Tuples_2018/mt-NOMINAL_ntuple_VBFHToUncorrTauTau_2018.root',\n",
       " 'event_weight': '( gen_sm_htt125 *  weight * ( 0.95+0.02*( (jpt_1>0 & jpt_1<200) & (njets<2 | ( (jdeta<2.8 | mjj<400 ) & (mjj<60 | mjj>=120 ) ) ) ) - 0.1*(jpt_1>=200) ) * ( 0.8*(gen_match_2 == 5) + 1.*(gen_match_2 !=5) ) )',\n",
       " 'target_name': 'higgs'}"
      ]
     },
     "execution_count": 5,
     "metadata": {},
     "output_type": "execute_result"
    }
   ],
   "source": [
    "read.config['samples']['qqH125']"
   ]
  },
  {
   "cell_type": "code",
   "execution_count": 6,
   "metadata": {},
   "outputs": [
    {
     "data": {
      "text/plain": [
       "{0: 'higgs', 1: 'taus', 2: 'fakes', -1: 'none'}"
      ]
     },
     "execution_count": 6,
     "metadata": {},
     "output_type": "execute_result"
    }
   ],
   "source": [
    "read.config['target_names']"
   ]
  },
  {
   "cell_type": "code",
   "execution_count": 7,
   "metadata": {},
   "outputs": [
    {
     "data": {
      "text/plain": [
       "2"
      ]
     },
     "execution_count": 7,
     "metadata": {},
     "output_type": "execute_result"
    }
   ],
   "source": [
    "read.config['samples']['W']['target']"
   ]
  },
  {
   "cell_type": "code",
   "execution_count": 8,
   "metadata": {},
   "outputs": [
    {
     "data": {
      "text/plain": [
       "'fakes'"
      ]
     },
     "execution_count": 8,
     "metadata": {},
     "output_type": "execute_result"
    }
   ],
   "source": [
    "read.config['samples']['W']['target_name']"
   ]
  },
  {
   "cell_type": "code",
   "execution_count": null,
   "metadata": {},
   "outputs": [],
   "source": []
  },
  {
   "cell_type": "markdown",
   "metadata": {},
   "source": [
    "### Tests for uproot "
   ]
  },
  {
   "cell_type": "code",
   "execution_count": 15,
   "metadata": {},
   "outputs": [],
   "source": [
    "p = '/nfs/dust/cms/user/filatovo/HTT/CMSSW_10_2_16/src/mlFramework/In_Tuples_2018'\n",
    "f = uproot.open(f'{p}/mt-NOMINAL_ntuple_Diboson_2018.root')\n",
    "t = f['TauCheck']"
   ]
  },
  {
   "cell_type": "code",
   "execution_count": 23,
   "metadata": {},
   "outputs": [],
   "source": [
    "df = t.pandas.df()"
   ]
  },
  {
   "cell_type": "code",
   "execution_count": 32,
   "metadata": {},
   "outputs": [
    {
     "data": {
      "text/plain": [
       "Index(['run', 'pt_1', 'eta_1', 'phi_1', 'gen_match_1', 'iso_1', 'puppimt_1',\n",
       "       'ipx_1', 'ipy_1', 'ipz_1', 'IP_signif_PV_with_BS_1', 'pt_2', 'eta_2',\n",
       "       'phi_2', 'gen_match_2', 'puppimt_2', 'tau_decay_mode_2', 'dmMVA_2',\n",
       "       'ipx_2', 'ipy_2', 'ipz_2', 'IP_signif_PV_with_BS_2', 'weight', 'njets',\n",
       "       'mjj', 'jdeta', 'dijetpt', 'jpt_1', 'jpt_2', 'jeta_1', 'jeta_2',\n",
       "       'm_vis', 'pt_tt', 'mt_tot', 'm_sv', 'pt_sv', 'puppimet', 'os', 'nbtag',\n",
       "       'byVVVLooseDeepTau2017v2p1VSjet_2', 'byMediumDeepTau2017v2p1VSjet_2',\n",
       "       'acotautau_refitbs_00', 'acotautau_refitbs_01', 'acotautau_helix_00',\n",
       "       'acotautau_helix_01', 'xsec_lumi_weight', 'prefiring_weight',\n",
       "       'htxs_reco_flag_ggh', 'htxs_reco_flag_qqh', 'ff_nom', 'ff_sys',\n",
       "       'gen_sm_htt125', 'gen_ps_htt125', 'gen_mm_htt125', 'gen_minusmm_htt125',\n",
       "       'gen_mix0p375_htt125'],\n",
       "      dtype='object')"
      ]
     },
     "execution_count": 32,
     "metadata": {},
     "output_type": "execute_result"
    }
   ],
   "source": [
    "df.columns"
   ]
  },
  {
   "cell_type": "code",
   "execution_count": 20,
   "metadata": {},
   "outputs": [],
   "source": [
    "# test_filename = 'mt-NOMINAL_ntuple_Diboson_2018.root'\n",
    "# test_treename = 'TauCheck_CMS_scale_j_BBEC113TeVDown'\n",
    "test_filename = 'mt-NOMINAL_ntuple_EmbeddedMuTau_2018.root'\n",
    "test_treename = 'TauCheck'\n",
    "\n",
    "# mytree = uproot.open(f\"{read.config['path']}/{test_filename}\")[test_treename]\n",
    "# mydf = mytree.pandas.df()"
   ]
  },
  {
   "cell_type": "markdown",
   "metadata": {},
   "source": [
    "#### all branches"
   ]
  },
  {
   "cell_type": "code",
   "execution_count": 21,
   "metadata": {},
   "outputs": [
    {
     "name": "stdout",
     "output_type": "stream",
     "text": [
      "56 s ± 2.18 s per loop (mean ± std. dev. of 7 runs, 1 loop each)\n"
     ]
    }
   ],
   "source": [
    "%%timeit\n",
    "df_up = rp.read_root(f\"{read.config['path']}/{test_filename}\", key=test_treename)"
   ]
  },
  {
   "cell_type": "code",
   "execution_count": 22,
   "metadata": {},
   "outputs": [
    {
     "name": "stdout",
     "output_type": "stream",
     "text": [
      "14.5 s ± 254 ms per loop (mean ± std. dev. of 7 runs, 1 loop each)\n"
     ]
    }
   ],
   "source": [
    "%%timeit\n",
    "mytree = uproot.open(f\"{read.config['path']}/{test_filename}\")[test_treename]\n",
    "mydf = mytree.pandas.df()"
   ]
  },
  {
   "cell_type": "markdown",
   "metadata": {},
   "source": [
    "#### several branches"
   ]
  },
  {
   "cell_type": "code",
   "execution_count": 9,
   "metadata": {},
   "outputs": [],
   "source": [
    "test_filename = 'mt-NOMINAL_ntuple_EmbeddedMuTau_2018.root'\n",
    "test_treename = 'TauCheck'"
   ]
  },
  {
   "cell_type": "code",
   "execution_count": 10,
   "metadata": {},
   "outputs": [],
   "source": [
    "test_branches = ['run', 'pt_1', 'eta_1', 'phi_1', 'gen_match_1', 'iso_1', 'puppimt_1',\n",
    "       'ipx_1', 'ipy_1', 'ipz_1', 'IP_signif_PV_with_BS_1', 'pt_2', 'eta_2',\n",
    "       'phi_2', 'gen_match_2', 'puppimt_2', 'tau_decay_mode_2', 'dmMVA_2',\n",
    "       'ipx_2', 'ipy_2', 'ipz_2', 'IP_signif_PV_with_BS_2', 'weight', 'njets',\n",
    "       'mjj', 'jdeta', 'dijetpt', 'jpt_1', 'jpt_2', 'jeta_1', 'jeta_2',\n",
    "       'm_vis', 'pt_tt', 'mt_tot', 'm_sv', 'pt_sv', 'puppimet', 'os', 'nbtag',\n",
    "       'byVVVLooseDeepTau2017v2p1VSjet_2', 'byMediumDeepTau2017v2p1VSjet_2',\n",
    "       'acotautau_refitbs_00', 'acotautau_refitbs_01', 'acotautau_helix_00',\n",
    "       'acotautau_helix_01', 'xsec_lumi_weight', 'prefiring_weight',\n",
    "       'htxs_reco_flag_ggh', 'htxs_reco_flag_qqh', 'ff_nom', 'ff_sys',\n",
    "       'gen_sm_htt125', 'gen_ps_htt125', 'gen_mm_htt125', 'gen_minusmm_htt125',\n",
    "       'gen_mix0p375_htt125']"
   ]
  },
  {
   "cell_type": "code",
   "execution_count": null,
   "metadata": {},
   "outputs": [],
   "source": [
    "%%time\n",
    "df_rp = rp.read_root(f\"{read.config['path']}/{test_filename}\", key=test_treename, columns=test_branches[:20])"
   ]
  },
  {
   "cell_type": "code",
   "execution_count": 46,
   "metadata": {},
   "outputs": [
    {
     "name": "stdout",
     "output_type": "stream",
     "text": [
      "CPU times: user 4.94 s, sys: 1.19 s, total: 6.13 s\n",
      "Wall time: 6.03 s\n"
     ]
    }
   ],
   "source": [
    "%%time\n",
    "mytree_uproot = uproot.open(f\"{read.config['path']}/{test_filename}\")[test_treename]\n",
    "df_uproot = mytree_uproot.pandas.df(test_branches[:20])"
   ]
  },
  {
   "cell_type": "markdown",
   "metadata": {},
   "source": [
    "#### one branch"
   ]
  },
  {
   "cell_type": "code",
   "execution_count": 24,
   "metadata": {},
   "outputs": [
    {
     "name": "stdout",
     "output_type": "stream",
     "text": [
      "1.2 s ± 67.1 ms per loop (mean ± std. dev. of 7 runs, 1 loop each)\n"
     ]
    }
   ],
   "source": [
    "%%timeit\n",
    "df_up = rp.read_root(f\"{read.config['path']}/{test_filename}\", columns = 'pt_2', key=test_treename)"
   ]
  },
  {
   "cell_type": "code",
   "execution_count": 25,
   "metadata": {},
   "outputs": [
    {
     "name": "stdout",
     "output_type": "stream",
     "text": [
      "356 ms ± 17.5 ms per loop (mean ± std. dev. of 7 runs, 1 loop each)\n"
     ]
    }
   ],
   "source": [
    "%%timeit\n",
    "mytree = uproot.open(f\"{read.config['path']}/{test_filename}\")[test_treename]\n",
    "mydf = mytree.pandas.df(branches='pt_2')"
   ]
  },
  {
   "cell_type": "code",
   "execution_count": null,
   "metadata": {},
   "outputs": [],
   "source": []
  },
  {
   "cell_type": "markdown",
   "metadata": {},
   "source": [
    "### **Training data + scaling**"
   ]
  },
  {
   "cell_type": "code",
   "execution_count": 9,
   "metadata": {},
   "outputs": [
    {
     "name": "stdout",
     "output_type": "stream",
     "text": [
      "Loading: TJ from mt-NOMINAL_ntuple_SingleTop_2018.root, tree = TauCheck\n",
      "size of TJ is 6454\n",
      "Loading: TL from mt-NOMINAL_ntuple_SingleTop_2018.root, tree = TauCheck\n",
      "size of TL is 3491\n",
      "Loading: TT from mt-NOMINAL_ntuple_SingleTop_2018.root, tree = TauCheck\n",
      "size of TT is 441\n",
      "Loading: TTJ from mt-NOMINAL_ntuple_TTbar_2018.root, tree = TauCheck\n",
      "size of TTJ is 10418\n",
      "Loading: TTL from mt-NOMINAL_ntuple_TTbar_2018.root, tree = TauCheck\n",
      "size of TTL is 52280\n",
      "Loading: TTT from mt-NOMINAL_ntuple_TTbar_2018.root, tree = TauCheck\n",
      "size of TTT is 6609\n",
      "Loading: VVJ from mt-NOMINAL_ntuple_Diboson_2018.root, tree = TauCheck\n",
      "size of VVJ is 1496\n",
      "Loading: VVL from mt-NOMINAL_ntuple_Diboson_2018.root, tree = TauCheck\n",
      "size of VVL is 3680\n",
      "Loading: VVT from mt-NOMINAL_ntuple_Diboson_2018.root, tree = TauCheck\n",
      "size of VVT is 1747\n",
      "Loading: W from mt-NOMINAL_ntuple_WJets_2018.root, tree = TauCheck\n",
      "size of W is 17842\n",
      "Loading: ZJ from mt-NOMINAL_ntuple_DYJets_2018.root, tree = TauCheck\n",
      "size of ZJ is 9118\n",
      "Loading: ZL from mt-NOMINAL_ntuple_DYJets_2018.root, tree = TauCheck\n",
      "size of ZL is 7891\n",
      "Loading: ZTT from mt-NOMINAL_ntuple_DYJets_2018.root, tree = TauCheck\n",
      "size of ZTT is 274950\n",
      "Loading: estimate from mt-NOMINAL_ntuple_SingleMuon_2018.root, tree = TauCheck\n",
      "size of estimate is 143490\n",
      "Loading: ggH125 from mt-NOMINAL_ntuple_GluGluHToUncorrTauTau_2018.root, tree = TauCheck\n",
      "size of ggH125 is 1290069\n",
      "Loading: qqH125 from mt-NOMINAL_ntuple_VBFHToUncorrTauTau_2018.root, tree = TauCheck\n",
      "size of qqH125 is 1584569\n",
      "Combining for training\n",
      "CPU times: user 45.6 s, sys: 5.83 s, total: 51.4 s\n",
      "Wall time: 1min 6s\n"
     ]
    }
   ],
   "source": [
    "%%time\n",
    "trainSet = read.getSamplesForTraining()"
   ]
  },
  {
   "cell_type": "code",
   "execution_count": 10,
   "metadata": {},
   "outputs": [],
   "source": [
    "scaler = trainScaler(trainSet, variables )\n",
    "with open(\"{0}/StandardScaler.{1}.pkl\".format(models_folder,channel), 'wb') as FSO:\n",
    "    pickle.dump(scaler, FSO , 2)\n",
    "scaler = [scaler, scaler] # Hotfix since KIT uses 2 scalers\n",
    "trainSet = applyScaler(scaler, trainSet, variables)"
   ]
  },
  {
   "cell_type": "code",
   "execution_count": null,
   "metadata": {},
   "outputs": [],
   "source": []
  },
  {
   "cell_type": "markdown",
   "metadata": {},
   "source": [
    "### **Looking into trainSet data**"
   ]
  },
  {
   "cell_type": "code",
   "execution_count": 11,
   "metadata": {},
   "outputs": [],
   "source": [
    "data = trainSet[1]"
   ]
  },
  {
   "cell_type": "code",
   "execution_count": 12,
   "metadata": {
    "scrolled": true
   },
   "outputs": [
    {
     "data": {
      "text/html": [
       "<div>\n",
       "<style scoped>\n",
       "    .dataframe tbody tr th:only-of-type {\n",
       "        vertical-align: middle;\n",
       "    }\n",
       "\n",
       "    .dataframe tbody tr th {\n",
       "        vertical-align: top;\n",
       "    }\n",
       "\n",
       "    .dataframe thead th {\n",
       "        text-align: right;\n",
       "    }\n",
       "</style>\n",
       "<table border=\"1\" class=\"dataframe\">\n",
       "  <thead>\n",
       "    <tr style=\"text-align: right;\">\n",
       "      <th></th>\n",
       "      <th>pt_2</th>\n",
       "      <th>jpt_1</th>\n",
       "      <th>jpt_2</th>\n",
       "      <th>njets</th>\n",
       "      <th>m_sv</th>\n",
       "      <th>puppimt_1</th>\n",
       "      <th>pt_tt</th>\n",
       "      <th>mjj</th>\n",
       "      <th>jdeta</th>\n",
       "      <th>dijetpt</th>\n",
       "      <th>target</th>\n",
       "      <th>train_weight</th>\n",
       "      <th>evt</th>\n",
       "      <th>event_weight</th>\n",
       "    </tr>\n",
       "  </thead>\n",
       "  <tbody>\n",
       "    <tr>\n",
       "      <th>0</th>\n",
       "      <td>-0.264138</td>\n",
       "      <td>0.279096</td>\n",
       "      <td>0.986585</td>\n",
       "      <td>0.753062</td>\n",
       "      <td>-0.063955</td>\n",
       "      <td>1.405820</td>\n",
       "      <td>0.101988</td>\n",
       "      <td>1.657341</td>\n",
       "      <td>1.589535</td>\n",
       "      <td>0.686236</td>\n",
       "      <td>0</td>\n",
       "      <td>1.531491</td>\n",
       "      <td>54096030</td>\n",
       "      <td>0.007345</td>\n",
       "    </tr>\n",
       "    <tr>\n",
       "      <th>1</th>\n",
       "      <td>-0.855204</td>\n",
       "      <td>-0.389077</td>\n",
       "      <td>-0.674310</td>\n",
       "      <td>-0.174887</td>\n",
       "      <td>-0.522814</td>\n",
       "      <td>1.367238</td>\n",
       "      <td>-0.883310</td>\n",
       "      <td>-0.485763</td>\n",
       "      <td>-0.764818</td>\n",
       "      <td>-0.609965</td>\n",
       "      <td>0</td>\n",
       "      <td>6.949815</td>\n",
       "      <td>47005890</td>\n",
       "      <td>0.033332</td>\n",
       "    </tr>\n",
       "    <tr>\n",
       "      <th>2</th>\n",
       "      <td>-0.652252</td>\n",
       "      <td>0.111550</td>\n",
       "      <td>1.005085</td>\n",
       "      <td>0.753062</td>\n",
       "      <td>-0.574093</td>\n",
       "      <td>-1.329406</td>\n",
       "      <td>-0.196257</td>\n",
       "      <td>1.547662</td>\n",
       "      <td>1.596267</td>\n",
       "      <td>0.262730</td>\n",
       "      <td>0</td>\n",
       "      <td>2.299709</td>\n",
       "      <td>13380000</td>\n",
       "      <td>0.011030</td>\n",
       "    </tr>\n",
       "    <tr>\n",
       "      <th>3</th>\n",
       "      <td>0.692803</td>\n",
       "      <td>1.338945</td>\n",
       "      <td>0.828438</td>\n",
       "      <td>0.753062</td>\n",
       "      <td>0.213427</td>\n",
       "      <td>-1.338299</td>\n",
       "      <td>1.477282</td>\n",
       "      <td>4.528494</td>\n",
       "      <td>1.762198</td>\n",
       "      <td>1.749751</td>\n",
       "      <td>0</td>\n",
       "      <td>1.026919</td>\n",
       "      <td>84822422</td>\n",
       "      <td>0.004925</td>\n",
       "    </tr>\n",
       "    <tr>\n",
       "      <th>4</th>\n",
       "      <td>-0.765442</td>\n",
       "      <td>-0.948818</td>\n",
       "      <td>-0.674310</td>\n",
       "      <td>-1.102836</td>\n",
       "      <td>-0.743353</td>\n",
       "      <td>0.462752</td>\n",
       "      <td>-0.715056</td>\n",
       "      <td>-0.485763</td>\n",
       "      <td>-0.764818</td>\n",
       "      <td>-0.609965</td>\n",
       "      <td>1</td>\n",
       "      <td>276.624783</td>\n",
       "      <td>212580338</td>\n",
       "      <td>184.416522</td>\n",
       "    </tr>\n",
       "  </tbody>\n",
       "</table>\n",
       "</div>"
      ],
      "text/plain": [
       "       pt_2     jpt_1     jpt_2     njets      m_sv  puppimt_1     pt_tt  \\\n",
       "0 -0.264138  0.279096  0.986585  0.753062 -0.063955   1.405820  0.101988   \n",
       "1 -0.855204 -0.389077 -0.674310 -0.174887 -0.522814   1.367238 -0.883310   \n",
       "2 -0.652252  0.111550  1.005085  0.753062 -0.574093  -1.329406 -0.196257   \n",
       "3  0.692803  1.338945  0.828438  0.753062  0.213427  -1.338299  1.477282   \n",
       "4 -0.765442 -0.948818 -0.674310 -1.102836 -0.743353   0.462752 -0.715056   \n",
       "\n",
       "        mjj     jdeta   dijetpt  target  train_weight        evt  event_weight  \n",
       "0  1.657341  1.589535  0.686236       0      1.531491   54096030      0.007345  \n",
       "1 -0.485763 -0.764818 -0.609965       0      6.949815   47005890      0.033332  \n",
       "2  1.547662  1.596267  0.262730       0      2.299709   13380000      0.011030  \n",
       "3  4.528494  1.762198  1.749751       0      1.026919   84822422      0.004925  \n",
       "4 -0.485763 -0.764818 -0.609965       1    276.624783  212580338    184.416522  "
      ]
     },
     "execution_count": 12,
     "metadata": {},
     "output_type": "execute_result"
    }
   ],
   "source": [
    "data.head()"
   ]
  },
  {
   "cell_type": "code",
   "execution_count": 13,
   "metadata": {},
   "outputs": [
    {
     "data": {
      "text/plain": [
       "Index(['pt_2', 'jpt_1', 'jpt_2', 'njets', 'm_sv', 'puppimt_1', 'pt_tt', 'mjj',\n",
       "       'jdeta', 'dijetpt', 'target', 'train_weight', 'evt', 'event_weight'],\n",
       "      dtype='object')"
      ]
     },
     "execution_count": 13,
     "metadata": {},
     "output_type": "execute_result"
    }
   ],
   "source": [
    "data.columns"
   ]
  },
  {
   "cell_type": "code",
   "execution_count": 14,
   "metadata": {},
   "outputs": [
    {
     "data": {
      "text/plain": [
       "array([0, 1, 2])"
      ]
     },
     "execution_count": 14,
     "metadata": {},
     "output_type": "execute_result"
    }
   ],
   "source": [
    "np.unique(data.target)"
   ]
  },
  {
   "cell_type": "code",
   "execution_count": null,
   "metadata": {},
   "outputs": [],
   "source": []
  },
  {
   "cell_type": "markdown",
   "metadata": {},
   "source": [
    "### **NaNs**"
   ]
  },
  {
   "cell_type": "code",
   "execution_count": 15,
   "metadata": {},
   "outputs": [
    {
     "name": "stdout",
     "output_type": "stream",
     "text": [
      "got 2 NaNs here\n"
     ]
    },
    {
     "name": "stderr",
     "output_type": "stream",
     "text": [
      "/usr/local/lib64/python3.6/site-packages/numpy/core/fromnumeric.py:61: FutureWarning: Series.nonzero() is deprecated and will be removed in a future version.Use Series.to_numpy().nonzero() instead\n",
      "  return bound(*args, **kwds)\n"
     ]
    }
   ],
   "source": [
    "nan_args = np.argwhere(data.train_weight.isna())\n",
    "print(f'got {nan_args.shape[0]} NaNs here')"
   ]
  },
  {
   "cell_type": "code",
   "execution_count": 16,
   "metadata": {},
   "outputs": [
    {
     "data": {
      "text/html": [
       "<div>\n",
       "<style scoped>\n",
       "    .dataframe tbody tr th:only-of-type {\n",
       "        vertical-align: middle;\n",
       "    }\n",
       "\n",
       "    .dataframe tbody tr th {\n",
       "        vertical-align: top;\n",
       "    }\n",
       "\n",
       "    .dataframe thead th {\n",
       "        text-align: right;\n",
       "    }\n",
       "</style>\n",
       "<table border=\"1\" class=\"dataframe\">\n",
       "  <thead>\n",
       "    <tr style=\"text-align: right;\">\n",
       "      <th></th>\n",
       "      <th>pt_2</th>\n",
       "      <th>jpt_1</th>\n",
       "      <th>jpt_2</th>\n",
       "      <th>njets</th>\n",
       "      <th>m_sv</th>\n",
       "      <th>puppimt_1</th>\n",
       "      <th>pt_tt</th>\n",
       "      <th>mjj</th>\n",
       "      <th>jdeta</th>\n",
       "      <th>dijetpt</th>\n",
       "      <th>target</th>\n",
       "      <th>train_weight</th>\n",
       "      <th>evt</th>\n",
       "      <th>event_weight</th>\n",
       "    </tr>\n",
       "  </thead>\n",
       "  <tbody>\n",
       "    <tr>\n",
       "      <th>410315</th>\n",
       "      <td>-0.048573</td>\n",
       "      <td>0.816373</td>\n",
       "      <td>-0.67431</td>\n",
       "      <td>-0.174887</td>\n",
       "      <td>-0.23011</td>\n",
       "      <td>1.96085</td>\n",
       "      <td>1.37565</td>\n",
       "      <td>-0.485763</td>\n",
       "      <td>-0.764818</td>\n",
       "      <td>-0.609965</td>\n",
       "      <td>0</td>\n",
       "      <td>NaN</td>\n",
       "      <td>60372980</td>\n",
       "      <td>NaN</td>\n",
       "    </tr>\n",
       "  </tbody>\n",
       "</table>\n",
       "</div>"
      ],
      "text/plain": [
       "            pt_2     jpt_1    jpt_2     njets     m_sv  puppimt_1    pt_tt  \\\n",
       "410315 -0.048573  0.816373 -0.67431 -0.174887 -0.23011    1.96085  1.37565   \n",
       "\n",
       "             mjj     jdeta   dijetpt  target  train_weight       evt  \\\n",
       "410315 -0.485763 -0.764818 -0.609965       0           NaN  60372980   \n",
       "\n",
       "        event_weight  \n",
       "410315           NaN  "
      ]
     },
     "execution_count": 16,
     "metadata": {},
     "output_type": "execute_result"
    }
   ],
   "source": [
    "data.iloc[nan_args[0]]"
   ]
  },
  {
   "cell_type": "code",
   "execution_count": 17,
   "metadata": {},
   "outputs": [
    {
     "data": {
      "text/html": [
       "<div>\n",
       "<style scoped>\n",
       "    .dataframe tbody tr th:only-of-type {\n",
       "        vertical-align: middle;\n",
       "    }\n",
       "\n",
       "    .dataframe tbody tr th {\n",
       "        vertical-align: top;\n",
       "    }\n",
       "\n",
       "    .dataframe thead th {\n",
       "        text-align: right;\n",
       "    }\n",
       "</style>\n",
       "<table border=\"1\" class=\"dataframe\">\n",
       "  <thead>\n",
       "    <tr style=\"text-align: right;\">\n",
       "      <th></th>\n",
       "      <th>pt_2</th>\n",
       "      <th>jpt_1</th>\n",
       "      <th>jpt_2</th>\n",
       "      <th>njets</th>\n",
       "      <th>m_sv</th>\n",
       "      <th>puppimt_1</th>\n",
       "      <th>pt_tt</th>\n",
       "      <th>mjj</th>\n",
       "      <th>jdeta</th>\n",
       "      <th>dijetpt</th>\n",
       "      <th>target</th>\n",
       "      <th>train_weight</th>\n",
       "      <th>evt</th>\n",
       "      <th>event_weight</th>\n",
       "    </tr>\n",
       "  </thead>\n",
       "  <tbody>\n",
       "    <tr>\n",
       "      <th>949281</th>\n",
       "      <td>0.16709</td>\n",
       "      <td>1.430804</td>\n",
       "      <td>0.835269</td>\n",
       "      <td>1.681011</td>\n",
       "      <td>0.159958</td>\n",
       "      <td>0.69868</td>\n",
       "      <td>2.555698</td>\n",
       "      <td>-0.316061</td>\n",
       "      <td>0.770004</td>\n",
       "      <td>1.998089</td>\n",
       "      <td>0</td>\n",
       "      <td>NaN</td>\n",
       "      <td>11831576</td>\n",
       "      <td>NaN</td>\n",
       "    </tr>\n",
       "  </tbody>\n",
       "</table>\n",
       "</div>"
      ],
      "text/plain": [
       "           pt_2     jpt_1     jpt_2     njets      m_sv  puppimt_1     pt_tt  \\\n",
       "949281  0.16709  1.430804  0.835269  1.681011  0.159958    0.69868  2.555698   \n",
       "\n",
       "             mjj     jdeta   dijetpt  target  train_weight       evt  \\\n",
       "949281 -0.316061  0.770004  1.998089       0           NaN  11831576   \n",
       "\n",
       "        event_weight  \n",
       "949281           NaN  "
      ]
     },
     "execution_count": 17,
     "metadata": {},
     "output_type": "execute_result"
    }
   ],
   "source": [
    "data.iloc[nan_args[1]]"
   ]
  },
  {
   "cell_type": "code",
   "execution_count": 34,
   "metadata": {},
   "outputs": [
    {
     "data": {
      "text/plain": [
       "array(['train_weight', 'event_weight'], dtype=object)"
      ]
     },
     "execution_count": 34,
     "metadata": {},
     "output_type": "execute_result"
    }
   ],
   "source": [
    "data.columns[(np.sum(data.isna())) != 0].values"
   ]
  },
  {
   "cell_type": "code",
   "execution_count": 30,
   "metadata": {},
   "outputs": [
    {
     "data": {
      "text/plain": [
       "4"
      ]
     },
     "execution_count": 30,
     "metadata": {},
     "output_type": "execute_result"
    }
   ],
   "source": [
    "np.sum(data.isna()).sum()"
   ]
  },
  {
   "cell_type": "code",
   "execution_count": null,
   "metadata": {},
   "outputs": [],
   "source": []
  },
  {
   "cell_type": "code",
   "execution_count": null,
   "metadata": {},
   "outputs": [],
   "source": []
  },
  {
   "cell_type": "code",
   "execution_count": 149,
   "metadata": {},
   "outputs": [],
   "source": [
    "test_filename = 'mt-NOMINAL_ntuple_VBFHToUncorrTauTau_2018.root'\n",
    "test_treename = 'TauCheck'"
   ]
  },
  {
   "cell_type": "code",
   "execution_count": 150,
   "metadata": {},
   "outputs": [],
   "source": [
    "mytree = uproot.open(f\"{read.config['path']}/{test_filename}\")[test_treename]\n",
    "df = mytree.pandas.df(['gen_sm_htt125', 'evt'])"
   ]
  },
  {
   "cell_type": "code",
   "execution_count": 152,
   "metadata": {},
   "outputs": [
    {
     "data": {
      "text/html": [
       "<div>\n",
       "<style scoped>\n",
       "    .dataframe tbody tr th:only-of-type {\n",
       "        vertical-align: middle;\n",
       "    }\n",
       "\n",
       "    .dataframe tbody tr th {\n",
       "        vertical-align: top;\n",
       "    }\n",
       "\n",
       "    .dataframe thead th {\n",
       "        text-align: right;\n",
       "    }\n",
       "</style>\n",
       "<table border=\"1\" class=\"dataframe\">\n",
       "  <thead>\n",
       "    <tr style=\"text-align: right;\">\n",
       "      <th></th>\n",
       "      <th>gen_sm_htt125</th>\n",
       "      <th>evt</th>\n",
       "    </tr>\n",
       "    <tr>\n",
       "      <th>entry</th>\n",
       "      <th></th>\n",
       "      <th></th>\n",
       "    </tr>\n",
       "  </thead>\n",
       "  <tbody>\n",
       "    <tr>\n",
       "      <th>92476</th>\n",
       "      <td>NaN</td>\n",
       "      <td>11831576</td>\n",
       "    </tr>\n",
       "    <tr>\n",
       "      <th>1763135</th>\n",
       "      <td>NaN</td>\n",
       "      <td>60372980</td>\n",
       "    </tr>\n",
       "  </tbody>\n",
       "</table>\n",
       "</div>"
      ],
      "text/plain": [
       "         gen_sm_htt125       evt\n",
       "entry                           \n",
       "92476              NaN  11831576\n",
       "1763135            NaN  60372980"
      ]
     },
     "execution_count": 152,
     "metadata": {},
     "output_type": "execute_result"
    }
   ],
   "source": [
    "df[df.isna().values]"
   ]
  },
  {
   "cell_type": "code",
   "execution_count": 142,
   "metadata": {},
   "outputs": [
    {
     "data": {
      "text/plain": [
       "True"
      ]
     },
     "execution_count": 142,
     "metadata": {},
     "output_type": "execute_result"
    }
   ],
   "source": [
    "11831576 in df.evt.values"
   ]
  },
  {
   "cell_type": "code",
   "execution_count": null,
   "metadata": {},
   "outputs": [],
   "source": []
  },
  {
   "cell_type": "code",
   "execution_count": null,
   "metadata": {},
   "outputs": [],
   "source": []
  },
  {
   "cell_type": "code",
   "execution_count": 12,
   "metadata": {},
   "outputs": [],
   "source": [
    "trainSet[0].dropna(inplace=True)\n",
    "trainSet[1].dropna(inplace=True)"
   ]
  },
  {
   "cell_type": "code",
   "execution_count": null,
   "metadata": {},
   "outputs": [],
   "source": []
  },
  {
   "cell_type": "markdown",
   "metadata": {},
   "source": [
    "### **Defining model and training**"
   ]
  },
  {
   "cell_type": "code",
   "execution_count": 11,
   "metadata": {},
   "outputs": [],
   "source": [
    "if use == 'keras':\n",
    "    from KerasModel import KerasObject as modelObject\n",
    "    parameters = \"conf/parameters_keras.json\"\n",
    "if use == 'xgb':\n",
    "    from XGBModel import XGBObject as modelObject\n",
    "    parameters = \"conf/parameters_xgb.json\""
   ]
  },
  {
   "cell_type": "code",
   "execution_count": 30,
   "metadata": {},
   "outputs": [],
   "source": [
    "model = modelObject( parameter_file = parameters,\n",
    "                             variables=variables,\n",
    "                             target_names = target_names )\n"
   ]
  },
  {
   "cell_type": "code",
   "execution_count": 31,
   "metadata": {},
   "outputs": [
    {
     "data": {
      "text/plain": [
       "{'name': 'smhtt_dropout_tanh',\n",
       " 'batch_size': 10000,\n",
       " 'epochs': 3,\n",
       " 'early_stopping': 50}"
      ]
     },
     "execution_count": 31,
     "metadata": {},
     "output_type": "execute_result"
    }
   ],
   "source": [
    "model.params"
   ]
  },
  {
   "cell_type": "code",
   "execution_count": 32,
   "metadata": {},
   "outputs": [
    {
     "data": {
      "text/plain": [
       "['pt_2',\n",
       " 'jpt_1',\n",
       " 'jpt_2',\n",
       " 'njets',\n",
       " 'm_sv',\n",
       " 'puppimt_1',\n",
       " 'pt_tt',\n",
       " 'mjj',\n",
       " 'jdeta',\n",
       " 'dijetpt']"
      ]
     },
     "execution_count": 32,
     "metadata": {},
     "output_type": "execute_result"
    }
   ],
   "source": [
    "model.variables"
   ]
  },
  {
   "cell_type": "code",
   "execution_count": 33,
   "metadata": {
    "scrolled": true
   },
   "outputs": [
    {
     "name": "stdout",
     "output_type": "stream",
     "text": [
      "_________________________________________________________________\n",
      "Layer (type)                 Output Shape              Param #   \n",
      "=================================================================\n",
      "dense_7 (Dense)              (None, 200)               2200      \n",
      "_________________________________________________________________\n",
      "activation_7 (Activation)    (None, 200)               0         \n",
      "_________________________________________________________________\n",
      "dropout_5 (Dropout)          (None, 200)               0         \n",
      "_________________________________________________________________\n",
      "dense_8 (Dense)              (None, 200)               40200     \n",
      "_________________________________________________________________\n",
      "activation_8 (Activation)    (None, 200)               0         \n",
      "_________________________________________________________________\n",
      "dropout_6 (Dropout)          (None, 200)               0         \n",
      "_________________________________________________________________\n",
      "dense_9 (Dense)              (None, 3)                 603       \n",
      "_________________________________________________________________\n",
      "activation_9 (Activation)    (None, 3)                 0         \n",
      "=================================================================\n",
      "Total params: 43,003\n",
      "Trainable params: 43,003\n",
      "Non-trainable params: 0\n",
      "_________________________________________________________________\n",
      "Train on 1279961 samples, validate on 426654 samples\n",
      "Epoch 1/3\n",
      "1279961/1279961 [==============================] - 31s 25us/step - loss: 27.2947 - categorical_accuracy: 0.3603 - val_loss: 25.5266 - val_categorical_accuracy: 0.4419\n",
      "\n",
      "Epoch 00001: val_loss improved from inf to 25.52665, saving model to 1580837931.model\n",
      "Epoch 2/3\n",
      "1279961/1279961 [==============================] - 30s 24us/step - loss: 25.9630 - categorical_accuracy: 0.4719 - val_loss: 25.2338 - val_categorical_accuracy: 0.5312\n",
      "\n",
      "Epoch 00002: val_loss improved from 25.52665 to 25.23381, saving model to 1580837931.model\n",
      "Epoch 3/3\n",
      "1279961/1279961 [==============================] - 30s 24us/step - loss: 25.7228 - categorical_accuracy: 0.5341 - val_loss: 25.0306 - val_categorical_accuracy: 0.5687\n",
      "\n",
      "Epoch 00003: val_loss improved from 25.23381 to 25.03059, saving model to 1580837931.model\n",
      "plotting training\n",
      "Reloading best model\n",
      "_________________________________________________________________\n",
      "Layer (type)                 Output Shape              Param #   \n",
      "=================================================================\n",
      "dense_10 (Dense)             (None, 200)               2200      \n",
      "_________________________________________________________________\n",
      "activation_10 (Activation)   (None, 200)               0         \n",
      "_________________________________________________________________\n",
      "dropout_7 (Dropout)          (None, 200)               0         \n",
      "_________________________________________________________________\n",
      "dense_11 (Dense)             (None, 200)               40200     \n",
      "_________________________________________________________________\n",
      "activation_11 (Activation)   (None, 200)               0         \n",
      "_________________________________________________________________\n",
      "dropout_8 (Dropout)          (None, 200)               0         \n",
      "_________________________________________________________________\n",
      "dense_12 (Dense)             (None, 3)                 603       \n",
      "_________________________________________________________________\n",
      "activation_12 (Activation)   (None, 3)                 0         \n",
      "=================================================================\n",
      "Total params: 43,003\n",
      "Trainable params: 43,003\n",
      "Non-trainable params: 0\n",
      "_________________________________________________________________\n",
      "Train on 1280946 samples, validate on 426982 samples\n",
      "Epoch 1/3\n",
      "1280946/1280946 [==============================] - 33s 26us/step - loss: 26.6492 - categorical_accuracy: 0.4082 - val_loss: 25.1975 - val_categorical_accuracy: 0.4785\n",
      "\n",
      "Epoch 00001: val_loss improved from inf to 25.19749, saving model to 1580838026.model\n",
      "Epoch 2/3\n",
      "1280946/1280946 [==============================] - 33s 26us/step - loss: 25.8357 - categorical_accuracy: 0.5030 - val_loss: 24.9220 - val_categorical_accuracy: 0.5571\n",
      "\n",
      "Epoch 00002: val_loss improved from 25.19749 to 24.92203, saving model to 1580838026.model\n",
      "Epoch 3/3\n",
      "1280946/1280946 [==============================] - 32s 25us/step - loss: 25.5507 - categorical_accuracy: 0.5568 - val_loss: 24.7220 - val_categorical_accuracy: 0.5888\n",
      "\n",
      "Epoch 00003: val_loss improved from 24.92203 to 24.72204, saving model to 1580838026.model\n",
      "plotting training\n",
      "Reloading best model\n",
      "Finished training!\n"
     ]
    }
   ],
   "source": [
    "model.train( trainSet )"
   ]
  },
  {
   "cell_type": "code",
   "execution_count": 34,
   "metadata": {
    "scrolled": true
   },
   "outputs": [
    {
     "data": {
      "text/plain": [
       "[<keras.models.Sequential at 0x2b6af193ce48>,\n",
       " <keras.models.Sequential at 0x2b6af322bb38>]"
      ]
     },
     "execution_count": 34,
     "metadata": {},
     "output_type": "execute_result"
    }
   ],
   "source": [
    "model.models"
   ]
  },
  {
   "cell_type": "code",
   "execution_count": 35,
   "metadata": {},
   "outputs": [
    {
     "data": {
      "text/plain": [
       "'2018/models/mt.keras'"
      ]
     },
     "execution_count": 35,
     "metadata": {},
     "output_type": "execute_result"
    }
   ],
   "source": [
    "modelname"
   ]
  },
  {
   "cell_type": "code",
   "execution_count": 36,
   "metadata": {
    "scrolled": true
   },
   "outputs": [
    {
     "data": {
      "text/plain": [
       "{'variables': ['pt_2',\n",
       "  'jpt_1',\n",
       "  'jpt_2',\n",
       "  'njets',\n",
       "  'm_sv',\n",
       "  'puppimt_1',\n",
       "  'pt_tt',\n",
       "  'mjj',\n",
       "  'jdeta',\n",
       "  'dijetpt'],\n",
       " 'models': [<keras.models.Sequential at 0x2b6af193ce48>,\n",
       "  <keras.models.Sequential at 0x2b6af322bb38>],\n",
       " 'params': {'name': 'smhtt_dropout_tanh',\n",
       "  'batch_size': 10000,\n",
       "  'epochs': 3,\n",
       "  'early_stopping': 50},\n",
       " 'target_names': {0: 'higgs', 1: 'taus', 2: 'fakes', -1: 'none'}}"
      ]
     },
     "execution_count": 36,
     "metadata": {},
     "output_type": "execute_result"
    }
   ],
   "source": [
    "model.__dict__"
   ]
  },
  {
   "cell_type": "code",
   "execution_count": 37,
   "metadata": {},
   "outputs": [],
   "source": [
    "# Save models\n",
    "model.models[0].save(modelname + \"_v0_3epochs.fold0\")\n",
    "model.models[1].save(modelname + \"_v0_3epochs.fold1\")"
   ]
  },
  {
   "cell_type": "code",
   "execution_count": null,
   "metadata": {},
   "outputs": [],
   "source": []
  },
  {
   "cell_type": "markdown",
   "metadata": {},
   "source": [
    "### Load model"
   ]
  },
  {
   "cell_type": "code",
   "execution_count": 12,
   "metadata": {},
   "outputs": [],
   "source": [
    "model_loaded = modelObject( parameter_file = parameters,\n",
    "                             variables=variables,\n",
    "                             target_names = target_names )"
   ]
  },
  {
   "cell_type": "code",
   "execution_count": 13,
   "metadata": {},
   "outputs": [
    {
     "name": "stderr",
     "output_type": "stream",
     "text": [
      "2020-02-04 23:24:46.717786: I tensorflow/core/platform/cpu_feature_guard.cc:140] Your CPU supports instructions that this TensorFlow binary was not compiled to use: AVX2 FMA\n"
     ]
    }
   ],
   "source": [
    "model_loaded.models = []\n",
    "model_loaded.models.append( lm(modelname + \"_v0_30epochs.fold0\") )\n",
    "model_loaded.models.append( lm(modelname + \"_v0_30epochs.fold1\") )\n"
   ]
  },
  {
   "cell_type": "code",
   "execution_count": 14,
   "metadata": {},
   "outputs": [
    {
     "data": {
      "text/plain": [
       "{'variables': ['pt_2',\n",
       "  'jpt_1',\n",
       "  'jpt_2',\n",
       "  'njets',\n",
       "  'm_sv',\n",
       "  'puppimt_1',\n",
       "  'pt_tt',\n",
       "  'mjj',\n",
       "  'jdeta',\n",
       "  'dijetpt'],\n",
       " 'models': [<keras.models.Sequential at 0x2b9005e44748>,\n",
       "  <keras.models.Sequential at 0x2b9005e440f0>],\n",
       " 'params': {'name': 'smhtt_dropout_tanh',\n",
       "  'batch_size': 10000,\n",
       "  'epochs': 3,\n",
       "  'early_stopping': 50},\n",
       " 'target_names': {0: 'higgs', 1: 'taus', 2: 'fakes', -1: 'none'}}"
      ]
     },
     "execution_count": 14,
     "metadata": {},
     "output_type": "execute_result"
    }
   ],
   "source": [
    "model_loaded.__dict__"
   ]
  },
  {
   "cell_type": "markdown",
   "metadata": {},
   "source": [
    "### Prediction"
   ]
  },
  {
   "cell_type": "code",
   "execution_count": 15,
   "metadata": {},
   "outputs": [],
   "source": [
    "from run_model import sandbox"
   ]
  },
  {
   "cell_type": "code",
   "execution_count": 16,
   "metadata": {},
   "outputs": [],
   "source": [
    "outpath = read.config[\"outpath\"] + \"/predictions_\" + era\n",
    "if not os.path.exists(outpath):\n",
    "    os.mkdir(outpath)    \n",
    "predictions = {}"
   ]
  },
  {
   "cell_type": "code",
   "execution_count": 17,
   "metadata": {},
   "outputs": [],
   "source": [
    "# Deleting root files in outpath\n",
    "files = glob(outpath + '/*.root')\n",
    "for f in files:\n",
    "    os.remove(f)"
   ]
  },
  {
   "cell_type": "code",
   "execution_count": 19,
   "metadata": {},
   "outputs": [
    {
     "name": "stdout",
     "output_type": "stream",
     "text": [
      "Loading: DY_full from mt-NOMINAL_ntuple_DYJets_2018.root, tree = TauCheck\n",
      "Loading: DY_full from mt-NOMINAL_ntuple_DYJets_2018.root, tree = TauCheck_CMS_shape_t_1prong_13TeVUp\n",
      "Loading: DY_full from mt-NOMINAL_ntuple_DYJets_2018.root, tree = TauCheck_CMS_shape_t_1prong1pi0_13TeVUp\n",
      "Loading: DY_full from mt-NOMINAL_ntuple_DYJets_2018.root, tree = TauCheck_CMS_shape_t_3prong_13TeVUp\n",
      "Loading: DY_full from mt-NOMINAL_ntuple_DYJets_2018.root, tree = TauCheck_CMS_scale_j_FlavorQCD13TeVUp\n",
      "Loading: DY_full from mt-NOMINAL_ntuple_DYJets_2018.root, tree = TauCheck_CMS_scale_j_RelativeBal13TeVUp\n",
      "Loading: DY_full from mt-NOMINAL_ntuple_DYJets_2018.root, tree = TauCheck_CMS_scale_j_HF13TeVUp\n",
      "Loading: DY_full from mt-NOMINAL_ntuple_DYJets_2018.root, tree = TauCheck_CMS_scale_j_BBEC113TeVUp\n",
      "Loading: DY_full from mt-NOMINAL_ntuple_DYJets_2018.root, tree = TauCheck_CMS_scale_j_EC213TeVUp\n",
      "Loading: DY_full from mt-NOMINAL_ntuple_DYJets_2018.root, tree = TauCheck_CMS_scale_j_Absolute13TeVUp\n",
      "Loading: DY_full from mt-NOMINAL_ntuple_DYJets_2018.root, tree = TauCheck_CMS_scale_j_Absolute_201813TeVUp\n",
      "Loading: DY_full from mt-NOMINAL_ntuple_DYJets_2018.root, tree = TauCheck_CMS_scale_j_HF_201813TeVUp\n",
      "Loading: DY_full from mt-NOMINAL_ntuple_DYJets_2018.root, tree = TauCheck_CMS_scale_j_EC2_201813TeVUp\n",
      "Loading: DY_full from mt-NOMINAL_ntuple_DYJets_2018.root, tree = TauCheck_CMS_scale_j_RelativeSample_201813TeVUp\n",
      "Loading: DY_full from mt-NOMINAL_ntuple_DYJets_2018.root, tree = TauCheck_CMS_scale_j_BBEC1_201813TeVUp\n",
      "Loading: DY_full from mt-NOMINAL_ntuple_DYJets_2018.root, tree = TauCheck_CMS_shape_t_1prong_13TeVDown\n",
      "Loading: DY_full from mt-NOMINAL_ntuple_DYJets_2018.root, tree = TauCheck_CMS_shape_t_1prong1pi0_13TeVDown\n",
      "Loading: DY_full from mt-NOMINAL_ntuple_DYJets_2018.root, tree = TauCheck_CMS_shape_t_3prong_13TeVDown\n",
      "Loading: DY_full from mt-NOMINAL_ntuple_DYJets_2018.root, tree = TauCheck_CMS_scale_j_FlavorQCD13TeVDown\n",
      "Loading: DY_full from mt-NOMINAL_ntuple_DYJets_2018.root, tree = TauCheck_CMS_scale_j_RelativeBal13TeVDown\n",
      "Loading: DY_full from mt-NOMINAL_ntuple_DYJets_2018.root, tree = TauCheck_CMS_scale_j_HF13TeVDown\n",
      "Loading: DY_full from mt-NOMINAL_ntuple_DYJets_2018.root, tree = TauCheck_CMS_scale_j_BBEC113TeVDown\n",
      "Loading: DY_full from mt-NOMINAL_ntuple_DYJets_2018.root, tree = TauCheck_CMS_scale_j_EC213TeVDown\n",
      "Loading: DY_full from mt-NOMINAL_ntuple_DYJets_2018.root, tree = TauCheck_CMS_scale_j_Absolute13TeVDown\n",
      "Loading: DY_full from mt-NOMINAL_ntuple_DYJets_2018.root, tree = TauCheck_CMS_scale_j_Absolute_201813TeVDown\n",
      "Loading: DY_full from mt-NOMINAL_ntuple_DYJets_2018.root, tree = TauCheck_CMS_scale_j_HF_201813TeVDown\n",
      "Loading: DY_full from mt-NOMINAL_ntuple_DYJets_2018.root, tree = TauCheck_CMS_scale_j_EC2_201813TeVDown\n",
      "Loading: DY_full from mt-NOMINAL_ntuple_DYJets_2018.root, tree = TauCheck_CMS_scale_j_RelativeSample_201813TeVDown\n",
      "Loading: DY_full from mt-NOMINAL_ntuple_DYJets_2018.root, tree = TauCheck_CMS_scale_j_BBEC1_201813TeVDown\n",
      "Loading: EMB_full from mt-NOMINAL_ntuple_EmbeddedMuTau_2018.root, tree = TauCheck\n",
      "Loading: ST_full from mt-NOMINAL_ntuple_SingleTop_2018.root, tree = TauCheck\n",
      "Loading: ST_full from mt-NOMINAL_ntuple_SingleTop_2018.root, tree = TauCheck_CMS_shape_t_1prong_13TeVUp\n",
      "Loading: ST_full from mt-NOMINAL_ntuple_SingleTop_2018.root, tree = TauCheck_CMS_shape_t_1prong1pi0_13TeVUp\n",
      "Loading: ST_full from mt-NOMINAL_ntuple_SingleTop_2018.root, tree = TauCheck_CMS_shape_t_3prong_13TeVUp\n",
      "Loading: ST_full from mt-NOMINAL_ntuple_SingleTop_2018.root, tree = TauCheck_CMS_scale_j_FlavorQCD13TeVUp\n",
      "Loading: ST_full from mt-NOMINAL_ntuple_SingleTop_2018.root, tree = TauCheck_CMS_scale_j_RelativeBal13TeVUp\n",
      "Loading: ST_full from mt-NOMINAL_ntuple_SingleTop_2018.root, tree = TauCheck_CMS_scale_j_HF13TeVUp\n",
      "Loading: ST_full from mt-NOMINAL_ntuple_SingleTop_2018.root, tree = TauCheck_CMS_scale_j_BBEC113TeVUp\n",
      "Loading: ST_full from mt-NOMINAL_ntuple_SingleTop_2018.root, tree = TauCheck_CMS_scale_j_EC213TeVUp\n",
      "Loading: ST_full from mt-NOMINAL_ntuple_SingleTop_2018.root, tree = TauCheck_CMS_scale_j_Absolute13TeVUp\n",
      "Loading: ST_full from mt-NOMINAL_ntuple_SingleTop_2018.root, tree = TauCheck_CMS_scale_j_Absolute_201813TeVUp\n",
      "Loading: ST_full from mt-NOMINAL_ntuple_SingleTop_2018.root, tree = TauCheck_CMS_scale_j_HF_201813TeVUp\n",
      "Loading: ST_full from mt-NOMINAL_ntuple_SingleTop_2018.root, tree = TauCheck_CMS_scale_j_EC2_201813TeVUp\n",
      "Loading: ST_full from mt-NOMINAL_ntuple_SingleTop_2018.root, tree = TauCheck_CMS_scale_j_RelativeSample_201813TeVUp\n",
      "Loading: ST_full from mt-NOMINAL_ntuple_SingleTop_2018.root, tree = TauCheck_CMS_scale_j_BBEC1_201813TeVUp\n",
      "Loading: ST_full from mt-NOMINAL_ntuple_SingleTop_2018.root, tree = TauCheck_CMS_shape_t_1prong_13TeVDown\n",
      "Loading: ST_full from mt-NOMINAL_ntuple_SingleTop_2018.root, tree = TauCheck_CMS_shape_t_1prong1pi0_13TeVDown\n",
      "Loading: ST_full from mt-NOMINAL_ntuple_SingleTop_2018.root, tree = TauCheck_CMS_shape_t_3prong_13TeVDown\n",
      "Loading: ST_full from mt-NOMINAL_ntuple_SingleTop_2018.root, tree = TauCheck_CMS_scale_j_FlavorQCD13TeVDown\n",
      "Loading: ST_full from mt-NOMINAL_ntuple_SingleTop_2018.root, tree = TauCheck_CMS_scale_j_RelativeBal13TeVDown\n",
      "Loading: ST_full from mt-NOMINAL_ntuple_SingleTop_2018.root, tree = TauCheck_CMS_scale_j_HF13TeVDown\n",
      "Loading: ST_full from mt-NOMINAL_ntuple_SingleTop_2018.root, tree = TauCheck_CMS_scale_j_BBEC113TeVDown\n",
      "Loading: ST_full from mt-NOMINAL_ntuple_SingleTop_2018.root, tree = TauCheck_CMS_scale_j_EC213TeVDown\n",
      "Loading: ST_full from mt-NOMINAL_ntuple_SingleTop_2018.root, tree = TauCheck_CMS_scale_j_Absolute13TeVDown\n",
      "Loading: ST_full from mt-NOMINAL_ntuple_SingleTop_2018.root, tree = TauCheck_CMS_scale_j_Absolute_201813TeVDown\n",
      "Loading: ST_full from mt-NOMINAL_ntuple_SingleTop_2018.root, tree = TauCheck_CMS_scale_j_HF_201813TeVDown\n",
      "Loading: ST_full from mt-NOMINAL_ntuple_SingleTop_2018.root, tree = TauCheck_CMS_scale_j_EC2_201813TeVDown\n",
      "Loading: ST_full from mt-NOMINAL_ntuple_SingleTop_2018.root, tree = TauCheck_CMS_scale_j_RelativeSample_201813TeVDown\n",
      "Loading: ST_full from mt-NOMINAL_ntuple_SingleTop_2018.root, tree = TauCheck_CMS_scale_j_BBEC1_201813TeVDown\n",
      "Loading: TT_full from mt-NOMINAL_ntuple_TTbar_2018.root, tree = TauCheck\n",
      "Loading: TT_full from mt-NOMINAL_ntuple_TTbar_2018.root, tree = TauCheck_CMS_shape_t_1prong_13TeVUp\n",
      "Loading: TT_full from mt-NOMINAL_ntuple_TTbar_2018.root, tree = TauCheck_CMS_shape_t_1prong1pi0_13TeVUp\n",
      "Loading: TT_full from mt-NOMINAL_ntuple_TTbar_2018.root, tree = TauCheck_CMS_shape_t_3prong_13TeVUp\n",
      "Loading: TT_full from mt-NOMINAL_ntuple_TTbar_2018.root, tree = TauCheck_CMS_scale_j_FlavorQCD13TeVUp\n",
      "Loading: TT_full from mt-NOMINAL_ntuple_TTbar_2018.root, tree = TauCheck_CMS_scale_j_RelativeBal13TeVUp\n",
      "Loading: TT_full from mt-NOMINAL_ntuple_TTbar_2018.root, tree = TauCheck_CMS_scale_j_HF13TeVUp\n",
      "Loading: TT_full from mt-NOMINAL_ntuple_TTbar_2018.root, tree = TauCheck_CMS_scale_j_BBEC113TeVUp\n",
      "Loading: TT_full from mt-NOMINAL_ntuple_TTbar_2018.root, tree = TauCheck_CMS_scale_j_EC213TeVUp\n",
      "Loading: TT_full from mt-NOMINAL_ntuple_TTbar_2018.root, tree = TauCheck_CMS_scale_j_Absolute13TeVUp\n",
      "Loading: TT_full from mt-NOMINAL_ntuple_TTbar_2018.root, tree = TauCheck_CMS_scale_j_Absolute_201813TeVUp\n",
      "Loading: TT_full from mt-NOMINAL_ntuple_TTbar_2018.root, tree = TauCheck_CMS_scale_j_HF_201813TeVUp\n",
      "Loading: TT_full from mt-NOMINAL_ntuple_TTbar_2018.root, tree = TauCheck_CMS_scale_j_EC2_201813TeVUp\n",
      "Loading: TT_full from mt-NOMINAL_ntuple_TTbar_2018.root, tree = TauCheck_CMS_scale_j_RelativeSample_201813TeVUp\n",
      "Loading: TT_full from mt-NOMINAL_ntuple_TTbar_2018.root, tree = TauCheck_CMS_scale_j_BBEC1_201813TeVUp\n",
      "Loading: TT_full from mt-NOMINAL_ntuple_TTbar_2018.root, tree = TauCheck_CMS_shape_t_1prong_13TeVDown\n",
      "Loading: TT_full from mt-NOMINAL_ntuple_TTbar_2018.root, tree = TauCheck_CMS_shape_t_1prong1pi0_13TeVDown\n",
      "Loading: TT_full from mt-NOMINAL_ntuple_TTbar_2018.root, tree = TauCheck_CMS_shape_t_3prong_13TeVDown\n",
      "Loading: TT_full from mt-NOMINAL_ntuple_TTbar_2018.root, tree = TauCheck_CMS_scale_j_FlavorQCD13TeVDown\n",
      "Loading: TT_full from mt-NOMINAL_ntuple_TTbar_2018.root, tree = TauCheck_CMS_scale_j_RelativeBal13TeVDown\n",
      "Loading: TT_full from mt-NOMINAL_ntuple_TTbar_2018.root, tree = TauCheck_CMS_scale_j_HF13TeVDown\n",
      "Loading: TT_full from mt-NOMINAL_ntuple_TTbar_2018.root, tree = TauCheck_CMS_scale_j_BBEC113TeVDown\n",
      "Loading: TT_full from mt-NOMINAL_ntuple_TTbar_2018.root, tree = TauCheck_CMS_scale_j_EC213TeVDown\n",
      "Loading: TT_full from mt-NOMINAL_ntuple_TTbar_2018.root, tree = TauCheck_CMS_scale_j_Absolute13TeVDown\n",
      "Loading: TT_full from mt-NOMINAL_ntuple_TTbar_2018.root, tree = TauCheck_CMS_scale_j_Absolute_201813TeVDown\n",
      "Loading: TT_full from mt-NOMINAL_ntuple_TTbar_2018.root, tree = TauCheck_CMS_scale_j_HF_201813TeVDown\n",
      "Loading: TT_full from mt-NOMINAL_ntuple_TTbar_2018.root, tree = TauCheck_CMS_scale_j_EC2_201813TeVDown\n",
      "Loading: TT_full from mt-NOMINAL_ntuple_TTbar_2018.root, tree = TauCheck_CMS_scale_j_RelativeSample_201813TeVDown\n",
      "Loading: TT_full from mt-NOMINAL_ntuple_TTbar_2018.root, tree = TauCheck_CMS_scale_j_BBEC1_201813TeVDown\n",
      "Loading: VV_full from mt-NOMINAL_ntuple_Diboson_2018.root, tree = TauCheck\n",
      "Loading: VV_full from mt-NOMINAL_ntuple_Diboson_2018.root, tree = TauCheck_CMS_shape_t_1prong_13TeVUp\n",
      "Loading: VV_full from mt-NOMINAL_ntuple_Diboson_2018.root, tree = TauCheck_CMS_shape_t_1prong1pi0_13TeVUp\n",
      "Loading: VV_full from mt-NOMINAL_ntuple_Diboson_2018.root, tree = TauCheck_CMS_shape_t_3prong_13TeVUp\n",
      "Loading: VV_full from mt-NOMINAL_ntuple_Diboson_2018.root, tree = TauCheck_CMS_scale_j_FlavorQCD13TeVUp\n",
      "Loading: VV_full from mt-NOMINAL_ntuple_Diboson_2018.root, tree = TauCheck_CMS_scale_j_RelativeBal13TeVUp\n",
      "Loading: VV_full from mt-NOMINAL_ntuple_Diboson_2018.root, tree = TauCheck_CMS_scale_j_HF13TeVUp\n",
      "Loading: VV_full from mt-NOMINAL_ntuple_Diboson_2018.root, tree = TauCheck_CMS_scale_j_BBEC113TeVUp\n",
      "Loading: VV_full from mt-NOMINAL_ntuple_Diboson_2018.root, tree = TauCheck_CMS_scale_j_EC213TeVUp\n",
      "Loading: VV_full from mt-NOMINAL_ntuple_Diboson_2018.root, tree = TauCheck_CMS_scale_j_Absolute13TeVUp\n",
      "Loading: VV_full from mt-NOMINAL_ntuple_Diboson_2018.root, tree = TauCheck_CMS_scale_j_Absolute_201813TeVUp\n",
      "Loading: VV_full from mt-NOMINAL_ntuple_Diboson_2018.root, tree = TauCheck_CMS_scale_j_HF_201813TeVUp\n",
      "Loading: VV_full from mt-NOMINAL_ntuple_Diboson_2018.root, tree = TauCheck_CMS_scale_j_EC2_201813TeVUp\n",
      "Loading: VV_full from mt-NOMINAL_ntuple_Diboson_2018.root, tree = TauCheck_CMS_scale_j_RelativeSample_201813TeVUp\n",
      "Loading: VV_full from mt-NOMINAL_ntuple_Diboson_2018.root, tree = TauCheck_CMS_scale_j_BBEC1_201813TeVUp\n",
      "Loading: VV_full from mt-NOMINAL_ntuple_Diboson_2018.root, tree = TauCheck_CMS_shape_t_1prong_13TeVDown\n",
      "Loading: VV_full from mt-NOMINAL_ntuple_Diboson_2018.root, tree = TauCheck_CMS_shape_t_1prong1pi0_13TeVDown\n",
      "Loading: VV_full from mt-NOMINAL_ntuple_Diboson_2018.root, tree = TauCheck_CMS_shape_t_3prong_13TeVDown\n",
      "Loading: VV_full from mt-NOMINAL_ntuple_Diboson_2018.root, tree = TauCheck_CMS_scale_j_FlavorQCD13TeVDown\n",
      "Loading: VV_full from mt-NOMINAL_ntuple_Diboson_2018.root, tree = TauCheck_CMS_scale_j_RelativeBal13TeVDown\n",
      "Loading: VV_full from mt-NOMINAL_ntuple_Diboson_2018.root, tree = TauCheck_CMS_scale_j_HF13TeVDown\n",
      "Loading: VV_full from mt-NOMINAL_ntuple_Diboson_2018.root, tree = TauCheck_CMS_scale_j_BBEC113TeVDown\n",
      "Loading: VV_full from mt-NOMINAL_ntuple_Diboson_2018.root, tree = TauCheck_CMS_scale_j_EC213TeVDown\n",
      "Loading: VV_full from mt-NOMINAL_ntuple_Diboson_2018.root, tree = TauCheck_CMS_scale_j_Absolute13TeVDown\n",
      "Loading: VV_full from mt-NOMINAL_ntuple_Diboson_2018.root, tree = TauCheck_CMS_scale_j_Absolute_201813TeVDown\n",
      "Loading: VV_full from mt-NOMINAL_ntuple_Diboson_2018.root, tree = TauCheck_CMS_scale_j_HF_201813TeVDown\n",
      "Loading: VV_full from mt-NOMINAL_ntuple_Diboson_2018.root, tree = TauCheck_CMS_scale_j_EC2_201813TeVDown\n",
      "Loading: VV_full from mt-NOMINAL_ntuple_Diboson_2018.root, tree = TauCheck_CMS_scale_j_RelativeSample_201813TeVDown\n",
      "Loading: VV_full from mt-NOMINAL_ntuple_Diboson_2018.root, tree = TauCheck_CMS_scale_j_BBEC1_201813TeVDown\n",
      "Warning: couldn't find /nfs/dust/cms/user/filatovo/HTT/CMSSW_10_2_16/src/mlFramework/In_Tuples_2018/mt-NOMINAL_ntuple_WH125.root\n",
      "Warning: couldn't find /nfs/dust/cms/user/filatovo/HTT/CMSSW_10_2_16/src/mlFramework/In_Tuples_2018/mt-NOMINAL_ntuple_WH125.root\n",
      "Warning: couldn't find /nfs/dust/cms/user/filatovo/HTT/CMSSW_10_2_16/src/mlFramework/In_Tuples_2018/mt-NOMINAL_ntuple_WH125.root\n",
      "Warning: couldn't find /nfs/dust/cms/user/filatovo/HTT/CMSSW_10_2_16/src/mlFramework/In_Tuples_2018/mt-NOMINAL_ntuple_WH125.root\n",
      "Warning: couldn't find /nfs/dust/cms/user/filatovo/HTT/CMSSW_10_2_16/src/mlFramework/In_Tuples_2018/mt-NOMINAL_ntuple_WH125.root\n",
      "Warning: couldn't find /nfs/dust/cms/user/filatovo/HTT/CMSSW_10_2_16/src/mlFramework/In_Tuples_2018/mt-NOMINAL_ntuple_WH125.root\n",
      "Warning: couldn't find /nfs/dust/cms/user/filatovo/HTT/CMSSW_10_2_16/src/mlFramework/In_Tuples_2018/mt-NOMINAL_ntuple_WH125.root\n",
      "Warning: couldn't find /nfs/dust/cms/user/filatovo/HTT/CMSSW_10_2_16/src/mlFramework/In_Tuples_2018/mt-NOMINAL_ntuple_WH125.root\n",
      "Warning: couldn't find /nfs/dust/cms/user/filatovo/HTT/CMSSW_10_2_16/src/mlFramework/In_Tuples_2018/mt-NOMINAL_ntuple_WH125.root\n",
      "Warning: couldn't find /nfs/dust/cms/user/filatovo/HTT/CMSSW_10_2_16/src/mlFramework/In_Tuples_2018/mt-NOMINAL_ntuple_WH125.root\n",
      "Warning: couldn't find /nfs/dust/cms/user/filatovo/HTT/CMSSW_10_2_16/src/mlFramework/In_Tuples_2018/mt-NOMINAL_ntuple_WH125.root\n",
      "Warning: couldn't find /nfs/dust/cms/user/filatovo/HTT/CMSSW_10_2_16/src/mlFramework/In_Tuples_2018/mt-NOMINAL_ntuple_WH125.root\n",
      "Warning: couldn't find /nfs/dust/cms/user/filatovo/HTT/CMSSW_10_2_16/src/mlFramework/In_Tuples_2018/mt-NOMINAL_ntuple_WH125.root\n",
      "Warning: couldn't find /nfs/dust/cms/user/filatovo/HTT/CMSSW_10_2_16/src/mlFramework/In_Tuples_2018/mt-NOMINAL_ntuple_WH125.root\n",
      "Warning: couldn't find /nfs/dust/cms/user/filatovo/HTT/CMSSW_10_2_16/src/mlFramework/In_Tuples_2018/mt-NOMINAL_ntuple_WH125.root\n",
      "Warning: couldn't find /nfs/dust/cms/user/filatovo/HTT/CMSSW_10_2_16/src/mlFramework/In_Tuples_2018/mt-NOMINAL_ntuple_WH125.root\n",
      "Warning: couldn't find /nfs/dust/cms/user/filatovo/HTT/CMSSW_10_2_16/src/mlFramework/In_Tuples_2018/mt-NOMINAL_ntuple_WH125.root\n",
      "Warning: couldn't find /nfs/dust/cms/user/filatovo/HTT/CMSSW_10_2_16/src/mlFramework/In_Tuples_2018/mt-NOMINAL_ntuple_WH125.root\n",
      "Warning: couldn't find /nfs/dust/cms/user/filatovo/HTT/CMSSW_10_2_16/src/mlFramework/In_Tuples_2018/mt-NOMINAL_ntuple_WH125.root\n",
      "Warning: couldn't find /nfs/dust/cms/user/filatovo/HTT/CMSSW_10_2_16/src/mlFramework/In_Tuples_2018/mt-NOMINAL_ntuple_WH125.root\n",
      "Warning: couldn't find /nfs/dust/cms/user/filatovo/HTT/CMSSW_10_2_16/src/mlFramework/In_Tuples_2018/mt-NOMINAL_ntuple_WH125.root\n",
      "Warning: couldn't find /nfs/dust/cms/user/filatovo/HTT/CMSSW_10_2_16/src/mlFramework/In_Tuples_2018/mt-NOMINAL_ntuple_WH125.root\n",
      "Warning: couldn't find /nfs/dust/cms/user/filatovo/HTT/CMSSW_10_2_16/src/mlFramework/In_Tuples_2018/mt-NOMINAL_ntuple_WH125.root\n",
      "Warning: couldn't find /nfs/dust/cms/user/filatovo/HTT/CMSSW_10_2_16/src/mlFramework/In_Tuples_2018/mt-NOMINAL_ntuple_WH125.root\n",
      "Warning: couldn't find /nfs/dust/cms/user/filatovo/HTT/CMSSW_10_2_16/src/mlFramework/In_Tuples_2018/mt-NOMINAL_ntuple_WH125.root\n",
      "Warning: couldn't find /nfs/dust/cms/user/filatovo/HTT/CMSSW_10_2_16/src/mlFramework/In_Tuples_2018/mt-NOMINAL_ntuple_WH125.root\n",
      "Warning: couldn't find /nfs/dust/cms/user/filatovo/HTT/CMSSW_10_2_16/src/mlFramework/In_Tuples_2018/mt-NOMINAL_ntuple_WH125.root\n",
      "Warning: couldn't find /nfs/dust/cms/user/filatovo/HTT/CMSSW_10_2_16/src/mlFramework/In_Tuples_2018/mt-NOMINAL_ntuple_WH125.root\n",
      "Warning: couldn't find /nfs/dust/cms/user/filatovo/HTT/CMSSW_10_2_16/src/mlFramework/In_Tuples_2018/mt-NOMINAL_ntuple_WH125.root\n",
      "Loading: W_full from mt-NOMINAL_ntuple_WJets_2018.root, tree = TauCheck\n",
      "Loading: W_full from mt-NOMINAL_ntuple_WJets_2018.root, tree = TauCheck_CMS_shape_t_1prong_13TeVUp\n",
      "Loading: W_full from mt-NOMINAL_ntuple_WJets_2018.root, tree = TauCheck_CMS_shape_t_1prong1pi0_13TeVUp\n",
      "Loading: W_full from mt-NOMINAL_ntuple_WJets_2018.root, tree = TauCheck_CMS_shape_t_3prong_13TeVUp\n",
      "Loading: W_full from mt-NOMINAL_ntuple_WJets_2018.root, tree = TauCheck_CMS_scale_j_FlavorQCD13TeVUp\n",
      "Loading: W_full from mt-NOMINAL_ntuple_WJets_2018.root, tree = TauCheck_CMS_scale_j_RelativeBal13TeVUp\n",
      "Loading: W_full from mt-NOMINAL_ntuple_WJets_2018.root, tree = TauCheck_CMS_scale_j_HF13TeVUp\n",
      "Loading: W_full from mt-NOMINAL_ntuple_WJets_2018.root, tree = TauCheck_CMS_scale_j_BBEC113TeVUp\n",
      "Loading: W_full from mt-NOMINAL_ntuple_WJets_2018.root, tree = TauCheck_CMS_scale_j_EC213TeVUp\n",
      "Loading: W_full from mt-NOMINAL_ntuple_WJets_2018.root, tree = TauCheck_CMS_scale_j_Absolute13TeVUp\n",
      "Loading: W_full from mt-NOMINAL_ntuple_WJets_2018.root, tree = TauCheck_CMS_scale_j_Absolute_201813TeVUp\n",
      "Loading: W_full from mt-NOMINAL_ntuple_WJets_2018.root, tree = TauCheck_CMS_scale_j_HF_201813TeVUp\n",
      "Loading: W_full from mt-NOMINAL_ntuple_WJets_2018.root, tree = TauCheck_CMS_scale_j_EC2_201813TeVUp\n",
      "Loading: W_full from mt-NOMINAL_ntuple_WJets_2018.root, tree = TauCheck_CMS_scale_j_RelativeSample_201813TeVUp\n",
      "Loading: W_full from mt-NOMINAL_ntuple_WJets_2018.root, tree = TauCheck_CMS_scale_j_BBEC1_201813TeVUp\n",
      "Loading: W_full from mt-NOMINAL_ntuple_WJets_2018.root, tree = TauCheck_CMS_shape_t_1prong_13TeVDown\n",
      "Loading: W_full from mt-NOMINAL_ntuple_WJets_2018.root, tree = TauCheck_CMS_shape_t_1prong1pi0_13TeVDown\n",
      "Loading: W_full from mt-NOMINAL_ntuple_WJets_2018.root, tree = TauCheck_CMS_shape_t_3prong_13TeVDown\n",
      "Loading: W_full from mt-NOMINAL_ntuple_WJets_2018.root, tree = TauCheck_CMS_scale_j_FlavorQCD13TeVDown\n",
      "Loading: W_full from mt-NOMINAL_ntuple_WJets_2018.root, tree = TauCheck_CMS_scale_j_RelativeBal13TeVDown\n",
      "Loading: W_full from mt-NOMINAL_ntuple_WJets_2018.root, tree = TauCheck_CMS_scale_j_HF13TeVDown\n",
      "Loading: W_full from mt-NOMINAL_ntuple_WJets_2018.root, tree = TauCheck_CMS_scale_j_BBEC113TeVDown\n",
      "Loading: W_full from mt-NOMINAL_ntuple_WJets_2018.root, tree = TauCheck_CMS_scale_j_EC213TeVDown\n",
      "Loading: W_full from mt-NOMINAL_ntuple_WJets_2018.root, tree = TauCheck_CMS_scale_j_Absolute13TeVDown\n",
      "Loading: W_full from mt-NOMINAL_ntuple_WJets_2018.root, tree = TauCheck_CMS_scale_j_Absolute_201813TeVDown\n",
      "Loading: W_full from mt-NOMINAL_ntuple_WJets_2018.root, tree = TauCheck_CMS_scale_j_HF_201813TeVDown\n",
      "Loading: W_full from mt-NOMINAL_ntuple_WJets_2018.root, tree = TauCheck_CMS_scale_j_EC2_201813TeVDown\n",
      "Loading: W_full from mt-NOMINAL_ntuple_WJets_2018.root, tree = TauCheck_CMS_scale_j_RelativeSample_201813TeVDown\n",
      "Loading: W_full from mt-NOMINAL_ntuple_WJets_2018.root, tree = TauCheck_CMS_scale_j_BBEC1_201813TeVDown\n",
      "Warning: couldn't find /nfs/dust/cms/user/filatovo/HTT/CMSSW_10_2_16/src/mlFramework/In_Tuples_2018/mt-NOMINAL_ntuple_ZH125.root\n",
      "Warning: couldn't find /nfs/dust/cms/user/filatovo/HTT/CMSSW_10_2_16/src/mlFramework/In_Tuples_2018/mt-NOMINAL_ntuple_ZH125.root\n",
      "Warning: couldn't find /nfs/dust/cms/user/filatovo/HTT/CMSSW_10_2_16/src/mlFramework/In_Tuples_2018/mt-NOMINAL_ntuple_ZH125.root\n",
      "Warning: couldn't find /nfs/dust/cms/user/filatovo/HTT/CMSSW_10_2_16/src/mlFramework/In_Tuples_2018/mt-NOMINAL_ntuple_ZH125.root\n",
      "Warning: couldn't find /nfs/dust/cms/user/filatovo/HTT/CMSSW_10_2_16/src/mlFramework/In_Tuples_2018/mt-NOMINAL_ntuple_ZH125.root\n",
      "Warning: couldn't find /nfs/dust/cms/user/filatovo/HTT/CMSSW_10_2_16/src/mlFramework/In_Tuples_2018/mt-NOMINAL_ntuple_ZH125.root\n",
      "Warning: couldn't find /nfs/dust/cms/user/filatovo/HTT/CMSSW_10_2_16/src/mlFramework/In_Tuples_2018/mt-NOMINAL_ntuple_ZH125.root\n",
      "Warning: couldn't find /nfs/dust/cms/user/filatovo/HTT/CMSSW_10_2_16/src/mlFramework/In_Tuples_2018/mt-NOMINAL_ntuple_ZH125.root\n",
      "Warning: couldn't find /nfs/dust/cms/user/filatovo/HTT/CMSSW_10_2_16/src/mlFramework/In_Tuples_2018/mt-NOMINAL_ntuple_ZH125.root\n",
      "Warning: couldn't find /nfs/dust/cms/user/filatovo/HTT/CMSSW_10_2_16/src/mlFramework/In_Tuples_2018/mt-NOMINAL_ntuple_ZH125.root\n",
      "Warning: couldn't find /nfs/dust/cms/user/filatovo/HTT/CMSSW_10_2_16/src/mlFramework/In_Tuples_2018/mt-NOMINAL_ntuple_ZH125.root\n",
      "Warning: couldn't find /nfs/dust/cms/user/filatovo/HTT/CMSSW_10_2_16/src/mlFramework/In_Tuples_2018/mt-NOMINAL_ntuple_ZH125.root\n",
      "Warning: couldn't find /nfs/dust/cms/user/filatovo/HTT/CMSSW_10_2_16/src/mlFramework/In_Tuples_2018/mt-NOMINAL_ntuple_ZH125.root\n",
      "Warning: couldn't find /nfs/dust/cms/user/filatovo/HTT/CMSSW_10_2_16/src/mlFramework/In_Tuples_2018/mt-NOMINAL_ntuple_ZH125.root\n",
      "Warning: couldn't find /nfs/dust/cms/user/filatovo/HTT/CMSSW_10_2_16/src/mlFramework/In_Tuples_2018/mt-NOMINAL_ntuple_ZH125.root\n",
      "Warning: couldn't find /nfs/dust/cms/user/filatovo/HTT/CMSSW_10_2_16/src/mlFramework/In_Tuples_2018/mt-NOMINAL_ntuple_ZH125.root\n",
      "Warning: couldn't find /nfs/dust/cms/user/filatovo/HTT/CMSSW_10_2_16/src/mlFramework/In_Tuples_2018/mt-NOMINAL_ntuple_ZH125.root\n",
      "Warning: couldn't find /nfs/dust/cms/user/filatovo/HTT/CMSSW_10_2_16/src/mlFramework/In_Tuples_2018/mt-NOMINAL_ntuple_ZH125.root\n",
      "Warning: couldn't find /nfs/dust/cms/user/filatovo/HTT/CMSSW_10_2_16/src/mlFramework/In_Tuples_2018/mt-NOMINAL_ntuple_ZH125.root\n",
      "Warning: couldn't find /nfs/dust/cms/user/filatovo/HTT/CMSSW_10_2_16/src/mlFramework/In_Tuples_2018/mt-NOMINAL_ntuple_ZH125.root\n",
      "Warning: couldn't find /nfs/dust/cms/user/filatovo/HTT/CMSSW_10_2_16/src/mlFramework/In_Tuples_2018/mt-NOMINAL_ntuple_ZH125.root\n",
      "Warning: couldn't find /nfs/dust/cms/user/filatovo/HTT/CMSSW_10_2_16/src/mlFramework/In_Tuples_2018/mt-NOMINAL_ntuple_ZH125.root\n",
      "Warning: couldn't find /nfs/dust/cms/user/filatovo/HTT/CMSSW_10_2_16/src/mlFramework/In_Tuples_2018/mt-NOMINAL_ntuple_ZH125.root\n",
      "Warning: couldn't find /nfs/dust/cms/user/filatovo/HTT/CMSSW_10_2_16/src/mlFramework/In_Tuples_2018/mt-NOMINAL_ntuple_ZH125.root\n",
      "Warning: couldn't find /nfs/dust/cms/user/filatovo/HTT/CMSSW_10_2_16/src/mlFramework/In_Tuples_2018/mt-NOMINAL_ntuple_ZH125.root\n",
      "Warning: couldn't find /nfs/dust/cms/user/filatovo/HTT/CMSSW_10_2_16/src/mlFramework/In_Tuples_2018/mt-NOMINAL_ntuple_ZH125.root\n",
      "Warning: couldn't find /nfs/dust/cms/user/filatovo/HTT/CMSSW_10_2_16/src/mlFramework/In_Tuples_2018/mt-NOMINAL_ntuple_ZH125.root\n",
      "Warning: couldn't find /nfs/dust/cms/user/filatovo/HTT/CMSSW_10_2_16/src/mlFramework/In_Tuples_2018/mt-NOMINAL_ntuple_ZH125.root\n",
      "Warning: couldn't find /nfs/dust/cms/user/filatovo/HTT/CMSSW_10_2_16/src/mlFramework/In_Tuples_2018/mt-NOMINAL_ntuple_ZH125.root\n",
      "Loading: data_full from mt-NOMINAL_ntuple_SingleMuon_2018.root, tree = TauCheck\n",
      "Loading: ggH125_full from mt-NOMINAL_ntuple_GluGluHToUncorrTauTau_2018.root, tree = TauCheck\n",
      "Loading: ggH125_full from mt-NOMINAL_ntuple_GluGluHToUncorrTauTau_2018.root, tree = TauCheck_CMS_shape_t_1prong_13TeVUp\n",
      "Loading: ggH125_full from mt-NOMINAL_ntuple_GluGluHToUncorrTauTau_2018.root, tree = TauCheck_CMS_shape_t_1prong1pi0_13TeVUp\n",
      "Loading: ggH125_full from mt-NOMINAL_ntuple_GluGluHToUncorrTauTau_2018.root, tree = TauCheck_CMS_shape_t_3prong_13TeVUp\n",
      "Loading: ggH125_full from mt-NOMINAL_ntuple_GluGluHToUncorrTauTau_2018.root, tree = TauCheck_CMS_scale_j_FlavorQCD13TeVUp\n",
      "Loading: ggH125_full from mt-NOMINAL_ntuple_GluGluHToUncorrTauTau_2018.root, tree = TauCheck_CMS_scale_j_RelativeBal13TeVUp\n",
      "Loading: ggH125_full from mt-NOMINAL_ntuple_GluGluHToUncorrTauTau_2018.root, tree = TauCheck_CMS_scale_j_HF13TeVUp\n",
      "Loading: ggH125_full from mt-NOMINAL_ntuple_GluGluHToUncorrTauTau_2018.root, tree = TauCheck_CMS_scale_j_BBEC113TeVUp\n",
      "Loading: ggH125_full from mt-NOMINAL_ntuple_GluGluHToUncorrTauTau_2018.root, tree = TauCheck_CMS_scale_j_EC213TeVUp\n",
      "Loading: ggH125_full from mt-NOMINAL_ntuple_GluGluHToUncorrTauTau_2018.root, tree = TauCheck_CMS_scale_j_Absolute13TeVUp\n",
      "Loading: ggH125_full from mt-NOMINAL_ntuple_GluGluHToUncorrTauTau_2018.root, tree = TauCheck_CMS_scale_j_Absolute_201813TeVUp\n",
      "Loading: ggH125_full from mt-NOMINAL_ntuple_GluGluHToUncorrTauTau_2018.root, tree = TauCheck_CMS_scale_j_HF_201813TeVUp\n",
      "Loading: ggH125_full from mt-NOMINAL_ntuple_GluGluHToUncorrTauTau_2018.root, tree = TauCheck_CMS_scale_j_EC2_201813TeVUp\n",
      "Loading: ggH125_full from mt-NOMINAL_ntuple_GluGluHToUncorrTauTau_2018.root, tree = TauCheck_CMS_scale_j_RelativeSample_201813TeVUp\n",
      "Loading: ggH125_full from mt-NOMINAL_ntuple_GluGluHToUncorrTauTau_2018.root, tree = TauCheck_CMS_scale_j_BBEC1_201813TeVUp\n",
      "Loading: ggH125_full from mt-NOMINAL_ntuple_GluGluHToUncorrTauTau_2018.root, tree = TauCheck_CMS_shape_t_1prong_13TeVDown\n",
      "Loading: ggH125_full from mt-NOMINAL_ntuple_GluGluHToUncorrTauTau_2018.root, tree = TauCheck_CMS_shape_t_1prong1pi0_13TeVDown\n",
      "Loading: ggH125_full from mt-NOMINAL_ntuple_GluGluHToUncorrTauTau_2018.root, tree = TauCheck_CMS_shape_t_3prong_13TeVDown\n",
      "Loading: ggH125_full from mt-NOMINAL_ntuple_GluGluHToUncorrTauTau_2018.root, tree = TauCheck_CMS_scale_j_FlavorQCD13TeVDown\n",
      "Loading: ggH125_full from mt-NOMINAL_ntuple_GluGluHToUncorrTauTau_2018.root, tree = TauCheck_CMS_scale_j_RelativeBal13TeVDown\n",
      "Loading: ggH125_full from mt-NOMINAL_ntuple_GluGluHToUncorrTauTau_2018.root, tree = TauCheck_CMS_scale_j_HF13TeVDown\n",
      "Loading: ggH125_full from mt-NOMINAL_ntuple_GluGluHToUncorrTauTau_2018.root, tree = TauCheck_CMS_scale_j_BBEC113TeVDown\n",
      "Loading: ggH125_full from mt-NOMINAL_ntuple_GluGluHToUncorrTauTau_2018.root, tree = TauCheck_CMS_scale_j_EC213TeVDown\n",
      "Loading: ggH125_full from mt-NOMINAL_ntuple_GluGluHToUncorrTauTau_2018.root, tree = TauCheck_CMS_scale_j_Absolute13TeVDown\n",
      "Loading: ggH125_full from mt-NOMINAL_ntuple_GluGluHToUncorrTauTau_2018.root, tree = TauCheck_CMS_scale_j_Absolute_201813TeVDown\n",
      "Loading: ggH125_full from mt-NOMINAL_ntuple_GluGluHToUncorrTauTau_2018.root, tree = TauCheck_CMS_scale_j_HF_201813TeVDown\n",
      "Loading: ggH125_full from mt-NOMINAL_ntuple_GluGluHToUncorrTauTau_2018.root, tree = TauCheck_CMS_scale_j_EC2_201813TeVDown\n",
      "Loading: ggH125_full from mt-NOMINAL_ntuple_GluGluHToUncorrTauTau_2018.root, tree = TauCheck_CMS_scale_j_RelativeSample_201813TeVDown\n",
      "Loading: ggH125_full from mt-NOMINAL_ntuple_GluGluHToUncorrTauTau_2018.root, tree = TauCheck_CMS_scale_j_BBEC1_201813TeVDown\n",
      "Loading: qqH125_full from mt-NOMINAL_ntuple_VBFHToUncorrTauTau_2018.root, tree = TauCheck\n",
      "Loading: qqH125_full from mt-NOMINAL_ntuple_VBFHToUncorrTauTau_2018.root, tree = TauCheck_CMS_shape_t_1prong_13TeVUp\n",
      "Loading: qqH125_full from mt-NOMINAL_ntuple_VBFHToUncorrTauTau_2018.root, tree = TauCheck_CMS_shape_t_1prong1pi0_13TeVUp\n",
      "Loading: qqH125_full from mt-NOMINAL_ntuple_VBFHToUncorrTauTau_2018.root, tree = TauCheck_CMS_shape_t_3prong_13TeVUp\n",
      "Loading: qqH125_full from mt-NOMINAL_ntuple_VBFHToUncorrTauTau_2018.root, tree = TauCheck_CMS_scale_j_FlavorQCD13TeVUp\n",
      "Loading: qqH125_full from mt-NOMINAL_ntuple_VBFHToUncorrTauTau_2018.root, tree = TauCheck_CMS_scale_j_RelativeBal13TeVUp\n",
      "Loading: qqH125_full from mt-NOMINAL_ntuple_VBFHToUncorrTauTau_2018.root, tree = TauCheck_CMS_scale_j_HF13TeVUp\n",
      "Loading: qqH125_full from mt-NOMINAL_ntuple_VBFHToUncorrTauTau_2018.root, tree = TauCheck_CMS_scale_j_BBEC113TeVUp\n",
      "Loading: qqH125_full from mt-NOMINAL_ntuple_VBFHToUncorrTauTau_2018.root, tree = TauCheck_CMS_scale_j_EC213TeVUp\n",
      "Loading: qqH125_full from mt-NOMINAL_ntuple_VBFHToUncorrTauTau_2018.root, tree = TauCheck_CMS_scale_j_Absolute13TeVUp\n",
      "Loading: qqH125_full from mt-NOMINAL_ntuple_VBFHToUncorrTauTau_2018.root, tree = TauCheck_CMS_scale_j_Absolute_201813TeVUp\n",
      "Loading: qqH125_full from mt-NOMINAL_ntuple_VBFHToUncorrTauTau_2018.root, tree = TauCheck_CMS_scale_j_HF_201813TeVUp\n",
      "Loading: qqH125_full from mt-NOMINAL_ntuple_VBFHToUncorrTauTau_2018.root, tree = TauCheck_CMS_scale_j_EC2_201813TeVUp\n",
      "Loading: qqH125_full from mt-NOMINAL_ntuple_VBFHToUncorrTauTau_2018.root, tree = TauCheck_CMS_scale_j_RelativeSample_201813TeVUp\n",
      "Loading: qqH125_full from mt-NOMINAL_ntuple_VBFHToUncorrTauTau_2018.root, tree = TauCheck_CMS_scale_j_BBEC1_201813TeVUp\n",
      "Loading: qqH125_full from mt-NOMINAL_ntuple_VBFHToUncorrTauTau_2018.root, tree = TauCheck_CMS_shape_t_1prong_13TeVDown\n",
      "Loading: qqH125_full from mt-NOMINAL_ntuple_VBFHToUncorrTauTau_2018.root, tree = TauCheck_CMS_shape_t_1prong1pi0_13TeVDown\n",
      "Loading: qqH125_full from mt-NOMINAL_ntuple_VBFHToUncorrTauTau_2018.root, tree = TauCheck_CMS_shape_t_3prong_13TeVDown\n",
      "Loading: qqH125_full from mt-NOMINAL_ntuple_VBFHToUncorrTauTau_2018.root, tree = TauCheck_CMS_scale_j_FlavorQCD13TeVDown\n",
      "Loading: qqH125_full from mt-NOMINAL_ntuple_VBFHToUncorrTauTau_2018.root, tree = TauCheck_CMS_scale_j_RelativeBal13TeVDown\n",
      "Loading: qqH125_full from mt-NOMINAL_ntuple_VBFHToUncorrTauTau_2018.root, tree = TauCheck_CMS_scale_j_HF13TeVDown\n",
      "Loading: qqH125_full from mt-NOMINAL_ntuple_VBFHToUncorrTauTau_2018.root, tree = TauCheck_CMS_scale_j_BBEC113TeVDown\n",
      "Loading: qqH125_full from mt-NOMINAL_ntuple_VBFHToUncorrTauTau_2018.root, tree = TauCheck_CMS_scale_j_EC213TeVDown\n",
      "Loading: qqH125_full from mt-NOMINAL_ntuple_VBFHToUncorrTauTau_2018.root, tree = TauCheck_CMS_scale_j_Absolute13TeVDown\n",
      "Loading: qqH125_full from mt-NOMINAL_ntuple_VBFHToUncorrTauTau_2018.root, tree = TauCheck_CMS_scale_j_Absolute_201813TeVDown\n",
      "Loading: qqH125_full from mt-NOMINAL_ntuple_VBFHToUncorrTauTau_2018.root, tree = TauCheck_CMS_scale_j_HF_201813TeVDown\n",
      "Loading: qqH125_full from mt-NOMINAL_ntuple_VBFHToUncorrTauTau_2018.root, tree = TauCheck_CMS_scale_j_EC2_201813TeVDown\n",
      "Loading: qqH125_full from mt-NOMINAL_ntuple_VBFHToUncorrTauTau_2018.root, tree = TauCheck_CMS_scale_j_RelativeSample_201813TeVDown\n",
      "Loading: qqH125_full from mt-NOMINAL_ntuple_VBFHToUncorrTauTau_2018.root, tree = TauCheck_CMS_scale_j_BBEC1_201813TeVDown\n",
      "CPU times: user 2h 4min 57s, sys: 9min 43s, total: 2h 14min 40s\n",
      "Wall time: 3h 8min 25s\n"
     ]
    }
   ],
   "source": [
    "%%time\n",
    "for sample, sampleConfig in read.get(what = \"full\", add_jec = True, for_prediction = True):\n",
    "    if \"data\" in sampleConfig[\"histname\"]:\n",
    "        sandbox(channel, model_loaded, scaler, sample, variables, \"NOMINAL_ntuple_SingleMuon_2018\", outpath, sampleConfig, read.modifyDF)\n",
    "    elif \"full\" in sampleConfig[\"histname\"]:\n",
    "        sandbox(channel, model_loaded, scaler, sample, variables,  \"NOMINAL_ntuple_\" + sampleConfig[\"histname\"].split(\"_\")[0], outpath, sampleConfig, read.modifyDF )\n",
    "    else:\n",
    "        splName = sampleConfig[\"histname\"].split(\"_\")\n",
    "        sandbox(channel, model_loaded, scaler, sample, variables,  \"_\".join(splName[1:])+\"_ntuple_\" + sampleConfig[\"histname\"].split(\"_\")[0], outpath, sampleConfig, read.modifyDF )"
   ]
  },
  {
   "cell_type": "markdown",
   "metadata": {},
   "source": [
    "### Tests with NN predictions"
   ]
  },
  {
   "cell_type": "code",
   "execution_count": 45,
   "metadata": {},
   "outputs": [],
   "source": [
    "DY_predict_up = rp.read_root(outpath + '/mt-NOMINAL_ntuple_DY.root', key='TauCheck_CMS_scale_j_HF13TeVUp')\n",
    "DY_predict_down = rp.read_root(outpath + '/mt-NOMINAL_ntuple_DY.root', key='TauCheck_CMS_scale_j_HF13TeVDown')\n",
    "DY_predict_center = rp.read_root(outpath + '/mt-NOMINAL_ntuple_DY.root', key='TauCheck')"
   ]
  },
  {
   "cell_type": "code",
   "execution_count": 16,
   "metadata": {},
   "outputs": [],
   "source": [
    "ggH_predict_up = rp.read_root(outpath + '/mt-NOMINAL_ntuple_ggH125.root', key='TauCheck_CMS_scale_j_HF13TeVUp')\n",
    "ggH_predict_down = rp.read_root(outpath + '/mt-NOMINAL_ntuple_ggH125.root', key='TauCheck_CMS_scale_j_HF13TeVDown')\n",
    "ggH_predict_center = rp.read_root(outpath + '/mt-NOMINAL_ntuple_ggH125.root', key='TauCheck')"
   ]
  },
  {
   "cell_type": "code",
   "execution_count": 46,
   "metadata": {},
   "outputs": [
    {
     "data": {
      "text/plain": [
       "Text(0.5, 1, 'DY')"
      ]
     },
     "execution_count": 46,
     "metadata": {},
     "output_type": "execute_result"
    }
   ],
   "source": [
    "sns.distplot(DY_predict_up.predicted_prob, label='Up', hist=False)\n",
    "sns.distplot(DY_predict_down.predicted_prob, label='Down', hist=False)\n",
    "sns.distplot(DY_predict_center.predicted_prob, label='Center', hist=False)\n",
    "plt.legend()\n",
    "plt.title('DY')"
   ]
  },
  {
   "cell_type": "code",
   "execution_count": 18,
   "metadata": {},
   "outputs": [
    {
     "data": {
      "text/plain": [
       "Text(0.5, 1.0, 'ggH')"
      ]
     },
     "execution_count": 18,
     "metadata": {},
     "output_type": "execute_result"
    },
    {
     "data": {
      "image/png": "[encoded data removed]",
      "text/plain": [
       "<Figure size 432x288 with 1 Axes>"
      ]
     },
     "metadata": {
      "needs_background": "light"
     },
     "output_type": "display_data"
    }
   ],
   "source": [
    "sns.distplot(ggH_predict_up.predicted_prob, label='Up', hist=False)\n",
    "sns.distplot(ggH_predict_down.predicted_prob, label = 'Down', hist=False)\n",
    "sns.distplot(ggH_predict_center.predicted_prob, label = 'Center', hist=False)\n",
    "plt.legend()\n",
    "plt.title('ggH')"
   ]
  },
  {
   "cell_type": "code",
   "execution_count": null,
   "metadata": {},
   "outputs": [],
   "source": []
  }
 ],
 "metadata": {
  "kernelspec": {
   "display_name": "Python 3",
   "language": "python",
   "name": "python3"
  },
  "language_info": {
   "codemirror_mode": {
    "name": "ipython",
    "version": 3
   },
   "file_extension": ".py",
   "mimetype": "text/x-python",
   "name": "python",
   "nbconvert_exporter": "python",
   "pygments_lexer": "ipython3",
   "version": "3.6.8"
  }
 },
 "nbformat": 4,
 "nbformat_minor": 4
}
