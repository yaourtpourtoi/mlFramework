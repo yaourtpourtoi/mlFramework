{
 "cells": [
  {
   "cell_type": "code",
   "execution_count": 10,
   "metadata": {},
   "outputs": [],
   "source": [
    "from Reader import Reader\n",
    "import copy\n",
    "import json\n",
    "import sys\n",
    "import os\n",
    "import time\n",
    "from glob import glob\n",
    "import argparse\n",
    "import _pickle as cPickle\n",
    "import subprocess as sp\n",
    "import multiprocessing as mp\n",
    "from collections import deque\n",
    "\n",
    "import numpy as np\n",
    "import pandas as pd\n",
    "import keras\n",
    "from keras.utils.np_utils import to_categorical\n",
    "from keras.callbacks import EarlyStopping, ModelCheckpoint\n",
    "from keras.models import load_model as lm\n",
    "import seaborn as sns\n",
    "from matplotlib import pyplot as plt\n",
    "\n",
    "from run_model import *\n",
    "import root_pandas as rp\n",
    "import uproot"
   ]
  },
  {
   "cell_type": "markdown",
   "metadata": {},
   "source": [
    "### Parameters definition"
   ]
  },
  {
   "cell_type": "code",
   "execution_count": 12,
   "metadata": {},
   "outputs": [],
   "source": [
    "channel = 'mt'\n",
    "era = '2017'\n",
    "samples = f'conf/global_config_{channel}_{era}.json'\n",
    "use = 'keras'\n",
    "\n",
    "# train = False\n",
    "# short = True\n",
    "# datacard = False\n",
    "# add_nominal = False"
   ]
  },
  {
   "cell_type": "code",
   "execution_count": 13,
   "metadata": {},
   "outputs": [],
   "source": [
    "read = Reader(channel = channel, config_file = samples, folds=2, era = era)"
   ]
  },
  {
   "cell_type": "code",
   "execution_count": 14,
   "metadata": {},
   "outputs": [],
   "source": [
    "target_names = read.config[\"target_names\"]\n",
    "variables = read.config[\"variables\"]\n",
    "\n",
    "models_folder = era + \"/models\"\n",
    "if not os.path.exists(models_folder):\n",
    "    os.makedirs(models_folder)\n",
    "\n",
    "modelname = f'{models_folder}/{channel}.{use}'\n",
    "scaler = None"
   ]
  },
  {
   "cell_type": "code",
   "execution_count": null,
   "metadata": {},
   "outputs": [],
   "source": []
  },
  {
   "cell_type": "markdown",
   "metadata": {},
   "source": [
    "### Tests for Reader()"
   ]
  },
  {
   "cell_type": "code",
   "execution_count": 5,
   "metadata": {},
   "outputs": [
    {
     "data": {
      "text/plain": [
       "{'target': 0,\n",
       " 'select': 'q_1 * q_2 < 0 & byMediumDeepTau2017v2p1VSjet_2 > 0.5 & iso_1 < 0.15 & ((extramuon_veto < 0.5) & (extraelec_veto < 0.5) & (dilepton_veto<0.5) & (byVLooseDeepTau2017v2p1VSmu_2>0.5) & (byVVVLooseDeepTau2017v2p1VSe_2>0.5) ) & puppimt_1 < 50 & ( ( (trg_mutaucross & abs(eta_1) < 2.1 & pt_1 < 25) | trg_singlemuon  ) & pt_2 > 30 )',\n",
       " 'name': '/nfs/dust/cms/user/filatovo/HTT/CMSSW_10_2_16/src/HiggsCP/Inputs/Systematics_v1/NTuples_mt_2017/mt-NOMINAL_ntuple_VBF.root',\n",
       " 'event_weight': '( gen_sm_htt125 * weight * ( 0.95+0.02*( (jpt_1>0 & jpt_1<200) & (njets<2 | ( (jdeta<2.8 | mjj<400 ) & (mjj<60 | mjj>=120 ) ) ) ) - 0.1*(jpt_1>=200) ) * ( 0.89*(gen_match_2 == 5) + 1.*(gen_match_2 !=5) ) )',\n",
       " 'target_name': 'higgs'}"
      ]
     },
     "execution_count": 5,
     "metadata": {},
     "output_type": "execute_result"
    }
   ],
   "source": [
    "read.config['samples']['qqH125']"
   ]
  },
  {
   "cell_type": "code",
   "execution_count": 6,
   "metadata": {},
   "outputs": [
    {
     "data": {
      "text/plain": [
       "{0: 'higgs', 1: 'ztt', 2: 'tt', 3: 'fakes', -1: 'none'}"
      ]
     },
     "execution_count": 6,
     "metadata": {},
     "output_type": "execute_result"
    }
   ],
   "source": [
    "read.config['target_names']"
   ]
  },
  {
   "cell_type": "code",
   "execution_count": 7,
   "metadata": {},
   "outputs": [
    {
     "data": {
      "text/plain": [
       "3"
      ]
     },
     "execution_count": 7,
     "metadata": {},
     "output_type": "execute_result"
    }
   ],
   "source": [
    "read.config['samples']['W']['target']"
   ]
  },
  {
   "cell_type": "code",
   "execution_count": 8,
   "metadata": {},
   "outputs": [
    {
     "data": {
      "text/plain": [
       "'fakes'"
      ]
     },
     "execution_count": 8,
     "metadata": {},
     "output_type": "execute_result"
    }
   ],
   "source": [
    "read.config['samples']['W']['target_name']"
   ]
  },
  {
   "cell_type": "code",
   "execution_count": null,
   "metadata": {},
   "outputs": [],
   "source": []
  },
  {
   "cell_type": "markdown",
   "metadata": {},
   "source": [
    "### Tests for uproot "
   ]
  },
  {
   "cell_type": "code",
   "execution_count": 6,
   "metadata": {},
   "outputs": [],
   "source": [
    "mytree = uproot.open(read.config['path'] + '/mt-NOMINAL_ntuple_DY.root')['TauCheck_CMS_scale_j_JES13TeVUp']\n",
    "mydf = mytree.pandas.df()"
   ]
  },
  {
   "cell_type": "code",
   "execution_count": 10,
   "metadata": {},
   "outputs": [
    {
     "data": {
      "text/plain": [
       "Index(['run', 'lumi', 'evt', 'npv', 'npu', 'rho', 'passedAllMetFilters',\n",
       "       'pt_1', 'phi_1', 'eta_1',\n",
       "       ...\n",
       "       'xsec_lumi_weight', 'qcd_correction', 'trigger_filter_weight',\n",
       "       'embedded_stitching_weight', 'embedded_rate_weight', 'prefiring_weight',\n",
       "       'htxs_reco_flag_ggh', 'htxs_reco_flag_qqh', 'ff_nom', 'ff_sys'],\n",
       "      dtype='object', length=403)"
      ]
     },
     "execution_count": 10,
     "metadata": {},
     "output_type": "execute_result"
    }
   ],
   "source": [
    "mydf.columns"
   ]
  },
  {
   "cell_type": "markdown",
   "metadata": {},
   "source": [
    "#### all branches"
   ]
  },
  {
   "cell_type": "code",
   "execution_count": 76,
   "metadata": {},
   "outputs": [
    {
     "name": "stdout",
     "output_type": "stream",
     "text": [
      "23.8 s ± 4.25 s per loop (mean ± std. dev. of 7 runs, 1 loop each)\n"
     ]
    }
   ],
   "source": [
    "%%timeit\n",
    "df_up = rp.read_root(read.config['path'] + '/mt-NOMINAL_ntuple_DY.root', key='TauCheck_CMS_scale_j_JES13TeVUp')"
   ]
  },
  {
   "cell_type": "code",
   "execution_count": 77,
   "metadata": {
    "scrolled": true
   },
   "outputs": [
    {
     "name": "stdout",
     "output_type": "stream",
     "text": [
      "15.2 ms ± 741 µs per loop (mean ± std. dev. of 7 runs, 100 loops each)\n"
     ]
    }
   ],
   "source": [
    "%%timeit\n",
    "df_up = rp.read_root(read.config['path'] + '/mt-NOMINAL_ntuple_DY.root', key='TauCheck_CMS_scale_j_JES13TeVUp', chunksize=10000)"
   ]
  },
  {
   "cell_type": "code",
   "execution_count": 13,
   "metadata": {},
   "outputs": [
    {
     "name": "stdout",
     "output_type": "stream",
     "text": [
      "4.25 s ± 150 ms per loop (mean ± std. dev. of 7 runs, 1 loop each)\n"
     ]
    }
   ],
   "source": [
    "%%timeit\n",
    "mytree = uproot.open(read.config['path'] + '/mt-NOMINAL_ntuple_DY.root')['TauCheck_CMS_scale_j_JES13TeVUp']\n",
    "mydf = mytree.pandas.df()"
   ]
  },
  {
   "cell_type": "code",
   "execution_count": 15,
   "metadata": {},
   "outputs": [],
   "source": [
    "mytree = uproot.open(read.config['path'] + '/mt-NOMINAL_ntuple_DY.root')['TauCheck_CMS_scale_j_JES13TeVUp']"
   ]
  },
  {
   "cell_type": "markdown",
   "metadata": {},
   "source": [
    "#### one branch"
   ]
  },
  {
   "cell_type": "code",
   "execution_count": 80,
   "metadata": {},
   "outputs": [
    {
     "name": "stdout",
     "output_type": "stream",
     "text": [
      "61.1 ms ± 4.89 ms per loop (mean ± std. dev. of 7 runs, 1 loop each)\n"
     ]
    }
   ],
   "source": [
    "%%timeit\n",
    "df_up = rp.read_root(read.config['path'] + '/mt-NOMINAL_ntuple_DY.root', columns = 'pt_2', key='TauCheck_CMS_scale_j_JES13TeVUp')"
   ]
  },
  {
   "cell_type": "code",
   "execution_count": 81,
   "metadata": {
    "scrolled": true
   },
   "outputs": [
    {
     "name": "stdout",
     "output_type": "stream",
     "text": [
      "16.2 ms ± 3.37 ms per loop (mean ± std. dev. of 7 runs, 10 loops each)\n"
     ]
    }
   ],
   "source": [
    "%%timeit\n",
    "df_up = rp.read_root(read.config['path'] + '/mt-NOMINAL_ntuple_DY.root', columns = 'pt_2', key='TauCheck_CMS_scale_j_JES13TeVUp', chunksize=10000)"
   ]
  },
  {
   "cell_type": "code",
   "execution_count": 82,
   "metadata": {},
   "outputs": [
    {
     "name": "stdout",
     "output_type": "stream",
     "text": [
      "298 ms ± 143 ms per loop (mean ± std. dev. of 7 runs, 1 loop each)\n"
     ]
    }
   ],
   "source": [
    "%%timeit\n",
    "mytree = uproot.open(read.config['path'] + '/mt-NOMINAL_ntuple_DY.root')['TauCheck_CMS_scale_j_JES13TeVUp']\n",
    "mydf = mytree.pandas.df(branches='pt_2')"
   ]
  },
  {
   "cell_type": "code",
   "execution_count": null,
   "metadata": {},
   "outputs": [],
   "source": []
  },
  {
   "cell_type": "markdown",
   "metadata": {},
   "source": [
    "### Tests for systematic samples"
   ]
  },
  {
   "cell_type": "code",
   "execution_count": 9,
   "metadata": {},
   "outputs": [],
   "source": [
    "df_up = rp.read_root(read.config['path'] + '/mt-NOMINAL_ntuple_DY.root', key='TauCheck_CMS_scale_j_JES13TeVUp')\n",
    "df_down = rp.read_root(read.config['path'] + '/mt-NOMINAL_ntuple_DY.root', key='TauCheck_CMS_scale_j_JES13TeVDown')"
   ]
  },
  {
   "cell_type": "code",
   "execution_count": 10,
   "metadata": {},
   "outputs": [
    {
     "data": {
      "text/plain": [
       "(367945, 367945)"
      ]
     },
     "execution_count": 10,
     "metadata": {},
     "output_type": "execute_result"
    }
   ],
   "source": [
    "df_up.shape[0], df_down.shape[0]"
   ]
  },
  {
   "cell_type": "code",
   "execution_count": 11,
   "metadata": {},
   "outputs": [
    {
     "data": {
      "text/plain": [
       "<matplotlib.axes._subplots.AxesSubplot at 0x2b800b2d55f8>"
      ]
     },
     "execution_count": 11,
     "metadata": {},
     "output_type": "execute_result"
    },
    {
     "data": {
      "image/png": "[encoded data removed]",
      "text/plain": [
       "<Figure size 432x288 with 1 Axes>"
      ]
     },
     "metadata": {
      "needs_background": "light"
     },
     "output_type": "display_data"
    }
   ],
   "source": [
    "sns.distplot(df_up.jphi_1)\n",
    "sns.distplot(df_down.jphi_1)"
   ]
  },
  {
   "cell_type": "code",
   "execution_count": 12,
   "metadata": {},
   "outputs": [
    {
     "data": {
      "text/plain": [
       "<matplotlib.axes._subplots.AxesSubplot at 0x2b9d24ee1470>"
      ]
     },
     "execution_count": 12,
     "metadata": {},
     "output_type": "execute_result"
    },
    {
     "data": {
      "image/png": "[encoded data removed]",
      "text/plain": [
       "<Figure size 432x288 with 1 Axes>"
      ]
     },
     "metadata": {
      "needs_background": "light"
     },
     "output_type": "display_data"
    }
   ],
   "source": [
    "sns.distplot(df_up.jpt_1)\n",
    "sns.distplot(df_down.jpt_1)"
   ]
  },
  {
   "cell_type": "code",
   "execution_count": 13,
   "metadata": {
    "scrolled": true
   },
   "outputs": [
    {
     "data": {
      "text/plain": [
       "array([[    1,   237],\n",
       "       [    1,   240],\n",
       "       [    1,   241],\n",
       "       ...,\n",
       "       [10847,   237],\n",
       "       [10847,   238],\n",
       "       [10847,   242]])"
      ]
     },
     "execution_count": 13,
     "metadata": {},
     "output_type": "execute_result"
    }
   ],
   "source": [
    "np.argwhere((df_up.values - df_down.values) != 0)"
   ]
  },
  {
   "cell_type": "code",
   "execution_count": 14,
   "metadata": {},
   "outputs": [
    {
     "data": {
      "text/plain": [
       "'jpt_1'"
      ]
     },
     "execution_count": 14,
     "metadata": {},
     "output_type": "execute_result"
    }
   ],
   "source": [
    "df_up.columns[238]"
   ]
  },
  {
   "cell_type": "code",
   "execution_count": 12,
   "metadata": {},
   "outputs": [
    {
     "data": {
      "text/plain": [
       "(-2.2917929, -3.0601332)"
      ]
     },
     "execution_count": 12,
     "metadata": {},
     "output_type": "execute_result"
    }
   ],
   "source": [
    "df_up.jphi_1.mean(), df_down.jphi_1.mean()"
   ]
  },
  {
   "cell_type": "code",
   "execution_count": 16,
   "metadata": {},
   "outputs": [
    {
     "data": {
      "text/plain": [
       "(54.525555, 51.109432)"
      ]
     },
     "execution_count": 16,
     "metadata": {},
     "output_type": "execute_result"
    }
   ],
   "source": [
    "df_up.jpt_1.mean(), df_down.jpt_1.mean()"
   ]
  },
  {
   "cell_type": "code",
   "execution_count": 13,
   "metadata": {},
   "outputs": [
    {
     "data": {
      "text/plain": [
       "Index(['run', 'lumi', 'evt', 'npv', 'npu', 'rho', 'passedAllMetFilters',\n",
       "       'pt_1', 'phi_1', 'eta_1',\n",
       "       ...\n",
       "       'xsec_lumi_weight', 'qcd_correction', 'trigger_filter_weight',\n",
       "       'embedded_stitching_weight', 'embedded_rate_weight', 'prefiring_weight',\n",
       "       'htxs_reco_flag_ggh', 'htxs_reco_flag_qqh', 'ff_nom', 'ff_sys'],\n",
       "      dtype='object', length=403)"
      ]
     },
     "execution_count": 13,
     "metadata": {},
     "output_type": "execute_result"
    }
   ],
   "source": [
    "df_up.columns"
   ]
  },
  {
   "cell_type": "markdown",
   "metadata": {},
   "source": [
    "### **Training data + scaling**"
   ]
  },
  {
   "cell_type": "code",
   "execution_count": 9,
   "metadata": {},
   "outputs": [
    {
     "name": "stdout",
     "output_type": "stream",
     "text": [
      "Loading: TJ from mt-NOMINAL_ntuple_SingleTop.root, tree = TauCheck\n",
      "size of TJ is 2661\n",
      "Loading: TL from mt-NOMINAL_ntuple_SingleTop.root, tree = TauCheck\n",
      "size of TL is 7475\n",
      "Loading: TT from mt-NOMINAL_ntuple_SingleTop.root, tree = TauCheck\n",
      "size of TT is 1069\n",
      "Loading: TTJ from mt-NOMINAL_ntuple_TT.root, tree = TauCheck\n",
      "size of TTJ is 50846\n",
      "Loading: TTL from mt-NOMINAL_ntuple_TT.root, tree = TauCheck\n",
      "size of TTL is 267199\n",
      "Loading: TTT from mt-NOMINAL_ntuple_TT.root, tree = TauCheck\n",
      "size of TTT is 33900\n",
      "Loading: VVJ from mt-NOMINAL_ntuple_VV.root, tree = TauCheck\n",
      "size of VVJ is 938\n",
      "Loading: VVL from mt-NOMINAL_ntuple_VV.root, tree = TauCheck\n",
      "size of VVL is 2773\n",
      "Loading: VVT from mt-NOMINAL_ntuple_VV.root, tree = TauCheck\n",
      "size of VVT is 1365\n",
      "Loading: W from mt-NOMINAL_ntuple_WJets.root, tree = TauCheck\n",
      "size of W is 13093\n",
      "Loading: ZJ from mt-NOMINAL_ntuple_DY.root, tree = TauCheck\n",
      "size of ZJ is 3225\n",
      "Loading: ZL from mt-NOMINAL_ntuple_DY.root, tree = TauCheck\n",
      "size of ZL is 11310\n",
      "Loading: ZTT from mt-NOMINAL_ntuple_DY.root, tree = TauCheck\n",
      "size of ZTT is 144487\n",
      "Loading: estimate from mt-NOMINAL_ntuple_Data.root, tree = TauCheck\n",
      "size of estimate is 48594\n",
      "Loading: ggH125 from mt-NOMINAL_ntuple_ggH.root, tree = TauCheck\n",
      "size of ggH125 is 65136\n",
      "Loading: qqH125 from mt-NOMINAL_ntuple_VBF.root, tree = TauCheck\n",
      "size of qqH125 is 75631\n",
      "Combining for training\n",
      "CPU times: user 34 s, sys: 10.7 s, total: 44.7 s\n",
      "Wall time: 58.2 s\n"
     ]
    }
   ],
   "source": [
    "%%time\n",
    "trainSet = read.getSamplesForTraining()"
   ]
  },
  {
   "cell_type": "code",
   "execution_count": 6,
   "metadata": {},
   "outputs": [],
   "source": [
    "scaler = trainScaler(trainSet, variables )\n",
    "with open(\"{0}/StandardScaler.{1}.pkl\".format(models_folder,channel), 'wb') as FSO:\n",
    "    pickle.dump(scaler, FSO , 2)\n",
    "scaler = [scaler, scaler] # Hotfix since KIT uses 2 scalers\n",
    "trainSet = applyScaler(scaler, trainSet, variables)"
   ]
  },
  {
   "cell_type": "code",
   "execution_count": null,
   "metadata": {},
   "outputs": [],
   "source": []
  },
  {
   "cell_type": "markdown",
   "metadata": {},
   "source": [
    "### Tests with trainSet"
   ]
  },
  {
   "cell_type": "code",
   "execution_count": 7,
   "metadata": {
    "scrolled": true
   },
   "outputs": [
    {
     "data": {
      "text/html": [
       "<div>\n",
       "<style scoped>\n",
       "    .dataframe tbody tr th:only-of-type {\n",
       "        vertical-align: middle;\n",
       "    }\n",
       "\n",
       "    .dataframe tbody tr th {\n",
       "        vertical-align: top;\n",
       "    }\n",
       "\n",
       "    .dataframe thead th {\n",
       "        text-align: right;\n",
       "    }\n",
       "</style>\n",
       "<table border=\"1\" class=\"dataframe\">\n",
       "  <thead>\n",
       "    <tr style=\"text-align: right;\">\n",
       "      <th></th>\n",
       "      <th>pt_2</th>\n",
       "      <th>jpt_1</th>\n",
       "      <th>jpt_2</th>\n",
       "      <th>bpt_1</th>\n",
       "      <th>bpt_2</th>\n",
       "      <th>njets</th>\n",
       "      <th>nbtag</th>\n",
       "      <th>m_sv</th>\n",
       "      <th>puppimt_1</th>\n",
       "      <th>pt_tt</th>\n",
       "      <th>mjj</th>\n",
       "      <th>jdeta</th>\n",
       "      <th>dijetpt</th>\n",
       "      <th>target</th>\n",
       "      <th>train_weight</th>\n",
       "      <th>evt</th>\n",
       "      <th>event_weight</th>\n",
       "    </tr>\n",
       "  </thead>\n",
       "  <tbody>\n",
       "    <tr>\n",
       "      <td>0</td>\n",
       "      <td>-0.128386</td>\n",
       "      <td>-0.434617</td>\n",
       "      <td>-0.857003</td>\n",
       "      <td>-0.702024</td>\n",
       "      <td>-0.386620</td>\n",
       "      <td>-0.495468</td>\n",
       "      <td>-0.764144</td>\n",
       "      <td>0.292863</td>\n",
       "      <td>-0.769139</td>\n",
       "      <td>-0.786940</td>\n",
       "      <td>-0.514608</td>\n",
       "      <td>-1.038578</td>\n",
       "      <td>-0.770740</td>\n",
       "      <td>3</td>\n",
       "      <td>97.100000</td>\n",
       "      <td>1673128920</td>\n",
       "      <td>1.000000</td>\n",
       "    </tr>\n",
       "    <tr>\n",
       "      <td>1</td>\n",
       "      <td>0.224279</td>\n",
       "      <td>-1.079529</td>\n",
       "      <td>-0.857003</td>\n",
       "      <td>-0.702024</td>\n",
       "      <td>-0.386620</td>\n",
       "      <td>-1.189380</td>\n",
       "      <td>-0.764144</td>\n",
       "      <td>-1.218558</td>\n",
       "      <td>-1.011034</td>\n",
       "      <td>-1.191012</td>\n",
       "      <td>-0.514608</td>\n",
       "      <td>-1.038578</td>\n",
       "      <td>-0.770740</td>\n",
       "      <td>0</td>\n",
       "      <td>34066.981871</td>\n",
       "      <td>3629284</td>\n",
       "      <td>1462.102226</td>\n",
       "    </tr>\n",
       "    <tr>\n",
       "      <td>2</td>\n",
       "      <td>-0.792258</td>\n",
       "      <td>-1.079529</td>\n",
       "      <td>-0.857003</td>\n",
       "      <td>-0.702024</td>\n",
       "      <td>-0.386620</td>\n",
       "      <td>-1.189380</td>\n",
       "      <td>-0.764144</td>\n",
       "      <td>-1.218558</td>\n",
       "      <td>-0.439283</td>\n",
       "      <td>-0.713931</td>\n",
       "      <td>-0.514608</td>\n",
       "      <td>-1.038578</td>\n",
       "      <td>-0.770740</td>\n",
       "      <td>3</td>\n",
       "      <td>97.100000</td>\n",
       "      <td>106046432</td>\n",
       "      <td>1.000000</td>\n",
       "    </tr>\n",
       "    <tr>\n",
       "      <td>3</td>\n",
       "      <td>0.328201</td>\n",
       "      <td>-0.071782</td>\n",
       "      <td>0.356838</td>\n",
       "      <td>-0.702024</td>\n",
       "      <td>-0.386620</td>\n",
       "      <td>0.198443</td>\n",
       "      <td>-0.764144</td>\n",
       "      <td>-0.065288</td>\n",
       "      <td>0.192986</td>\n",
       "      <td>0.685037</td>\n",
       "      <td>7.386427</td>\n",
       "      <td>1.907933</td>\n",
       "      <td>0.784578</td>\n",
       "      <td>0</td>\n",
       "      <td>4116.341280</td>\n",
       "      <td>2685572</td>\n",
       "      <td>176.667008</td>\n",
       "    </tr>\n",
       "    <tr>\n",
       "      <td>4</td>\n",
       "      <td>-0.696759</td>\n",
       "      <td>0.407153</td>\n",
       "      <td>0.887142</td>\n",
       "      <td>0.812773</td>\n",
       "      <td>1.129923</td>\n",
       "      <td>0.198443</td>\n",
       "      <td>3.163842</td>\n",
       "      <td>0.205837</td>\n",
       "      <td>-1.153561</td>\n",
       "      <td>0.168587</td>\n",
       "      <td>0.053825</td>\n",
       "      <td>0.814356</td>\n",
       "      <td>0.640418</td>\n",
       "      <td>2</td>\n",
       "      <td>3698.600846</td>\n",
       "      <td>54744718</td>\n",
       "      <td>3362.364406</td>\n",
       "    </tr>\n",
       "  </tbody>\n",
       "</table>\n",
       "</div>"
      ],
      "text/plain": [
       "       pt_2     jpt_1     jpt_2     bpt_1     bpt_2     njets     nbtag  \\\n",
       "0 -0.128386 -0.434617 -0.857003 -0.702024 -0.386620 -0.495468 -0.764144   \n",
       "1  0.224279 -1.079529 -0.857003 -0.702024 -0.386620 -1.189380 -0.764144   \n",
       "2 -0.792258 -1.079529 -0.857003 -0.702024 -0.386620 -1.189380 -0.764144   \n",
       "3  0.328201 -0.071782  0.356838 -0.702024 -0.386620  0.198443 -0.764144   \n",
       "4 -0.696759  0.407153  0.887142  0.812773  1.129923  0.198443  3.163842   \n",
       "\n",
       "       m_sv  puppimt_1     pt_tt       mjj     jdeta   dijetpt  target  \\\n",
       "0  0.292863  -0.769139 -0.786940 -0.514608 -1.038578 -0.770740       3   \n",
       "1 -1.218558  -1.011034 -1.191012 -0.514608 -1.038578 -0.770740       0   \n",
       "2 -1.218558  -0.439283 -0.713931 -0.514608 -1.038578 -0.770740       3   \n",
       "3 -0.065288   0.192986  0.685037  7.386427  1.907933  0.784578       0   \n",
       "4  0.205837  -1.153561  0.168587  0.053825  0.814356  0.640418       2   \n",
       "\n",
       "   train_weight         evt  event_weight  \n",
       "0     97.100000  1673128920      1.000000  \n",
       "1  34066.981871     3629284   1462.102226  \n",
       "2     97.100000   106046432      1.000000  \n",
       "3   4116.341280     2685572    176.667008  \n",
       "4   3698.600846    54744718   3362.364406  "
      ]
     },
     "execution_count": 7,
     "metadata": {},
     "output_type": "execute_result"
    }
   ],
   "source": [
    "trainSet[1].head()"
   ]
  },
  {
   "cell_type": "code",
   "execution_count": 19,
   "metadata": {},
   "outputs": [],
   "source": [
    "data = trainSet[1]"
   ]
  },
  {
   "cell_type": "code",
   "execution_count": 20,
   "metadata": {},
   "outputs": [
    {
     "data": {
      "text/plain": [
       "Index(['pt_2', 'pt_2', 'jpt_1', 'jpt_2', 'bpt_1', 'bpt_2', 'njets', 'nbtag',\n",
       "       'm_sv', 'puppimt_1', 'puppimt_1', 'pt_tt', 'pt_tt', 'mjj', 'jdeta',\n",
       "       'dijetpt', 'target', 'train_weight', 'evt', 'event_weight'],\n",
       "      dtype='object')"
      ]
     },
     "execution_count": 20,
     "metadata": {},
     "output_type": "execute_result"
    }
   ],
   "source": [
    "data.columns"
   ]
  },
  {
   "cell_type": "code",
   "execution_count": 21,
   "metadata": {},
   "outputs": [
    {
     "data": {
      "text/plain": [
       "array([0, 1, 2, 3])"
      ]
     },
     "execution_count": 21,
     "metadata": {},
     "output_type": "execute_result"
    }
   ],
   "source": [
    "np.unique(data.target)"
   ]
  },
  {
   "cell_type": "code",
   "execution_count": 22,
   "metadata": {
    "scrolled": true
   },
   "outputs": [
    {
     "data": {
      "text/plain": [
       "<matplotlib.axes._subplots.AxesSubplot at 0x2b95d131d208>"
      ]
     },
     "execution_count": 22,
     "metadata": {},
     "output_type": "execute_result"
    },
    {
     "data": {
      "image/png": "[encoded data removed]",
      "text/plain": [
       "<Figure size 432x288 with 1 Axes>"
      ]
     },
     "metadata": {
      "needs_background": "light"
     },
     "output_type": "display_data"
    }
   ],
   "source": [
    "sns.distplot(trainSet[0].target, kde=False)\n",
    "sns.distplot(trainSet[1].target, kde=False)"
   ]
  },
  {
   "cell_type": "code",
   "execution_count": 23,
   "metadata": {},
   "outputs": [
    {
     "data": {
      "text/plain": [
       "729702"
      ]
     },
     "execution_count": 23,
     "metadata": {},
     "output_type": "execute_result"
    }
   ],
   "source": [
    "trainSet[0].shape[0] + trainSet[1].shape[0]"
   ]
  },
  {
   "cell_type": "markdown",
   "metadata": {},
   "source": [
    "### **Defining model and training**"
   ]
  },
  {
   "cell_type": "code",
   "execution_count": 8,
   "metadata": {},
   "outputs": [],
   "source": [
    "if use == 'keras':\n",
    "    from KerasModel import KerasObject as modelObject\n",
    "    parameters = \"conf/parameters_keras.json\"\n",
    "if use == 'xgb':\n",
    "    from XGBModel import XGBObject as modelObject\n",
    "    parameters = \"conf/parameters_xgb.json\""
   ]
  },
  {
   "cell_type": "code",
   "execution_count": 6,
   "metadata": {},
   "outputs": [],
   "source": [
    "model = modelObject( parameter_file = parameters,\n",
    "                             variables=variables,\n",
    "                             target_names = target_names )\n"
   ]
  },
  {
   "cell_type": "code",
   "execution_count": 7,
   "metadata": {},
   "outputs": [
    {
     "data": {
      "text/plain": [
       "{'name': 'smhtt_dropout_tanh',\n",
       " 'batch_size': 100,\n",
       " 'epochs': 10,\n",
       " 'early_stopping': 50}"
      ]
     },
     "execution_count": 7,
     "metadata": {},
     "output_type": "execute_result"
    }
   ],
   "source": [
    "model.params"
   ]
  },
  {
   "cell_type": "code",
   "execution_count": 10,
   "metadata": {},
   "outputs": [
    {
     "data": {
      "text/plain": [
       "['pt_2',\n",
       " 'jpt_1',\n",
       " 'jpt_2',\n",
       " 'bpt_1',\n",
       " 'bpt_2',\n",
       " 'njets',\n",
       " 'nbtag',\n",
       " 'm_sv',\n",
       " 'puppimt_1',\n",
       " 'pt_tt',\n",
       " 'mjj',\n",
       " 'jdeta',\n",
       " 'dijetpt']"
      ]
     },
     "execution_count": 10,
     "metadata": {},
     "output_type": "execute_result"
    }
   ],
   "source": [
    "model.variables"
   ]
  },
  {
   "cell_type": "code",
   "execution_count": 11,
   "metadata": {
    "scrolled": true
   },
   "outputs": [
    {
     "name": "stdout",
     "output_type": "stream",
     "text": [
      "\n",
      "\n",
      "i am the beginning\n",
      "\n",
      "\n",
      "\n",
      "\n",
      "i am before here\n",
      "\n",
      "\n",
      "_________________________________________________________________\n",
      "Layer (type)                 Output Shape              Param #   \n",
      "=================================================================\n",
      "dense_1 (Dense)              (None, 200)               2800      \n",
      "_________________________________________________________________\n",
      "activation_1 (Activation)    (None, 200)               0         \n",
      "_________________________________________________________________\n",
      "dropout_1 (Dropout)          (None, 200)               0         \n",
      "_________________________________________________________________\n",
      "dense_2 (Dense)              (None, 200)               40200     \n",
      "_________________________________________________________________\n",
      "activation_2 (Activation)    (None, 200)               0         \n",
      "_________________________________________________________________\n",
      "dropout_2 (Dropout)          (None, 200)               0         \n",
      "_________________________________________________________________\n",
      "dense_3 (Dense)              (None, 4)                 804       \n",
      "_________________________________________________________________\n",
      "activation_3 (Activation)    (None, 4)                 0         \n",
      "=================================================================\n",
      "Total params: 43,804\n",
      "Trainable params: 43,804\n",
      "Non-trainable params: 0\n",
      "_________________________________________________________________\n",
      "Train on 5520 samples, validate on 1840 samples\n",
      "Epoch 1/10\n",
      "5520/5520 [==============================] - 0s 64us/step - loss: 19738.2305 - categorical_accuracy: 0.2871 - val_loss: 20319.6992 - val_categorical_accuracy: 0.3179\n",
      "\n",
      "Epoch 00001: val_loss improved from inf to 20319.69922, saving model to 1578565359.model\n",
      "Epoch 2/10\n",
      "5520/5520 [==============================] - 0s 28us/step - loss: 19321.6523 - categorical_accuracy: 0.3025 - val_loss: 20019.0625 - val_categorical_accuracy: 0.3217\n",
      "\n",
      "Epoch 00002: val_loss improved from 20319.69922 to 20019.06250, saving model to 1578565359.model\n",
      "Epoch 3/10\n",
      "5520/5520 [==============================] - 0s 31us/step - loss: 19151.1094 - categorical_accuracy: 0.2975 - val_loss: 19678.0801 - val_categorical_accuracy: 0.3207\n",
      "\n",
      "Epoch 00003: val_loss improved from 20019.06250 to 19678.08008, saving model to 1578565359.model\n",
      "Epoch 4/10\n",
      "5520/5520 [==============================] - 0s 27us/step - loss: 18835.0840 - categorical_accuracy: 0.3111 - val_loss: 19345.9512 - val_categorical_accuracy: 0.3234\n",
      "\n",
      "Epoch 00004: val_loss improved from 19678.08008 to 19345.95117, saving model to 1578565359.model\n",
      "Epoch 5/10\n",
      "5520/5520 [==============================] - 0s 28us/step - loss: 18512.1562 - categorical_accuracy: 0.3176 - val_loss: 19023.5234 - val_categorical_accuracy: 0.3408\n",
      "\n",
      "Epoch 00005: val_loss improved from 19345.95117 to 19023.52344, saving model to 1578565359.model\n",
      "Epoch 6/10\n",
      "5520/5520 [==============================] - 0s 26us/step - loss: 18397.5781 - categorical_accuracy: 0.3310 - val_loss: 18710.7715 - val_categorical_accuracy: 0.3723\n",
      "\n",
      "Epoch 00006: val_loss improved from 19023.52344 to 18710.77148, saving model to 1578565359.model\n",
      "Epoch 7/10\n",
      "5520/5520 [==============================] - 0s 25us/step - loss: 18117.1465 - categorical_accuracy: 0.3263 - val_loss: 18414.4668 - val_categorical_accuracy: 0.3842\n",
      "\n",
      "Epoch 00007: val_loss improved from 18710.77148 to 18414.46680, saving model to 1578565359.model\n",
      "Epoch 8/10\n",
      "5520/5520 [==============================] - 0s 28us/step - loss: 17867.1152 - categorical_accuracy: 0.3370 - val_loss: 18126.3613 - val_categorical_accuracy: 0.3826\n",
      "\n",
      "Epoch 00008: val_loss improved from 18414.46680 to 18126.36133, saving model to 1578565359.model\n",
      "Epoch 9/10\n",
      "5520/5520 [==============================] - 0s 31us/step - loss: 17621.1504 - categorical_accuracy: 0.3486 - val_loss: 17844.3262 - val_categorical_accuracy: 0.3853\n",
      "\n",
      "Epoch 00009: val_loss improved from 18126.36133 to 17844.32617, saving model to 1578565359.model\n",
      "Epoch 10/10\n",
      "5520/5520 [==============================] - 0s 33us/step - loss: 17141.9668 - categorical_accuracy: 0.3563 - val_loss: 17573.1055 - val_categorical_accuracy: 0.3897\n",
      "\n",
      "Epoch 00010: val_loss improved from 17844.32617 to 17573.10547, saving model to 1578565359.model\n",
      "plotting training\n",
      "Reloading best model\n",
      "\n",
      "\n",
      "i am before here\n",
      "\n",
      "\n",
      "_________________________________________________________________\n",
      "Layer (type)                 Output Shape              Param #   \n",
      "=================================================================\n",
      "dense_4 (Dense)              (None, 200)               2800      \n",
      "_________________________________________________________________\n",
      "activation_4 (Activation)    (None, 200)               0         \n",
      "_________________________________________________________________\n",
      "dropout_3 (Dropout)          (None, 200)               0         \n",
      "_________________________________________________________________\n",
      "dense_5 (Dense)              (None, 200)               40200     \n",
      "_________________________________________________________________\n",
      "activation_5 (Activation)    (None, 200)               0         \n",
      "_________________________________________________________________\n",
      "dropout_4 (Dropout)          (None, 200)               0         \n",
      "_________________________________________________________________\n",
      "dense_6 (Dense)              (None, 4)                 804       \n",
      "_________________________________________________________________\n",
      "activation_6 (Activation)    (None, 4)                 0         \n",
      "=================================================================\n",
      "Total params: 43,804\n",
      "Trainable params: 43,804\n",
      "Non-trainable params: 0\n",
      "_________________________________________________________________\n",
      "Train on 5619 samples, validate on 1873 samples\n",
      "Epoch 1/10\n",
      "5619/5619 [==============================] - 0s 66us/step - loss: 17596.4238 - categorical_accuracy: 0.2189 - val_loss: 17077.0215 - val_categorical_accuracy: 0.2040\n",
      "\n",
      "Epoch 00001: val_loss improved from inf to 17077.02148, saving model to 1578565363.model\n",
      "Epoch 2/10\n",
      "5619/5619 [==============================] - 0s 21us/step - loss: 17463.2500 - categorical_accuracy: 0.2317 - val_loss: 16874.6660 - val_categorical_accuracy: 0.2290\n",
      "\n",
      "Epoch 00002: val_loss improved from 17077.02148 to 16874.66602, saving model to 1578565363.model\n",
      "Epoch 3/10\n",
      "5619/5619 [==============================] - 0s 27us/step - loss: 17521.9648 - categorical_accuracy: 0.2303 - val_loss: 16647.4766 - val_categorical_accuracy: 0.2483\n",
      "\n",
      "Epoch 00003: val_loss improved from 16874.66602 to 16647.47656, saving model to 1578565363.model\n",
      "Epoch 4/10\n",
      "5619/5619 [==============================] - 0s 20us/step - loss: 17117.7129 - categorical_accuracy: 0.2426 - val_loss: 16430.3164 - val_categorical_accuracy: 0.2696\n",
      "\n",
      "Epoch 00004: val_loss improved from 16647.47656 to 16430.31641, saving model to 1578565363.model\n",
      "Epoch 5/10\n",
      "5619/5619 [==============================] - 0s 20us/step - loss: 16840.6504 - categorical_accuracy: 0.2662 - val_loss: 16222.6611 - val_categorical_accuracy: 0.2894\n",
      "\n",
      "Epoch 00005: val_loss improved from 16430.31641 to 16222.66113, saving model to 1578565363.model\n",
      "Epoch 6/10\n",
      "5619/5619 [==============================] - 0s 20us/step - loss: 16742.0664 - categorical_accuracy: 0.2675 - val_loss: 16024.7432 - val_categorical_accuracy: 0.3113\n",
      "\n",
      "Epoch 00006: val_loss improved from 16222.66113 to 16024.74316, saving model to 1578565363.model\n",
      "Epoch 7/10\n",
      "5619/5619 [==============================] - 0s 27us/step - loss: 16246.7305 - categorical_accuracy: 0.2872 - val_loss: 15836.4746 - val_categorical_accuracy: 0.3284\n",
      "\n",
      "Epoch 00007: val_loss improved from 16024.74316 to 15836.47461, saving model to 1578565363.model\n",
      "Epoch 8/10\n",
      "5619/5619 [==============================] - 0s 27us/step - loss: 16343.4912 - categorical_accuracy: 0.2977 - val_loss: 15659.6133 - val_categorical_accuracy: 0.3401\n",
      "\n",
      "Epoch 00008: val_loss improved from 15836.47461 to 15659.61328, saving model to 1578565363.model\n",
      "Epoch 9/10\n",
      "5619/5619 [==============================] - 0s 27us/step - loss: 16181.5957 - categorical_accuracy: 0.3031 - val_loss: 15488.5703 - val_categorical_accuracy: 0.3492\n",
      "\n",
      "Epoch 00009: val_loss improved from 15659.61328 to 15488.57031, saving model to 1578565363.model\n",
      "Epoch 10/10\n",
      "5619/5619 [==============================] - 0s 25us/step - loss: 15938.9531 - categorical_accuracy: 0.3159 - val_loss: 15326.0205 - val_categorical_accuracy: 0.3545\n",
      "\n",
      "Epoch 00010: val_loss improved from 15488.57031 to 15326.02051, saving model to 1578565363.model\n",
      "plotting training\n",
      "Reloading best model\n",
      "Finished training!\n"
     ]
    },
    {
     "name": "stderr",
     "output_type": "stream",
     "text": [
      "2020-01-09 11:22:40.230061: I tensorflow/core/platform/cpu_feature_guard.cc:140] Your CPU supports instructions that this TensorFlow binary was not compiled to use: AVX2 FMA\n"
     ]
    }
   ],
   "source": [
    "model.train( trainSet )"
   ]
  },
  {
   "cell_type": "code",
   "execution_count": 12,
   "metadata": {
    "scrolled": true
   },
   "outputs": [
    {
     "data": {
      "text/plain": [
       "[<keras.models.Sequential at 0x2b9e47f74f28>,\n",
       " <keras.models.Sequential at 0x2b9ff87830b8>]"
      ]
     },
     "execution_count": 12,
     "metadata": {},
     "output_type": "execute_result"
    }
   ],
   "source": [
    "model.models"
   ]
  },
  {
   "cell_type": "code",
   "execution_count": 37,
   "metadata": {},
   "outputs": [
    {
     "data": {
      "text/plain": [
       "'2017/models/mt.keras'"
      ]
     },
     "execution_count": 37,
     "metadata": {},
     "output_type": "execute_result"
    }
   ],
   "source": [
    "modelname"
   ]
  },
  {
   "cell_type": "code",
   "execution_count": 38,
   "metadata": {
    "scrolled": true
   },
   "outputs": [
    {
     "data": {
      "text/plain": [
       "{'variables': ['pt_2',\n",
       "  'jpt_1',\n",
       "  'jpt_2',\n",
       "  'bpt_1',\n",
       "  'bpt_2',\n",
       "  'njets',\n",
       "  'nbtag',\n",
       "  'm_sv',\n",
       "  'puppimt_1',\n",
       "  'pt_tt',\n",
       "  'mjj',\n",
       "  'jdeta',\n",
       "  'dijetpt'],\n",
       " 'models': [<keras.models.Sequential at 0x2b801c66aa20>,\n",
       "  <keras.models.Sequential at 0x2b85f79a34a8>],\n",
       " 'params': {'name': 'smhtt_dropout_tanh',\n",
       "  'batch_size': 1000000,\n",
       "  'epochs': 10,\n",
       "  'early_stopping': 50},\n",
       " 'target_names': {0: 'higgs', 1: 'ztt', 2: 'tt', 3: 'fakes', -1: 'none'}}"
      ]
     },
     "execution_count": 38,
     "metadata": {},
     "output_type": "execute_result"
    }
   ],
   "source": [
    "model.__dict__"
   ]
  },
  {
   "cell_type": "code",
   "execution_count": 39,
   "metadata": {},
   "outputs": [],
   "source": [
    "# Save models\n",
    "model.models[0].save(modelname + \"_10epochs_nobatch.fold0\")\n",
    "model.models[1].save(modelname + \"_10epochs_nobatch.fold1\")"
   ]
  },
  {
   "cell_type": "code",
   "execution_count": null,
   "metadata": {},
   "outputs": [],
   "source": []
  },
  {
   "cell_type": "markdown",
   "metadata": {},
   "source": [
    "### Load model"
   ]
  },
  {
   "cell_type": "code",
   "execution_count": 9,
   "metadata": {},
   "outputs": [],
   "source": [
    "model_loaded = modelObject( parameter_file = parameters,\n",
    "                             variables=variables,\n",
    "                             target_names = target_names )"
   ]
  },
  {
   "cell_type": "code",
   "execution_count": 10,
   "metadata": {},
   "outputs": [
    {
     "name": "stderr",
     "output_type": "stream",
     "text": [
      "2020-01-15 20:39:04.098468: I tensorflow/core/platform/cpu_feature_guard.cc:140] Your CPU supports instructions that this TensorFlow binary was not compiled to use: AVX2 FMA\n"
     ]
    }
   ],
   "source": [
    "model_loaded.models = []\n",
    "model_loaded.models.append( lm(modelname + \"_10epochs.fold0\") )\n",
    "model_loaded.models.append( lm(modelname + \"_10epochs.fold1\") )\n"
   ]
  },
  {
   "cell_type": "code",
   "execution_count": 11,
   "metadata": {},
   "outputs": [
    {
     "data": {
      "text/plain": [
       "{'variables': ['pt_2',\n",
       "  'jpt_1',\n",
       "  'jpt_2',\n",
       "  'bpt_1',\n",
       "  'bpt_2',\n",
       "  'njets',\n",
       "  'nbtag',\n",
       "  'm_sv',\n",
       "  'puppimt_1',\n",
       "  'pt_tt',\n",
       "  'mjj',\n",
       "  'jdeta',\n",
       "  'dijetpt'],\n",
       " 'models': [<keras.models.Sequential at 0x2b7462cc4c50>,\n",
       "  <keras.models.Sequential at 0x2b7462cc4710>],\n",
       " 'params': {'name': 'smhtt_dropout_tanh',\n",
       "  'batch_size': 100,\n",
       "  'epochs': 10,\n",
       "  'early_stopping': 50},\n",
       " 'target_names': {0: 'higgs', 1: 'ztt', 2: 'tt', 3: 'fakes', -1: 'none'}}"
      ]
     },
     "execution_count": 11,
     "metadata": {},
     "output_type": "execute_result"
    }
   ],
   "source": [
    "model_loaded.__dict__"
   ]
  },
  {
   "cell_type": "markdown",
   "metadata": {},
   "source": [
    "### Prediction"
   ]
  },
  {
   "cell_type": "code",
   "execution_count": 12,
   "metadata": {},
   "outputs": [],
   "source": [
    "from run_model import sandbox"
   ]
  },
  {
   "cell_type": "code",
   "execution_count": 16,
   "metadata": {},
   "outputs": [],
   "source": [
    "outpath = read.config[\"outpath\"] + \"/predictions_\" + era\n",
    "if not os.path.exists(outpath):\n",
    "    os.mkdir(outpath)    \n",
    "predictions = {}"
   ]
  },
  {
   "cell_type": "code",
   "execution_count": 14,
   "metadata": {},
   "outputs": [],
   "source": [
    "# Deleting root files in outpath\n",
    "files = glob(outpath + '/*.root')\n",
    "for f in files:\n",
    "    os.remove(f)"
   ]
  },
  {
   "cell_type": "code",
   "execution_count": 15,
   "metadata": {},
   "outputs": [
    {
     "name": "stdout",
     "output_type": "stream",
     "text": [
      "Loading: DY_full from mt-NOMINAL_ntuple_DY.root, tree = TauCheck\n",
      "Loading: DY_full from mt-NOMINAL_ntuple_DY.root, tree = TauCheck_CMS_scale_j_JES13TeVUp\n",
      "Loading: DY_full from mt-NOMINAL_ntuple_DY.root, tree = TauCheck_CMS_scale_j_JES13TeVDown\n",
      "Warning: couldn't find /nfs/dust/cms/user/filatovo/HTT/CMSSW_10_2_16/src/HiggsCP/Inputs/Systematics_v1/NTuples_mt_2017/mt-NOMINAL_ntuple_Embedded.root\n",
      "Loading: ST_full from mt-NOMINAL_ntuple_SingleTop.root, tree = TauCheck\n",
      "Loading: ST_full from mt-NOMINAL_ntuple_SingleTop.root, tree = TauCheck_CMS_scale_j_JES13TeVUp\n",
      "Loading: ST_full from mt-NOMINAL_ntuple_SingleTop.root, tree = TauCheck_CMS_scale_j_JES13TeVDown\n",
      "Loading: TT_full from mt-NOMINAL_ntuple_TT.root, tree = TauCheck\n",
      "Loading: TT_full from mt-NOMINAL_ntuple_TT.root, tree = TauCheck_CMS_scale_j_JES13TeVUp\n",
      "Loading: TT_full from mt-NOMINAL_ntuple_TT.root, tree = TauCheck_CMS_scale_j_JES13TeVDown\n",
      "Loading: VV_full from mt-NOMINAL_ntuple_VV.root, tree = TauCheck\n",
      "Loading: VV_full from mt-NOMINAL_ntuple_VV.root, tree = TauCheck_CMS_scale_j_JES13TeVUp\n",
      "Loading: VV_full from mt-NOMINAL_ntuple_VV.root, tree = TauCheck_CMS_scale_j_JES13TeVDown\n",
      "Warning: couldn't find /nfs/dust/cms/user/filatovo/HTT/CMSSW_10_2_16/src/HiggsCP/Inputs/Systematics_v1/NTuples_mt_2017/mt-NOMINAL_ntuple_WH125.root\n",
      "Warning: couldn't find /nfs/dust/cms/user/filatovo/HTT/CMSSW_10_2_16/src/HiggsCP/Inputs/Systematics_v1/NTuples_mt_2017/mt-NOMINAL_ntuple_WH125.root\n",
      "Warning: couldn't find /nfs/dust/cms/user/filatovo/HTT/CMSSW_10_2_16/src/HiggsCP/Inputs/Systematics_v1/NTuples_mt_2017/mt-NOMINAL_ntuple_WH125.root\n",
      "Loading: W_full from mt-NOMINAL_ntuple_WJets.root, tree = TauCheck\n",
      "Loading: W_full from mt-NOMINAL_ntuple_WJets.root, tree = TauCheck_CMS_scale_j_JES13TeVUp\n",
      "Loading: W_full from mt-NOMINAL_ntuple_WJets.root, tree = TauCheck_CMS_scale_j_JES13TeVDown\n",
      "Warning: couldn't find /nfs/dust/cms/user/filatovo/HTT/CMSSW_10_2_16/src/HiggsCP/Inputs/Systematics_v1/NTuples_mt_2017/mt-NOMINAL_ntuple_ZH125.root\n",
      "Warning: couldn't find /nfs/dust/cms/user/filatovo/HTT/CMSSW_10_2_16/src/HiggsCP/Inputs/Systematics_v1/NTuples_mt_2017/mt-NOMINAL_ntuple_ZH125.root\n",
      "Warning: couldn't find /nfs/dust/cms/user/filatovo/HTT/CMSSW_10_2_16/src/HiggsCP/Inputs/Systematics_v1/NTuples_mt_2017/mt-NOMINAL_ntuple_ZH125.root\n",
      "Loading: data_full from mt-NOMINAL_ntuple_Data.root, tree = TauCheck\n",
      "Loading: ggH125_full from mt-NOMINAL_ntuple_ggH.root, tree = TauCheck\n",
      "Loading: ggH125_full from mt-NOMINAL_ntuple_ggH.root, tree = TauCheck_CMS_scale_j_JES13TeVUp\n",
      "Loading: ggH125_full from mt-NOMINAL_ntuple_ggH.root, tree = TauCheck_CMS_scale_j_JES13TeVDown\n",
      "Warning: couldn't find /nfs/dust/cms/user/filatovo/HTT/CMSSW_10_2_16/src/HiggsCP/Inputs/Systematics_v1/NTuples_mt_2017/mt-NOMINAL_ntuple_ggMMH125.root\n",
      "Warning: couldn't find /nfs/dust/cms/user/filatovo/HTT/CMSSW_10_2_16/src/HiggsCP/Inputs/Systematics_v1/NTuples_mt_2017/mt-NOMINAL_ntuple_ggMMH125.root\n",
      "Warning: couldn't find /nfs/dust/cms/user/filatovo/HTT/CMSSW_10_2_16/src/HiggsCP/Inputs/Systematics_v1/NTuples_mt_2017/mt-NOMINAL_ntuple_ggMMH125.root\n",
      "Warning: couldn't find /nfs/dust/cms/user/filatovo/HTT/CMSSW_10_2_16/src/HiggsCP/Inputs/Systematics_v1/NTuples_mt_2017/mt-NOMINAL_ntuple_ggPSH125.root\n",
      "Warning: couldn't find /nfs/dust/cms/user/filatovo/HTT/CMSSW_10_2_16/src/HiggsCP/Inputs/Systematics_v1/NTuples_mt_2017/mt-NOMINAL_ntuple_ggPSH125.root\n",
      "Warning: couldn't find /nfs/dust/cms/user/filatovo/HTT/CMSSW_10_2_16/src/HiggsCP/Inputs/Systematics_v1/NTuples_mt_2017/mt-NOMINAL_ntuple_ggPSH125.root\n",
      "Loading: ggSMH125_full from mt-NOMINAL_ntuple_ggH.root, tree = TauCheck\n",
      "Loading: ggSMH125_full from mt-NOMINAL_ntuple_ggH.root, tree = TauCheck_CMS_scale_j_JES13TeVUp\n",
      "Loading: ggSMH125_full from mt-NOMINAL_ntuple_ggH.root, tree = TauCheck_CMS_scale_j_JES13TeVDown\n",
      "Loading: qqH125_full from mt-NOMINAL_ntuple_VBF.root, tree = TauCheck\n",
      "Loading: qqH125_full from mt-NOMINAL_ntuple_VBF.root, tree = TauCheck_CMS_scale_j_JES13TeVUp\n",
      "Loading: qqH125_full from mt-NOMINAL_ntuple_VBF.root, tree = TauCheck_CMS_scale_j_JES13TeVDown\n",
      "Warning: couldn't find /nfs/dust/cms/user/filatovo/HTT/CMSSW_10_2_16/src/HiggsCP/Inputs/Systematics_v1/NTuples_mt_2017/mt-NOMINAL_ntuple_qqMMH125.root\n",
      "Warning: couldn't find /nfs/dust/cms/user/filatovo/HTT/CMSSW_10_2_16/src/HiggsCP/Inputs/Systematics_v1/NTuples_mt_2017/mt-NOMINAL_ntuple_qqMMH125.root\n",
      "Warning: couldn't find /nfs/dust/cms/user/filatovo/HTT/CMSSW_10_2_16/src/HiggsCP/Inputs/Systematics_v1/NTuples_mt_2017/mt-NOMINAL_ntuple_qqMMH125.root\n",
      "Warning: couldn't find /nfs/dust/cms/user/filatovo/HTT/CMSSW_10_2_16/src/HiggsCP/Inputs/Systematics_v1/NTuples_mt_2017/mt-NOMINAL_ntuple_qqPSH125.root\n",
      "Warning: couldn't find /nfs/dust/cms/user/filatovo/HTT/CMSSW_10_2_16/src/HiggsCP/Inputs/Systematics_v1/NTuples_mt_2017/mt-NOMINAL_ntuple_qqPSH125.root\n",
      "Warning: couldn't find /nfs/dust/cms/user/filatovo/HTT/CMSSW_10_2_16/src/HiggsCP/Inputs/Systematics_v1/NTuples_mt_2017/mt-NOMINAL_ntuple_qqPSH125.root\n",
      "Loading: qqSMH125_full from mt-NOMINAL_ntuple_VBF.root, tree = TauCheck\n",
      "Loading: qqSMH125_full from mt-NOMINAL_ntuple_VBF.root, tree = TauCheck_CMS_scale_j_JES13TeVUp\n",
      "Loading: qqSMH125_full from mt-NOMINAL_ntuple_VBF.root, tree = TauCheck_CMS_scale_j_JES13TeVDown\n",
      "CPU times: user 35min 4s, sys: 2min 1s, total: 37min 6s\n",
      "Wall time: 37min 20s\n"
     ]
    }
   ],
   "source": [
    "%%time\n",
    "for sample, sampleConfig in read.get(what = \"full\", add_jec = True, for_prediction = True):\n",
    "    if \"data\" in sampleConfig[\"histname\"]:\n",
    "        sandbox(channel, model_loaded, scaler, sample, variables, \"NOMINAL_ntuple_Data\", outpath, sampleConfig, read.modifyDF)\n",
    "    elif \"full\" in sampleConfig[\"histname\"]:\n",
    "        sandbox(channel, model_loaded, scaler, sample, variables,  \"NOMINAL_ntuple_\" + sampleConfig[\"histname\"].split(\"_\")[0], outpath, sampleConfig, read.modifyDF )\n",
    "    else:\n",
    "        splName = sampleConfig[\"histname\"].split(\"_\")\n",
    "        sandbox(channel, model_loaded, scaler, sample, variables,  \"_\".join(splName[1:])+\"_ntuple_\" + sampleConfig[\"histname\"].split(\"_\")[0], outpath, sampleConfig, read.modifyDF )"
   ]
  },
  {
   "cell_type": "markdown",
   "metadata": {},
   "source": [
    "### Tests with NN predictions"
   ]
  },
  {
   "cell_type": "code",
   "execution_count": 17,
   "metadata": {},
   "outputs": [
    {
     "ename": "OSError",
     "evalue": "cannot read /nfs/dust/cms/user/filatovo/HTT/CMSSW_10_2_16/src/mlFramework/outputs/predictions_2017/mt-NOMINAL_ntuple_DY.root",
     "output_type": "error",
     "traceback": [
      "\u001b[0;31m---------------------------------------------------------------------------\u001b[0m",
      "\u001b[0;31mOSError\u001b[0m                                   Traceback (most recent call last)",
      "\u001b[0;32m<ipython-input-17-e00d31c81db1>\u001b[0m in \u001b[0;36m<module>\u001b[0;34m\u001b[0m\n\u001b[0;32m----> 1\u001b[0;31m \u001b[0mDY_predict_up\u001b[0m \u001b[0;34m=\u001b[0m \u001b[0mrp\u001b[0m\u001b[0;34m.\u001b[0m\u001b[0mread_root\u001b[0m\u001b[0;34m(\u001b[0m\u001b[0moutpath\u001b[0m \u001b[0;34m+\u001b[0m \u001b[0;34m'/mt-NOMINAL_ntuple_DY.root'\u001b[0m\u001b[0;34m,\u001b[0m \u001b[0mkey\u001b[0m\u001b[0;34m=\u001b[0m\u001b[0;34m'TauCheck_CMS_scale_j_JES13TeVUp'\u001b[0m\u001b[0;34m)\u001b[0m\u001b[0;34m\u001b[0m\u001b[0;34m\u001b[0m\u001b[0m\n\u001b[0m\u001b[1;32m      2\u001b[0m \u001b[0mDY_predict_down\u001b[0m \u001b[0;34m=\u001b[0m \u001b[0mrp\u001b[0m\u001b[0;34m.\u001b[0m\u001b[0mread_root\u001b[0m\u001b[0;34m(\u001b[0m\u001b[0moutpath\u001b[0m \u001b[0;34m+\u001b[0m \u001b[0;34m'/mt-NOMINAL_ntuple_DY.root'\u001b[0m\u001b[0;34m,\u001b[0m \u001b[0mkey\u001b[0m\u001b[0;34m=\u001b[0m\u001b[0;34m'TauCheck_CMS_scale_j_JES13TeVDown'\u001b[0m\u001b[0;34m)\u001b[0m\u001b[0;34m\u001b[0m\u001b[0;34m\u001b[0m\u001b[0m\n\u001b[1;32m      3\u001b[0m \u001b[0mDY_predict_center\u001b[0m \u001b[0;34m=\u001b[0m \u001b[0mrp\u001b[0m\u001b[0;34m.\u001b[0m\u001b[0mread_root\u001b[0m\u001b[0;34m(\u001b[0m\u001b[0moutpath\u001b[0m \u001b[0;34m+\u001b[0m \u001b[0;34m'/mt-NOMINAL_ntuple_DY.root'\u001b[0m\u001b[0;34m,\u001b[0m \u001b[0mkey\u001b[0m\u001b[0;34m=\u001b[0m\u001b[0;34m'TauCheck'\u001b[0m\u001b[0;34m)\u001b[0m\u001b[0;34m\u001b[0m\u001b[0;34m\u001b[0m\u001b[0m\n",
      "\u001b[0;32m~/.local/lib/python3.6/site-packages/root_pandas/readwrite.py\u001b[0m in \u001b[0;36mread_root\u001b[0;34m(paths, key, columns, ignore, chunksize, where, flatten, *args, **kwargs)\u001b[0m\n\u001b[1;32m    204\u001b[0m     \u001b[0;31m# Use a single file to search for trees and branches, ensuring the key exists\u001b[0m\u001b[0;34m\u001b[0m\u001b[0;34m\u001b[0m\u001b[0;34m\u001b[0m\u001b[0m\n\u001b[1;32m    205\u001b[0m     \u001b[0;32mfor\u001b[0m \u001b[0mseed_path\u001b[0m \u001b[0;32min\u001b[0m \u001b[0mpaths\u001b[0m\u001b[0;34m:\u001b[0m\u001b[0;34m\u001b[0m\u001b[0;34m\u001b[0m\u001b[0m\n\u001b[0;32m--> 206\u001b[0;31m         \u001b[0mtrees\u001b[0m \u001b[0;34m=\u001b[0m \u001b[0mlist_trees\u001b[0m\u001b[0;34m(\u001b[0m\u001b[0mseed_path\u001b[0m\u001b[0;34m)\u001b[0m\u001b[0;34m\u001b[0m\u001b[0;34m\u001b[0m\u001b[0m\n\u001b[0m\u001b[1;32m    207\u001b[0m         \u001b[0;32mif\u001b[0m \u001b[0mkey\u001b[0m \u001b[0;32mand\u001b[0m \u001b[0mkey\u001b[0m \u001b[0;32mnot\u001b[0m \u001b[0;32min\u001b[0m \u001b[0mtrees\u001b[0m\u001b[0;34m:\u001b[0m\u001b[0;34m\u001b[0m\u001b[0;34m\u001b[0m\u001b[0m\n\u001b[1;32m    208\u001b[0m             \u001b[0;32mcontinue\u001b[0m\u001b[0;34m\u001b[0m\u001b[0;34m\u001b[0m\u001b[0m\n",
      "\u001b[0;32m/usr/local/lib64/python3.6/site-packages/root_numpy/_tree.py\u001b[0m in \u001b[0;36mlist_trees\u001b[0;34m(filename)\u001b[0m\n\u001b[1;32m     53\u001b[0m \u001b[0;34m\u001b[0m\u001b[0m\n\u001b[1;32m     54\u001b[0m     \"\"\"\n\u001b[0;32m---> 55\u001b[0;31m     \u001b[0;32mreturn\u001b[0m \u001b[0m_librootnumpy\u001b[0m\u001b[0;34m.\u001b[0m\u001b[0mlist_trees\u001b[0m\u001b[0;34m(\u001b[0m\u001b[0mfilename\u001b[0m\u001b[0;34m)\u001b[0m\u001b[0;34m\u001b[0m\u001b[0;34m\u001b[0m\u001b[0m\n\u001b[0m\u001b[1;32m     56\u001b[0m \u001b[0;34m\u001b[0m\u001b[0m\n\u001b[1;32m     57\u001b[0m \u001b[0;34m\u001b[0m\u001b[0m\n",
      "\u001b[0;32mroot_numpy/src/tree.pyx\u001b[0m in \u001b[0;36m_librootnumpy.list_trees\u001b[0;34m()\u001b[0m\n",
      "\u001b[0;32mroot_numpy/src/tree.pyx\u001b[0m in \u001b[0;36m_librootnumpy.list_objects\u001b[0;34m()\u001b[0m\n",
      "\u001b[0;31mOSError\u001b[0m: cannot read /nfs/dust/cms/user/filatovo/HTT/CMSSW_10_2_16/src/mlFramework/outputs/predictions_2017/mt-NOMINAL_ntuple_DY.root"
     ]
    },
    {
     "name": "stderr",
     "output_type": "stream",
     "text": [
      "Error in <TFile::TFile>: file /nfs/dust/cms/user/filatovo/HTT/CMSSW_10_2_16/src/mlFramework/outputs/predictions_2017/mt-NOMINAL_ntuple_DY.root does not exist\n"
     ]
    }
   ],
   "source": [
    "DY_predict_up = rp.read_root(outpath + '/mt-NOMINAL_ntuple_DY.root', key='TauCheck_CMS_scale_j_JES13TeVUp')\n",
    "DY_predict_down = rp.read_root(outpath + '/mt-NOMINAL_ntuple_DY.root', key='TauCheck_CMS_scale_j_JES13TeVDown')\n",
    "DY_predict_center = rp.read_root(outpath + '/mt-NOMINAL_ntuple_DY.root', key='TauCheck')"
   ]
  },
  {
   "cell_type": "code",
   "execution_count": null,
   "metadata": {},
   "outputs": [],
   "source": [
    "ggH_predict_up = rp.read_root(outpath + '/mt-NOMINAL_ntuple_ggH125.root', key='TauCheck_CMS_scale_j_JES13TeVUp')\n",
    "ggH_predict_down = rp.read_root(outpath + '/mt-NOMINAL_ntuple_ggH125.root', key='TauCheck_CMS_scale_j_JES13TeVDown')\n",
    "ggH_predict_center = rp.read_root(outpath + '/mt-NOMINAL_ntuple_ggH125.root', key='TauCheck')"
   ]
  },
  {
   "cell_type": "code",
   "execution_count": 49,
   "metadata": {},
   "outputs": [
    {
     "data": {
      "text/plain": [
       "Text(0.5, 1.0, 'DY')"
      ]
     },
     "execution_count": 49,
     "metadata": {},
     "output_type": "execute_result"
    },
    {
     "data": {
      "image/png": "[encoded data removed]",
      "text/plain": [
       "<Figure size 432x288 with 1 Axes>"
      ]
     },
     "metadata": {
      "needs_background": "light"
     },
     "output_type": "display_data"
    }
   ],
   "source": [
    "sns.distplot(DY_predict_up.predicted_prob, label='Up', hist=False)\n",
    "sns.distplot(DY_predict_down.predicted_prob, label='Down', hist=False)\n",
    "sns.distplot(DY_predict_center.predicted_prob, label='Center', hist=False)\n",
    "plt.legend()\n",
    "plt.title('DY')"
   ]
  },
  {
   "cell_type": "code",
   "execution_count": 50,
   "metadata": {},
   "outputs": [
    {
     "data": {
      "text/plain": [
       "Text(0.5, 1.0, 'ggH')"
      ]
     },
     "execution_count": 50,
     "metadata": {},
     "output_type": "execute_result"
    },
    {
     "data": {
      "image/png": "[encoded data removed]",
      "text/plain": [
       "<Figure size 432x288 with 1 Axes>"
      ]
     },
     "metadata": {
      "needs_background": "light"
     },
     "output_type": "display_data"
    }
   ],
   "source": [
    "sns.distplot(ggH_predict_up.predicted_prob, label='Up', hist=False)\n",
    "sns.distplot(ggH_predict_down.predicted_prob, label = 'Down', hist=False)\n",
    "sns.distplot(ggH_predict_center.predicted_prob, label = 'Center', hist=False)\n",
    "plt.legend()\n",
    "plt.title('ggH')"
   ]
  },
  {
   "cell_type": "code",
   "execution_count": null,
   "metadata": {},
   "outputs": [],
   "source": []
  }
 ],
 "metadata": {
  "kernelspec": {
   "display_name": "Python 3",
   "language": "python",
   "name": "python3"
  },
  "language_info": {
   "codemirror_mode": {
    "name": "ipython",
    "version": 3
   },
   "file_extension": ".py",
   "mimetype": "text/x-python",
   "name": "python",
   "nbconvert_exporter": "python",
   "pygments_lexer": "ipython3",
   "version": "3.6.8"
  }
 },
 "nbformat": 4,
 "nbformat_minor": 4
}
